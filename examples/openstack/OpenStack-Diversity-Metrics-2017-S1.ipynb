{
 "cells": [
  {
   "cell_type": "code",
   "execution_count": 1,
   "metadata": {},
   "outputs": [
    {
     "data": {
      "text/html": [
       "<script>requirejs.config({paths: { 'plotly': ['https://cdn.plot.ly/plotly-latest.min']},});if(!window.Plotly) {{require(['plotly'],function(plotly) {window.Plotly=plotly;});}}</script>"
      ],
      "text/vnd.plotly.v1+html": [
       "<script>requirejs.config({paths: { 'plotly': ['https://cdn.plot.ly/plotly-latest.min']},});if(!window.Plotly) {{require(['plotly'],function(plotly) {window.Plotly=plotly;});}}</script>"
      ]
     },
     "metadata": {},
     "output_type": "display_data"
    }
   ],
   "source": [
    "import plotly\n",
    "import plotly.plotly as py\n",
    "from plotly.offline import download_plotlyjs, init_notebook_mode, plot, iplot\n",
    "\n",
    "import pandas\n",
    "\n",
    "#from util import ESConnection\n",
    "#from elasticsearch_dsl import Search, Q\n",
    "\n",
    "#es_conn = ESConnection()\n",
    "\n",
    "init_notebook_mode(connected=True)\n",
    "\n",
    "\n",
    "INIT_DATE_4Y = '2013-10-01'\n",
    "INIT_DATE_1Y = '2016-10-01'\n",
    "END_DATE = '2017-10-01'"
   ]
  },
  {
   "cell_type": "code",
   "execution_count": 2,
   "metadata": {
    "scrolled": false
   },
   "outputs": [
    {
     "data": {
      "application/vnd.plotly.v1+json": {
       "data": [
        {
         "type": "scatter",
         "x": [
          1,
          2,
          3,
          4
         ],
         "y": [
          10,
          15,
          13,
          17
         ]
        },
        {
         "type": "scatter",
         "x": [
          1,
          2,
          3,
          4
         ],
         "y": [
          16,
          5,
          11,
          9
         ]
        }
       ],
       "layout": {}
      },
      "text/html": [
       "<div id=\"b0bdfd16-997b-401e-8014-5a322fef4276\" style=\"height: 525px; width: 100%;\" class=\"plotly-graph-div\"></div><script type=\"text/javascript\">require([\"plotly\"], function(Plotly) { window.PLOTLYENV=window.PLOTLYENV || {};window.PLOTLYENV.BASE_URL=\"https://plot.ly\";Plotly.newPlot(\"b0bdfd16-997b-401e-8014-5a322fef4276\", [{\"type\": \"scatter\", \"x\": [1, 2, 3, 4], \"y\": [10, 15, 13, 17]}, {\"type\": \"scatter\", \"x\": [1, 2, 3, 4], \"y\": [16, 5, 11, 9]}], {}, {\"showLink\": true, \"linkText\": \"Export to plot.ly\"})});</script>"
      ],
      "text/vnd.plotly.v1+html": [
       "<div id=\"b0bdfd16-997b-401e-8014-5a322fef4276\" style=\"height: 525px; width: 100%;\" class=\"plotly-graph-div\"></div><script type=\"text/javascript\">require([\"plotly\"], function(Plotly) { window.PLOTLYENV=window.PLOTLYENV || {};window.PLOTLYENV.BASE_URL=\"https://plot.ly\";Plotly.newPlot(\"b0bdfd16-997b-401e-8014-5a322fef4276\", [{\"type\": \"scatter\", \"x\": [1, 2, 3, 4], \"y\": [10, 15, 13, 17]}, {\"type\": \"scatter\", \"x\": [1, 2, 3, 4], \"y\": [16, 5, 11, 9]}], {}, {\"showLink\": true, \"linkText\": \"Export to plot.ly\"})});</script>"
      ]
     },
     "metadata": {},
     "output_type": "display_data"
    }
   ],
   "source": [
    "from plotly.graph_objs import *\n",
    "trace0 = Scatter(\n",
    "    x=[1, 2, 3, 4],\n",
    "    y=[10, 15, 13, 17]\n",
    ")\n",
    "trace1 = Scatter(\n",
    "    x=[1, 2, 3, 4],\n",
    "    y=[16, 5, 11, 9]\n",
    ")\n",
    "data = Data([trace0, trace1])\n",
    "\n",
    "iplot(data)"
   ]
  },
  {
   "cell_type": "markdown",
   "metadata": {},
   "source": [
    "## Basic metrics to be in the report:\n",
    "\n",
    "**Git**\n",
    "* Evolution and trends over time [per quarter] of commits by gender\n",
    "  * Commits by gender (columns: hash, gender)\n",
    "* Evolution and trends [per quarter] of developers over time by gender\n",
    "  * Developers by gender (columns: name, uuid, gender)\n",
    "* Evolution and trends of type of contributions (code or others) by gender over time\n",
    "  * Type of file touched by developers (columns: filetype, gender)\n",
    "\n",
    "**Gerrit**\n",
    "* Evolution of code reviews over time by gender\n",
    "  * Count votes by gender (vote, gender)\n",
    "* Evolution of code reviews developers over time by gender\n",
    "  * Count people voting (name, uuid, vote)\n",
    "* Evolution of core reviews over time by gender\n",
    "  * Votes +2 or -2 (vote +2/-2 and gender)\n",
    "* Evolution of core review developers over time by gender\n",
    "  * People voting +2 or -2 (name, uuid, vote +2/-2, gender)\n",
    "\n",
    "**Others**\n",
    "* Evolution of attracted developers over time by gender\n",
    "  * First commit by gender\n",
    "* Time working in the community by gender\n",
    "  * Time difference between the first and last contribution by all developers (so how long developers remain in OpenStack?)."
   ]
  },
  {
   "cell_type": "markdown",
   "metadata": {},
   "source": [
    "# SOME FUNCTIONS"
   ]
  },
  {
   "cell_type": "code",
   "execution_count": 2,
   "metadata": {
    "collapsed": true
   },
   "outputs": [],
   "source": [
    "def query_metric_over_time(index, metric_name, metric_field, filters = []):\n",
    "    \n",
    "    s = Search(using=es_conn, index=index)  # Index selection\n",
    "    for filtering in filters:\n",
    "        s = s.filter(filtering)\n",
    "    s.aggs.bucket('gender', 'terms', field='gender')\\\n",
    "          .bucket('time', 'date_histogram', field='date', interval='quarter')\\\n",
    "          .metric(metric_name, 'cardinality', field=metric_field, precision_threshold=10000)\n",
    "    result = s.execute()\n",
    "\n",
    "    value = result.to_dict()[\"aggregations\"]['gender']['buckets']\n",
    "    \n",
    "    df = pandas.DataFrame()\n",
    "    for i in value:\n",
    "        df2 = (pandas.DataFrame.from_dict(i[\"time\"][\"buckets\"]))\n",
    "        df2[\"gender\"] = i[\"key\"]\n",
    "        df2[metric_name] = df2[metric_name].apply(lambda row:row[\"value\"])\n",
    "        df = pandas.concat([df, df2])\n",
    "        \n",
    "    return df"
   ]
  },
  {
   "cell_type": "code",
   "execution_count": 3,
   "metadata": {
    "collapsed": true
   },
   "outputs": [],
   "source": [
    "def query_total_piechart(index, metric_name, metric_field, filters = []):\n",
    "    s = Search(using=es_conn, index=index)  # Index selection\n",
    "    for filtering in filters:\n",
    "        s = s.filter(filtering)\n",
    "    #s = s.filter('range', date={'gt': start_date, 'lt':'now/M'}) # filter date\n",
    "    s.aggs.bucket('gender', 'terms', field='gender')\\\n",
    "          .metric(metric_name, 'cardinality', field=metric_field, precision_threshold=1000000)\n",
    "    result = s.execute()\n",
    "    \n",
    "    buckets = result.to_dict()[\"aggregations\"][\"gender\"][\"buckets\"]\n",
    "    pie_chart_labels = []\n",
    "    pie_chart_values = []\n",
    "    pie_chart_count = []\n",
    "    for bucket in buckets:\n",
    "        pie_chart_labels.append(bucket[\"key\"])\n",
    "        pie_chart_values.append(bucket[metric_name][\"value\"])\n",
    "        pie_chart_count.append(bucket[\"doc_count\"])\n",
    "        \n",
    "    return pie_chart_labels, pie_chart_values, pie_chart_count"
   ]
  },
  {
   "cell_type": "code",
   "execution_count": 4,
   "metadata": {
    "collapsed": true
   },
   "outputs": [],
   "source": [
    "def draw_evolutionary_chart(label, values):\n",
    "    female_changesets = plotly.graph_objs.Scatter(\n",
    "    x = df[df[\"gender\"]==\"female\"][label],\n",
    "    y = df[df[\"gender\"]==\"female\"][values],\n",
    "    name = 'female'\n",
    "    )\n",
    "\n",
    "    male_changesets = plotly.graph_objs.Scatter(\n",
    "        x = df[df[\"gender\"]==\"male\"][label],\n",
    "        y = df[df[\"gender\"]==\"male\"][values],\n",
    "        name = 'male'\n",
    "    )\n",
    "\n",
    "    unknown_changesets = plotly.graph_objs.Scatter(\n",
    "        x = df[df[\"gender\"]==\"NotKnown\"][label],\n",
    "        y = df[df[\"gender\"]==\"NotKnown\"][values],\n",
    "        name = 'unknown'\n",
    "    )\n",
    "\n",
    "    iplot([female_changesets, male_changesets, unknown_changesets])\n",
    "    # Using only plot and not iplot creates and HTML page with JS to play with the chart"
   ]
  },
  {
   "cell_type": "code",
   "execution_count": 5,
   "metadata": {
    "collapsed": true
   },
   "outputs": [],
   "source": [
    "def draw_piechart(pie_chart_labels, pie_chart_values, title):\n",
    "            \n",
    "    fig = {\n",
    "    'data': [{'labels': pie_chart_labels,\n",
    "              'values': pie_chart_values,\n",
    "              'type': 'pie'}],\n",
    "    'layout': {'title': title}\n",
    "     }\n",
    "    iplot(fig)"
   ]
  },
  {
   "cell_type": "markdown",
   "metadata": {},
   "source": [
    "# GERRIT"
   ]
  },
  {
   "cell_type": "code",
   "execution_count": 6,
   "metadata": {
    "collapsed": true
   },
   "outputs": [],
   "source": [
    "INDEX = \"gerrit_eventized\"\n",
    "filter_date_4y = Q('range', date={'gte': INIT_DATE_4Y, 'lt': END_DATE})\n",
    "filter_date_1y = Q('range', date={'gt': INIT_DATE_1Y, 'lt': END_DATE})"
   ]
  },
  {
   "cell_type": "markdown",
   "metadata": {},
   "source": [
    "## Changeset Submissions by Gender\n",
    "\n",
    "### Evolution of submissions sent over time by gender\n"
   ]
  },
  {
   "cell_type": "code",
   "execution_count": 7,
   "metadata": {
    "collapsed": true
   },
   "outputs": [],
   "source": [
    "METRIC_NAME = \"changesets\"\n",
    "METRIC_FIELD = \"id\"\n",
    "filter_changeset_submission = Q('term', eventtype='CHANGESET_SENT') # filter by event: vote a code review\n",
    "df = query_metric_over_time(INDEX, METRIC_NAME, METRIC_FIELD, [filter_date_4y, filter_changeset_submission])"
   ]
  },
  {
   "cell_type": "code",
   "execution_count": 8,
   "metadata": {},
   "outputs": [
    {
     "data": {
      "application/vnd.plotly.v1+json": {
       "data": [
        {
         "name": "female",
         "type": "scatter",
         "x": [
          "2013-10-01T00:00:00.000Z",
          "2014-01-01T00:00:00.000Z",
          "2014-04-01T00:00:00.000Z",
          "2014-07-01T00:00:00.000Z",
          "2014-10-01T00:00:00.000Z",
          "2015-01-01T00:00:00.000Z",
          "2015-04-01T00:00:00.000Z",
          "2015-07-01T00:00:00.000Z",
          "2015-10-01T00:00:00.000Z",
          "2016-01-01T00:00:00.000Z",
          "2016-04-01T00:00:00.000Z",
          "2016-07-01T00:00:00.000Z",
          "2016-10-01T00:00:00.000Z",
          "2017-01-01T00:00:00.000Z",
          "2017-04-01T00:00:00.000Z"
         ],
         "y": [
          1702,
          1943,
          1586,
          1893,
          1603,
          2158,
          2652,
          3171,
          2903,
          3207,
          2998,
          3571,
          2422,
          2833,
          292
         ]
        },
        {
         "name": "male",
         "type": "scatter",
         "x": [
          "2013-10-01T00:00:00.000Z",
          "2014-01-01T00:00:00.000Z",
          "2014-04-01T00:00:00.000Z",
          "2014-07-01T00:00:00.000Z",
          "2014-10-01T00:00:00.000Z",
          "2015-01-01T00:00:00.000Z",
          "2015-04-01T00:00:00.000Z",
          "2015-07-01T00:00:00.000Z",
          "2015-10-01T00:00:00.000Z",
          "2016-01-01T00:00:00.000Z",
          "2016-04-01T00:00:00.000Z",
          "2016-07-01T00:00:00.000Z",
          "2016-10-01T00:00:00.000Z",
          "2017-01-01T00:00:00.000Z",
          "2017-04-01T00:00:00.000Z"
         ],
         "y": [
          11646,
          14878,
          15121,
          16318,
          14421,
          18582,
          20717,
          23271,
          23414,
          27086,
          25623,
          31439,
          24024,
          23474,
          3268
         ]
        },
        {
         "name": "unknown",
         "type": "scatter",
         "x": [
          "2013-10-01T00:00:00.000Z",
          "2014-01-01T00:00:00.000Z",
          "2014-04-01T00:00:00.000Z",
          "2014-07-01T00:00:00.000Z",
          "2014-10-01T00:00:00.000Z",
          "2015-01-01T00:00:00.000Z",
          "2015-04-01T00:00:00.000Z",
          "2015-07-01T00:00:00.000Z",
          "2015-10-01T00:00:00.000Z",
          "2016-01-01T00:00:00.000Z",
          "2016-04-01T00:00:00.000Z",
          "2016-07-01T00:00:00.000Z",
          "2016-10-01T00:00:00.000Z",
          "2017-01-01T00:00:00.000Z",
          "2017-04-01T00:00:00.000Z"
         ],
         "y": [
          2020,
          2650,
          2685,
          3086,
          3252,
          3912,
          4285,
          5659,
          6648,
          6707,
          7058,
          8971,
          8499,
          8779,
          1194
         ]
        }
       ],
       "layout": {}
      },
      "text/html": [
       "<div id=\"940460a4-4144-4b3b-9f67-518ba683b278\" style=\"height: 525px; width: 100%;\" class=\"plotly-graph-div\"></div><script type=\"text/javascript\">require([\"plotly\"], function(Plotly) { window.PLOTLYENV=window.PLOTLYENV || {};window.PLOTLYENV.BASE_URL=\"https://plot.ly\";Plotly.newPlot(\"940460a4-4144-4b3b-9f67-518ba683b278\", [{\"type\": \"scatter\", \"name\": \"female\", \"x\": [\"2013-10-01T00:00:00.000Z\", \"2014-01-01T00:00:00.000Z\", \"2014-04-01T00:00:00.000Z\", \"2014-07-01T00:00:00.000Z\", \"2014-10-01T00:00:00.000Z\", \"2015-01-01T00:00:00.000Z\", \"2015-04-01T00:00:00.000Z\", \"2015-07-01T00:00:00.000Z\", \"2015-10-01T00:00:00.000Z\", \"2016-01-01T00:00:00.000Z\", \"2016-04-01T00:00:00.000Z\", \"2016-07-01T00:00:00.000Z\", \"2016-10-01T00:00:00.000Z\", \"2017-01-01T00:00:00.000Z\", \"2017-04-01T00:00:00.000Z\"], \"y\": [1702, 1943, 1586, 1893, 1603, 2158, 2652, 3171, 2903, 3207, 2998, 3571, 2422, 2833, 292]}, {\"type\": \"scatter\", \"name\": \"male\", \"x\": [\"2013-10-01T00:00:00.000Z\", \"2014-01-01T00:00:00.000Z\", \"2014-04-01T00:00:00.000Z\", \"2014-07-01T00:00:00.000Z\", \"2014-10-01T00:00:00.000Z\", \"2015-01-01T00:00:00.000Z\", \"2015-04-01T00:00:00.000Z\", \"2015-07-01T00:00:00.000Z\", \"2015-10-01T00:00:00.000Z\", \"2016-01-01T00:00:00.000Z\", \"2016-04-01T00:00:00.000Z\", \"2016-07-01T00:00:00.000Z\", \"2016-10-01T00:00:00.000Z\", \"2017-01-01T00:00:00.000Z\", \"2017-04-01T00:00:00.000Z\"], \"y\": [11646, 14878, 15121, 16318, 14421, 18582, 20717, 23271, 23414, 27086, 25623, 31439, 24024, 23474, 3268]}, {\"type\": \"scatter\", \"name\": \"unknown\", \"x\": [\"2013-10-01T00:00:00.000Z\", \"2014-01-01T00:00:00.000Z\", \"2014-04-01T00:00:00.000Z\", \"2014-07-01T00:00:00.000Z\", \"2014-10-01T00:00:00.000Z\", \"2015-01-01T00:00:00.000Z\", \"2015-04-01T00:00:00.000Z\", \"2015-07-01T00:00:00.000Z\", \"2015-10-01T00:00:00.000Z\", \"2016-01-01T00:00:00.000Z\", \"2016-04-01T00:00:00.000Z\", \"2016-07-01T00:00:00.000Z\", \"2016-10-01T00:00:00.000Z\", \"2017-01-01T00:00:00.000Z\", \"2017-04-01T00:00:00.000Z\"], \"y\": [2020, 2650, 2685, 3086, 3252, 3912, 4285, 5659, 6648, 6707, 7058, 8971, 8499, 8779, 1194]}], {}, {\"linkText\": \"Export to plot.ly\", \"showLink\": true})});</script>"
      ],
      "text/vnd.plotly.v1+html": [
       "<div id=\"940460a4-4144-4b3b-9f67-518ba683b278\" style=\"height: 525px; width: 100%;\" class=\"plotly-graph-div\"></div><script type=\"text/javascript\">require([\"plotly\"], function(Plotly) { window.PLOTLYENV=window.PLOTLYENV || {};window.PLOTLYENV.BASE_URL=\"https://plot.ly\";Plotly.newPlot(\"940460a4-4144-4b3b-9f67-518ba683b278\", [{\"type\": \"scatter\", \"name\": \"female\", \"x\": [\"2013-10-01T00:00:00.000Z\", \"2014-01-01T00:00:00.000Z\", \"2014-04-01T00:00:00.000Z\", \"2014-07-01T00:00:00.000Z\", \"2014-10-01T00:00:00.000Z\", \"2015-01-01T00:00:00.000Z\", \"2015-04-01T00:00:00.000Z\", \"2015-07-01T00:00:00.000Z\", \"2015-10-01T00:00:00.000Z\", \"2016-01-01T00:00:00.000Z\", \"2016-04-01T00:00:00.000Z\", \"2016-07-01T00:00:00.000Z\", \"2016-10-01T00:00:00.000Z\", \"2017-01-01T00:00:00.000Z\", \"2017-04-01T00:00:00.000Z\"], \"y\": [1702, 1943, 1586, 1893, 1603, 2158, 2652, 3171, 2903, 3207, 2998, 3571, 2422, 2833, 292]}, {\"type\": \"scatter\", \"name\": \"male\", \"x\": [\"2013-10-01T00:00:00.000Z\", \"2014-01-01T00:00:00.000Z\", \"2014-04-01T00:00:00.000Z\", \"2014-07-01T00:00:00.000Z\", \"2014-10-01T00:00:00.000Z\", \"2015-01-01T00:00:00.000Z\", \"2015-04-01T00:00:00.000Z\", \"2015-07-01T00:00:00.000Z\", \"2015-10-01T00:00:00.000Z\", \"2016-01-01T00:00:00.000Z\", \"2016-04-01T00:00:00.000Z\", \"2016-07-01T00:00:00.000Z\", \"2016-10-01T00:00:00.000Z\", \"2017-01-01T00:00:00.000Z\", \"2017-04-01T00:00:00.000Z\"], \"y\": [11646, 14878, 15121, 16318, 14421, 18582, 20717, 23271, 23414, 27086, 25623, 31439, 24024, 23474, 3268]}, {\"type\": \"scatter\", \"name\": \"unknown\", \"x\": [\"2013-10-01T00:00:00.000Z\", \"2014-01-01T00:00:00.000Z\", \"2014-04-01T00:00:00.000Z\", \"2014-07-01T00:00:00.000Z\", \"2014-10-01T00:00:00.000Z\", \"2015-01-01T00:00:00.000Z\", \"2015-04-01T00:00:00.000Z\", \"2015-07-01T00:00:00.000Z\", \"2015-10-01T00:00:00.000Z\", \"2016-01-01T00:00:00.000Z\", \"2016-04-01T00:00:00.000Z\", \"2016-07-01T00:00:00.000Z\", \"2016-10-01T00:00:00.000Z\", \"2017-01-01T00:00:00.000Z\", \"2017-04-01T00:00:00.000Z\"], \"y\": [2020, 2650, 2685, 3086, 3252, 3912, 4285, 5659, 6648, 6707, 7058, 8971, 8499, 8779, 1194]}], {}, {\"linkText\": \"Export to plot.ly\", \"showLink\": true})});</script>"
      ]
     },
     "metadata": {},
     "output_type": "display_data"
    }
   ],
   "source": [
    "draw_evolutionary_chart(\"key_as_string\", METRIC_NAME)"
   ]
  },
  {
   "cell_type": "code",
   "execution_count": 9,
   "metadata": {},
   "outputs": [
    {
     "data": {
      "text/html": [
       "<div>\n",
       "<table border=\"1\" class=\"dataframe\">\n",
       "  <thead>\n",
       "    <tr style=\"text-align: right;\">\n",
       "      <th></th>\n",
       "      <th>changesets</th>\n",
       "      <th>doc_count</th>\n",
       "      <th>key</th>\n",
       "      <th>key_as_string</th>\n",
       "      <th>gender</th>\n",
       "    </tr>\n",
       "  </thead>\n",
       "  <tbody>\n",
       "    <tr>\n",
       "      <th>0</th>\n",
       "      <td>11646</td>\n",
       "      <td>11647</td>\n",
       "      <td>1380585600000</td>\n",
       "      <td>2013-10-01T00:00:00.000Z</td>\n",
       "      <td>male</td>\n",
       "    </tr>\n",
       "    <tr>\n",
       "      <th>1</th>\n",
       "      <td>14878</td>\n",
       "      <td>14843</td>\n",
       "      <td>1388534400000</td>\n",
       "      <td>2014-01-01T00:00:00.000Z</td>\n",
       "      <td>male</td>\n",
       "    </tr>\n",
       "    <tr>\n",
       "      <th>2</th>\n",
       "      <td>15121</td>\n",
       "      <td>15127</td>\n",
       "      <td>1396310400000</td>\n",
       "      <td>2014-04-01T00:00:00.000Z</td>\n",
       "      <td>male</td>\n",
       "    </tr>\n",
       "    <tr>\n",
       "      <th>3</th>\n",
       "      <td>16318</td>\n",
       "      <td>16304</td>\n",
       "      <td>1404172800000</td>\n",
       "      <td>2014-07-01T00:00:00.000Z</td>\n",
       "      <td>male</td>\n",
       "    </tr>\n",
       "    <tr>\n",
       "      <th>4</th>\n",
       "      <td>14421</td>\n",
       "      <td>14408</td>\n",
       "      <td>1412121600000</td>\n",
       "      <td>2014-10-01T00:00:00.000Z</td>\n",
       "      <td>male</td>\n",
       "    </tr>\n",
       "    <tr>\n",
       "      <th>5</th>\n",
       "      <td>18582</td>\n",
       "      <td>18573</td>\n",
       "      <td>1420070400000</td>\n",
       "      <td>2015-01-01T00:00:00.000Z</td>\n",
       "      <td>male</td>\n",
       "    </tr>\n",
       "    <tr>\n",
       "      <th>6</th>\n",
       "      <td>20717</td>\n",
       "      <td>20686</td>\n",
       "      <td>1427846400000</td>\n",
       "      <td>2015-04-01T00:00:00.000Z</td>\n",
       "      <td>male</td>\n",
       "    </tr>\n",
       "    <tr>\n",
       "      <th>7</th>\n",
       "      <td>23271</td>\n",
       "      <td>23224</td>\n",
       "      <td>1435708800000</td>\n",
       "      <td>2015-07-01T00:00:00.000Z</td>\n",
       "      <td>male</td>\n",
       "    </tr>\n",
       "    <tr>\n",
       "      <th>8</th>\n",
       "      <td>23414</td>\n",
       "      <td>23483</td>\n",
       "      <td>1443657600000</td>\n",
       "      <td>2015-10-01T00:00:00.000Z</td>\n",
       "      <td>male</td>\n",
       "    </tr>\n",
       "    <tr>\n",
       "      <th>9</th>\n",
       "      <td>27086</td>\n",
       "      <td>27294</td>\n",
       "      <td>1451606400000</td>\n",
       "      <td>2016-01-01T00:00:00.000Z</td>\n",
       "      <td>male</td>\n",
       "    </tr>\n",
       "    <tr>\n",
       "      <th>10</th>\n",
       "      <td>25623</td>\n",
       "      <td>25843</td>\n",
       "      <td>1459468800000</td>\n",
       "      <td>2016-04-01T00:00:00.000Z</td>\n",
       "      <td>male</td>\n",
       "    </tr>\n",
       "    <tr>\n",
       "      <th>11</th>\n",
       "      <td>31439</td>\n",
       "      <td>31837</td>\n",
       "      <td>1467331200000</td>\n",
       "      <td>2016-07-01T00:00:00.000Z</td>\n",
       "      <td>male</td>\n",
       "    </tr>\n",
       "    <tr>\n",
       "      <th>12</th>\n",
       "      <td>24024</td>\n",
       "      <td>25106</td>\n",
       "      <td>1475280000000</td>\n",
       "      <td>2016-10-01T00:00:00.000Z</td>\n",
       "      <td>male</td>\n",
       "    </tr>\n",
       "    <tr>\n",
       "      <th>13</th>\n",
       "      <td>23474</td>\n",
       "      <td>27806</td>\n",
       "      <td>1483228800000</td>\n",
       "      <td>2017-01-01T00:00:00.000Z</td>\n",
       "      <td>male</td>\n",
       "    </tr>\n",
       "    <tr>\n",
       "      <th>14</th>\n",
       "      <td>3268</td>\n",
       "      <td>6392</td>\n",
       "      <td>1491004800000</td>\n",
       "      <td>2017-04-01T00:00:00.000Z</td>\n",
       "      <td>male</td>\n",
       "    </tr>\n",
       "    <tr>\n",
       "      <th>0</th>\n",
       "      <td>2020</td>\n",
       "      <td>2020</td>\n",
       "      <td>1380585600000</td>\n",
       "      <td>2013-10-01T00:00:00.000Z</td>\n",
       "      <td>NotKnown</td>\n",
       "    </tr>\n",
       "    <tr>\n",
       "      <th>1</th>\n",
       "      <td>2650</td>\n",
       "      <td>2650</td>\n",
       "      <td>1388534400000</td>\n",
       "      <td>2014-01-01T00:00:00.000Z</td>\n",
       "      <td>NotKnown</td>\n",
       "    </tr>\n",
       "    <tr>\n",
       "      <th>2</th>\n",
       "      <td>2685</td>\n",
       "      <td>2686</td>\n",
       "      <td>1396310400000</td>\n",
       "      <td>2014-04-01T00:00:00.000Z</td>\n",
       "      <td>NotKnown</td>\n",
       "    </tr>\n",
       "    <tr>\n",
       "      <th>3</th>\n",
       "      <td>3086</td>\n",
       "      <td>3088</td>\n",
       "      <td>1404172800000</td>\n",
       "      <td>2014-07-01T00:00:00.000Z</td>\n",
       "      <td>NotKnown</td>\n",
       "    </tr>\n",
       "    <tr>\n",
       "      <th>4</th>\n",
       "      <td>3252</td>\n",
       "      <td>3254</td>\n",
       "      <td>1412121600000</td>\n",
       "      <td>2014-10-01T00:00:00.000Z</td>\n",
       "      <td>NotKnown</td>\n",
       "    </tr>\n",
       "    <tr>\n",
       "      <th>5</th>\n",
       "      <td>3912</td>\n",
       "      <td>3915</td>\n",
       "      <td>1420070400000</td>\n",
       "      <td>2015-01-01T00:00:00.000Z</td>\n",
       "      <td>NotKnown</td>\n",
       "    </tr>\n",
       "    <tr>\n",
       "      <th>6</th>\n",
       "      <td>4285</td>\n",
       "      <td>4289</td>\n",
       "      <td>1427846400000</td>\n",
       "      <td>2015-04-01T00:00:00.000Z</td>\n",
       "      <td>NotKnown</td>\n",
       "    </tr>\n",
       "    <tr>\n",
       "      <th>7</th>\n",
       "      <td>5659</td>\n",
       "      <td>5664</td>\n",
       "      <td>1435708800000</td>\n",
       "      <td>2015-07-01T00:00:00.000Z</td>\n",
       "      <td>NotKnown</td>\n",
       "    </tr>\n",
       "    <tr>\n",
       "      <th>8</th>\n",
       "      <td>6648</td>\n",
       "      <td>6651</td>\n",
       "      <td>1443657600000</td>\n",
       "      <td>2015-10-01T00:00:00.000Z</td>\n",
       "      <td>NotKnown</td>\n",
       "    </tr>\n",
       "    <tr>\n",
       "      <th>9</th>\n",
       "      <td>6707</td>\n",
       "      <td>6728</td>\n",
       "      <td>1451606400000</td>\n",
       "      <td>2016-01-01T00:00:00.000Z</td>\n",
       "      <td>NotKnown</td>\n",
       "    </tr>\n",
       "    <tr>\n",
       "      <th>10</th>\n",
       "      <td>7058</td>\n",
       "      <td>7110</td>\n",
       "      <td>1459468800000</td>\n",
       "      <td>2016-04-01T00:00:00.000Z</td>\n",
       "      <td>NotKnown</td>\n",
       "    </tr>\n",
       "    <tr>\n",
       "      <th>11</th>\n",
       "      <td>8971</td>\n",
       "      <td>9057</td>\n",
       "      <td>1467331200000</td>\n",
       "      <td>2016-07-01T00:00:00.000Z</td>\n",
       "      <td>NotKnown</td>\n",
       "    </tr>\n",
       "    <tr>\n",
       "      <th>12</th>\n",
       "      <td>8499</td>\n",
       "      <td>8868</td>\n",
       "      <td>1475280000000</td>\n",
       "      <td>2016-10-01T00:00:00.000Z</td>\n",
       "      <td>NotKnown</td>\n",
       "    </tr>\n",
       "    <tr>\n",
       "      <th>13</th>\n",
       "      <td>8779</td>\n",
       "      <td>10501</td>\n",
       "      <td>1483228800000</td>\n",
       "      <td>2017-01-01T00:00:00.000Z</td>\n",
       "      <td>NotKnown</td>\n",
       "    </tr>\n",
       "    <tr>\n",
       "      <th>14</th>\n",
       "      <td>1194</td>\n",
       "      <td>2332</td>\n",
       "      <td>1491004800000</td>\n",
       "      <td>2017-04-01T00:00:00.000Z</td>\n",
       "      <td>NotKnown</td>\n",
       "    </tr>\n",
       "    <tr>\n",
       "      <th>0</th>\n",
       "      <td>1702</td>\n",
       "      <td>1702</td>\n",
       "      <td>1380585600000</td>\n",
       "      <td>2013-10-01T00:00:00.000Z</td>\n",
       "      <td>female</td>\n",
       "    </tr>\n",
       "    <tr>\n",
       "      <th>1</th>\n",
       "      <td>1943</td>\n",
       "      <td>1943</td>\n",
       "      <td>1388534400000</td>\n",
       "      <td>2014-01-01T00:00:00.000Z</td>\n",
       "      <td>female</td>\n",
       "    </tr>\n",
       "    <tr>\n",
       "      <th>2</th>\n",
       "      <td>1586</td>\n",
       "      <td>1587</td>\n",
       "      <td>1396310400000</td>\n",
       "      <td>2014-04-01T00:00:00.000Z</td>\n",
       "      <td>female</td>\n",
       "    </tr>\n",
       "    <tr>\n",
       "      <th>3</th>\n",
       "      <td>1893</td>\n",
       "      <td>1893</td>\n",
       "      <td>1404172800000</td>\n",
       "      <td>2014-07-01T00:00:00.000Z</td>\n",
       "      <td>female</td>\n",
       "    </tr>\n",
       "    <tr>\n",
       "      <th>4</th>\n",
       "      <td>1603</td>\n",
       "      <td>1605</td>\n",
       "      <td>1412121600000</td>\n",
       "      <td>2014-10-01T00:00:00.000Z</td>\n",
       "      <td>female</td>\n",
       "    </tr>\n",
       "    <tr>\n",
       "      <th>5</th>\n",
       "      <td>2158</td>\n",
       "      <td>2158</td>\n",
       "      <td>1420070400000</td>\n",
       "      <td>2015-01-01T00:00:00.000Z</td>\n",
       "      <td>female</td>\n",
       "    </tr>\n",
       "    <tr>\n",
       "      <th>6</th>\n",
       "      <td>2652</td>\n",
       "      <td>2655</td>\n",
       "      <td>1427846400000</td>\n",
       "      <td>2015-04-01T00:00:00.000Z</td>\n",
       "      <td>female</td>\n",
       "    </tr>\n",
       "    <tr>\n",
       "      <th>7</th>\n",
       "      <td>3171</td>\n",
       "      <td>3173</td>\n",
       "      <td>1435708800000</td>\n",
       "      <td>2015-07-01T00:00:00.000Z</td>\n",
       "      <td>female</td>\n",
       "    </tr>\n",
       "    <tr>\n",
       "      <th>8</th>\n",
       "      <td>2903</td>\n",
       "      <td>2910</td>\n",
       "      <td>1443657600000</td>\n",
       "      <td>2015-10-01T00:00:00.000Z</td>\n",
       "      <td>female</td>\n",
       "    </tr>\n",
       "    <tr>\n",
       "      <th>9</th>\n",
       "      <td>3207</td>\n",
       "      <td>3220</td>\n",
       "      <td>1451606400000</td>\n",
       "      <td>2016-01-01T00:00:00.000Z</td>\n",
       "      <td>female</td>\n",
       "    </tr>\n",
       "    <tr>\n",
       "      <th>10</th>\n",
       "      <td>2998</td>\n",
       "      <td>3024</td>\n",
       "      <td>1459468800000</td>\n",
       "      <td>2016-04-01T00:00:00.000Z</td>\n",
       "      <td>female</td>\n",
       "    </tr>\n",
       "    <tr>\n",
       "      <th>11</th>\n",
       "      <td>3571</td>\n",
       "      <td>3618</td>\n",
       "      <td>1467331200000</td>\n",
       "      <td>2016-07-01T00:00:00.000Z</td>\n",
       "      <td>female</td>\n",
       "    </tr>\n",
       "    <tr>\n",
       "      <th>12</th>\n",
       "      <td>2422</td>\n",
       "      <td>2572</td>\n",
       "      <td>1475280000000</td>\n",
       "      <td>2016-10-01T00:00:00.000Z</td>\n",
       "      <td>female</td>\n",
       "    </tr>\n",
       "    <tr>\n",
       "      <th>13</th>\n",
       "      <td>2833</td>\n",
       "      <td>3344</td>\n",
       "      <td>1483228800000</td>\n",
       "      <td>2017-01-01T00:00:00.000Z</td>\n",
       "      <td>female</td>\n",
       "    </tr>\n",
       "    <tr>\n",
       "      <th>14</th>\n",
       "      <td>292</td>\n",
       "      <td>575</td>\n",
       "      <td>1491004800000</td>\n",
       "      <td>2017-04-01T00:00:00.000Z</td>\n",
       "      <td>female</td>\n",
       "    </tr>\n",
       "    <tr>\n",
       "      <th>0</th>\n",
       "      <td>1</td>\n",
       "      <td>1</td>\n",
       "      <td>1467331200000</td>\n",
       "      <td>2016-07-01T00:00:00.000Z</td>\n",
       "      <td>Unknown</td>\n",
       "    </tr>\n",
       "  </tbody>\n",
       "</table>\n",
       "</div>"
      ],
      "text/plain": [
       "    changesets  doc_count            key             key_as_string    gender\n",
       "0        11646      11647  1380585600000  2013-10-01T00:00:00.000Z      male\n",
       "1        14878      14843  1388534400000  2014-01-01T00:00:00.000Z      male\n",
       "2        15121      15127  1396310400000  2014-04-01T00:00:00.000Z      male\n",
       "3        16318      16304  1404172800000  2014-07-01T00:00:00.000Z      male\n",
       "4        14421      14408  1412121600000  2014-10-01T00:00:00.000Z      male\n",
       "5        18582      18573  1420070400000  2015-01-01T00:00:00.000Z      male\n",
       "6        20717      20686  1427846400000  2015-04-01T00:00:00.000Z      male\n",
       "7        23271      23224  1435708800000  2015-07-01T00:00:00.000Z      male\n",
       "8        23414      23483  1443657600000  2015-10-01T00:00:00.000Z      male\n",
       "9        27086      27294  1451606400000  2016-01-01T00:00:00.000Z      male\n",
       "10       25623      25843  1459468800000  2016-04-01T00:00:00.000Z      male\n",
       "11       31439      31837  1467331200000  2016-07-01T00:00:00.000Z      male\n",
       "12       24024      25106  1475280000000  2016-10-01T00:00:00.000Z      male\n",
       "13       23474      27806  1483228800000  2017-01-01T00:00:00.000Z      male\n",
       "14        3268       6392  1491004800000  2017-04-01T00:00:00.000Z      male\n",
       "0         2020       2020  1380585600000  2013-10-01T00:00:00.000Z  NotKnown\n",
       "1         2650       2650  1388534400000  2014-01-01T00:00:00.000Z  NotKnown\n",
       "2         2685       2686  1396310400000  2014-04-01T00:00:00.000Z  NotKnown\n",
       "3         3086       3088  1404172800000  2014-07-01T00:00:00.000Z  NotKnown\n",
       "4         3252       3254  1412121600000  2014-10-01T00:00:00.000Z  NotKnown\n",
       "5         3912       3915  1420070400000  2015-01-01T00:00:00.000Z  NotKnown\n",
       "6         4285       4289  1427846400000  2015-04-01T00:00:00.000Z  NotKnown\n",
       "7         5659       5664  1435708800000  2015-07-01T00:00:00.000Z  NotKnown\n",
       "8         6648       6651  1443657600000  2015-10-01T00:00:00.000Z  NotKnown\n",
       "9         6707       6728  1451606400000  2016-01-01T00:00:00.000Z  NotKnown\n",
       "10        7058       7110  1459468800000  2016-04-01T00:00:00.000Z  NotKnown\n",
       "11        8971       9057  1467331200000  2016-07-01T00:00:00.000Z  NotKnown\n",
       "12        8499       8868  1475280000000  2016-10-01T00:00:00.000Z  NotKnown\n",
       "13        8779      10501  1483228800000  2017-01-01T00:00:00.000Z  NotKnown\n",
       "14        1194       2332  1491004800000  2017-04-01T00:00:00.000Z  NotKnown\n",
       "0         1702       1702  1380585600000  2013-10-01T00:00:00.000Z    female\n",
       "1         1943       1943  1388534400000  2014-01-01T00:00:00.000Z    female\n",
       "2         1586       1587  1396310400000  2014-04-01T00:00:00.000Z    female\n",
       "3         1893       1893  1404172800000  2014-07-01T00:00:00.000Z    female\n",
       "4         1603       1605  1412121600000  2014-10-01T00:00:00.000Z    female\n",
       "5         2158       2158  1420070400000  2015-01-01T00:00:00.000Z    female\n",
       "6         2652       2655  1427846400000  2015-04-01T00:00:00.000Z    female\n",
       "7         3171       3173  1435708800000  2015-07-01T00:00:00.000Z    female\n",
       "8         2903       2910  1443657600000  2015-10-01T00:00:00.000Z    female\n",
       "9         3207       3220  1451606400000  2016-01-01T00:00:00.000Z    female\n",
       "10        2998       3024  1459468800000  2016-04-01T00:00:00.000Z    female\n",
       "11        3571       3618  1467331200000  2016-07-01T00:00:00.000Z    female\n",
       "12        2422       2572  1475280000000  2016-10-01T00:00:00.000Z    female\n",
       "13        2833       3344  1483228800000  2017-01-01T00:00:00.000Z    female\n",
       "14         292        575  1491004800000  2017-04-01T00:00:00.000Z    female\n",
       "0            1          1  1467331200000  2016-07-01T00:00:00.000Z   Unknown"
      ]
     },
     "execution_count": 9,
     "metadata": {},
     "output_type": "execute_result"
    }
   ],
   "source": [
    "df"
   ]
  },
  {
   "cell_type": "markdown",
   "metadata": {},
   "source": [
    "### Aggregated changeset submissions by gender"
   ]
  },
  {
   "cell_type": "code",
   "execution_count": 10,
   "metadata": {
    "collapsed": true
   },
   "outputs": [],
   "source": [
    "pie_chart_labels, pie_chart_values, pie_chart_count = query_total_piechart(INDEX, METRIC_NAME, METRIC_FIELD, [filter_date_4y,\n",
    "                                                                                             filter_changeset_submission])"
   ]
  },
  {
   "cell_type": "code",
   "execution_count": 11,
   "metadata": {},
   "outputs": [
    {
     "data": {
      "application/vnd.plotly.v1+json": {
       "data": [
        {
         "labels": [
          "male",
          "NotKnown",
          "female",
          "Unknown"
         ],
         "type": "pie",
         "values": [
          292773,
          75442,
          34940,
          1
         ]
        }
       ],
       "layout": {
        "title": "Changeset Submissions by Gender (last 4 years)"
       }
      },
      "text/html": [
       "<div id=\"daf9f2a2-8b99-42de-bdb2-c6650a924376\" style=\"height: 525px; width: 100%;\" class=\"plotly-graph-div\"></div><script type=\"text/javascript\">require([\"plotly\"], function(Plotly) { window.PLOTLYENV=window.PLOTLYENV || {};window.PLOTLYENV.BASE_URL=\"https://plot.ly\";Plotly.newPlot(\"daf9f2a2-8b99-42de-bdb2-c6650a924376\", [{\"type\": \"pie\", \"values\": [292773, 75442, 34940, 1], \"labels\": [\"male\", \"NotKnown\", \"female\", \"Unknown\"]}], {\"title\": \"Changeset Submissions by Gender (last 4 years)\"}, {\"linkText\": \"Export to plot.ly\", \"showLink\": true})});</script>"
      ],
      "text/vnd.plotly.v1+html": [
       "<div id=\"daf9f2a2-8b99-42de-bdb2-c6650a924376\" style=\"height: 525px; width: 100%;\" class=\"plotly-graph-div\"></div><script type=\"text/javascript\">require([\"plotly\"], function(Plotly) { window.PLOTLYENV=window.PLOTLYENV || {};window.PLOTLYENV.BASE_URL=\"https://plot.ly\";Plotly.newPlot(\"daf9f2a2-8b99-42de-bdb2-c6650a924376\", [{\"type\": \"pie\", \"values\": [292773, 75442, 34940, 1], \"labels\": [\"male\", \"NotKnown\", \"female\", \"Unknown\"]}], {\"title\": \"Changeset Submissions by Gender (last 4 years)\"}, {\"linkText\": \"Export to plot.ly\", \"showLink\": true})});</script>"
      ]
     },
     "metadata": {},
     "output_type": "display_data"
    }
   ],
   "source": [
    "draw_piechart(pie_chart_labels, pie_chart_values, 'Changeset Submissions by Gender (last 4 years)')"
   ]
  },
  {
   "cell_type": "code",
   "execution_count": 12,
   "metadata": {
    "collapsed": true
   },
   "outputs": [],
   "source": [
    "pie_chart_labels, pie_chart_values, pie_chart_count = query_total_piechart(INDEX, METRIC_NAME, METRIC_FIELD, [filter_date_1y,\n",
    "                                                                                             filter_changeset_submission])\n"
   ]
  },
  {
   "cell_type": "code",
   "execution_count": 13,
   "metadata": {},
   "outputs": [
    {
     "data": {
      "application/vnd.plotly.v1+json": {
       "data": [
        {
         "labels": [
          "male",
          "NotKnown",
          "female"
         ],
         "type": "pie",
         "values": [
          50454,
          18448,
          5537
         ]
        }
       ],
       "layout": {
        "title": "Changeset Submissions by Gender (last year)"
       }
      },
      "text/html": [
       "<div id=\"d58fab04-e81d-4a09-a9fe-0870c8d55a8b\" style=\"height: 525px; width: 100%;\" class=\"plotly-graph-div\"></div><script type=\"text/javascript\">require([\"plotly\"], function(Plotly) { window.PLOTLYENV=window.PLOTLYENV || {};window.PLOTLYENV.BASE_URL=\"https://plot.ly\";Plotly.newPlot(\"d58fab04-e81d-4a09-a9fe-0870c8d55a8b\", [{\"type\": \"pie\", \"values\": [50454, 18448, 5537], \"labels\": [\"male\", \"NotKnown\", \"female\"]}], {\"title\": \"Changeset Submissions by Gender (last year)\"}, {\"linkText\": \"Export to plot.ly\", \"showLink\": true})});</script>"
      ],
      "text/vnd.plotly.v1+html": [
       "<div id=\"d58fab04-e81d-4a09-a9fe-0870c8d55a8b\" style=\"height: 525px; width: 100%;\" class=\"plotly-graph-div\"></div><script type=\"text/javascript\">require([\"plotly\"], function(Plotly) { window.PLOTLYENV=window.PLOTLYENV || {};window.PLOTLYENV.BASE_URL=\"https://plot.ly\";Plotly.newPlot(\"d58fab04-e81d-4a09-a9fe-0870c8d55a8b\", [{\"type\": \"pie\", \"values\": [50454, 18448, 5537], \"labels\": [\"male\", \"NotKnown\", \"female\"]}], {\"title\": \"Changeset Submissions by Gender (last year)\"}, {\"linkText\": \"Export to plot.ly\", \"showLink\": true})});</script>"
      ]
     },
     "metadata": {},
     "output_type": "display_data"
    }
   ],
   "source": [
    "draw_piechart(pie_chart_labels, pie_chart_values, 'Changeset Submissions by Gender (last year)')"
   ]
  },
  {
   "cell_type": "markdown",
   "metadata": {},
   "source": [
    "## Population of people submitting changesets\n",
    "### Evolution of submitters over time by gender\n",
    "  * Count people submitting (id, uuid)"
   ]
  },
  {
   "cell_type": "code",
   "execution_count": 14,
   "metadata": {},
   "outputs": [
    {
     "data": {
      "application/vnd.plotly.v1+json": {
       "data": [
        {
         "name": "female",
         "type": "scatter",
         "x": [
          "2013-10-01T00:00:00.000Z",
          "2014-01-01T00:00:00.000Z",
          "2014-04-01T00:00:00.000Z",
          "2014-07-01T00:00:00.000Z",
          "2014-10-01T00:00:00.000Z",
          "2015-01-01T00:00:00.000Z",
          "2015-04-01T00:00:00.000Z",
          "2015-07-01T00:00:00.000Z",
          "2015-10-01T00:00:00.000Z",
          "2016-01-01T00:00:00.000Z",
          "2016-04-01T00:00:00.000Z",
          "2016-07-01T00:00:00.000Z",
          "2016-10-01T00:00:00.000Z",
          "2017-01-01T00:00:00.000Z",
          "2017-04-01T00:00:00.000Z"
         ],
         "y": [
          117,
          154,
          171,
          201,
          174,
          244,
          229,
          284,
          284,
          334,
          307,
          288,
          249,
          231,
          94
         ]
        },
        {
         "name": "male",
         "type": "scatter",
         "x": [
          "2013-10-01T00:00:00.000Z",
          "2014-01-01T00:00:00.000Z",
          "2014-04-01T00:00:00.000Z",
          "2014-07-01T00:00:00.000Z",
          "2014-10-01T00:00:00.000Z",
          "2015-01-01T00:00:00.000Z",
          "2015-04-01T00:00:00.000Z",
          "2015-07-01T00:00:00.000Z",
          "2015-10-01T00:00:00.000Z",
          "2016-01-01T00:00:00.000Z",
          "2016-04-01T00:00:00.000Z",
          "2016-07-01T00:00:00.000Z",
          "2016-10-01T00:00:00.000Z",
          "2017-01-01T00:00:00.000Z",
          "2017-04-01T00:00:00.000Z"
         ],
         "y": [
          808,
          1026,
          1121,
          1254,
          1211,
          1406,
          1481,
          1643,
          1584,
          1744,
          1741,
          1791,
          1504,
          1400,
          558
         ]
        },
        {
         "name": "unknown",
         "type": "scatter",
         "x": [
          "2013-10-01T00:00:00.000Z",
          "2014-01-01T00:00:00.000Z",
          "2014-04-01T00:00:00.000Z",
          "2014-07-01T00:00:00.000Z",
          "2014-10-01T00:00:00.000Z",
          "2015-01-01T00:00:00.000Z",
          "2015-04-01T00:00:00.000Z",
          "2015-07-01T00:00:00.000Z",
          "2015-10-01T00:00:00.000Z",
          "2016-01-01T00:00:00.000Z",
          "2016-04-01T00:00:00.000Z",
          "2016-07-01T00:00:00.000Z",
          "2016-10-01T00:00:00.000Z",
          "2017-01-01T00:00:00.000Z",
          "2017-04-01T00:00:00.000Z"
         ],
         "y": [
          161,
          180,
          210,
          214,
          208,
          254,
          258,
          346,
          347,
          425,
          426,
          455,
          443,
          460,
          152
         ]
        }
       ],
       "layout": {}
      },
      "text/html": [
       "<div id=\"71e50e20-1037-4ad0-bee5-b154406a28e2\" style=\"height: 525px; width: 100%;\" class=\"plotly-graph-div\"></div><script type=\"text/javascript\">require([\"plotly\"], function(Plotly) { window.PLOTLYENV=window.PLOTLYENV || {};window.PLOTLYENV.BASE_URL=\"https://plot.ly\";Plotly.newPlot(\"71e50e20-1037-4ad0-bee5-b154406a28e2\", [{\"type\": \"scatter\", \"name\": \"female\", \"x\": [\"2013-10-01T00:00:00.000Z\", \"2014-01-01T00:00:00.000Z\", \"2014-04-01T00:00:00.000Z\", \"2014-07-01T00:00:00.000Z\", \"2014-10-01T00:00:00.000Z\", \"2015-01-01T00:00:00.000Z\", \"2015-04-01T00:00:00.000Z\", \"2015-07-01T00:00:00.000Z\", \"2015-10-01T00:00:00.000Z\", \"2016-01-01T00:00:00.000Z\", \"2016-04-01T00:00:00.000Z\", \"2016-07-01T00:00:00.000Z\", \"2016-10-01T00:00:00.000Z\", \"2017-01-01T00:00:00.000Z\", \"2017-04-01T00:00:00.000Z\"], \"y\": [117, 154, 171, 201, 174, 244, 229, 284, 284, 334, 307, 288, 249, 231, 94]}, {\"type\": \"scatter\", \"name\": \"male\", \"x\": [\"2013-10-01T00:00:00.000Z\", \"2014-01-01T00:00:00.000Z\", \"2014-04-01T00:00:00.000Z\", \"2014-07-01T00:00:00.000Z\", \"2014-10-01T00:00:00.000Z\", \"2015-01-01T00:00:00.000Z\", \"2015-04-01T00:00:00.000Z\", \"2015-07-01T00:00:00.000Z\", \"2015-10-01T00:00:00.000Z\", \"2016-01-01T00:00:00.000Z\", \"2016-04-01T00:00:00.000Z\", \"2016-07-01T00:00:00.000Z\", \"2016-10-01T00:00:00.000Z\", \"2017-01-01T00:00:00.000Z\", \"2017-04-01T00:00:00.000Z\"], \"y\": [808, 1026, 1121, 1254, 1211, 1406, 1481, 1643, 1584, 1744, 1741, 1791, 1504, 1400, 558]}, {\"type\": \"scatter\", \"name\": \"unknown\", \"x\": [\"2013-10-01T00:00:00.000Z\", \"2014-01-01T00:00:00.000Z\", \"2014-04-01T00:00:00.000Z\", \"2014-07-01T00:00:00.000Z\", \"2014-10-01T00:00:00.000Z\", \"2015-01-01T00:00:00.000Z\", \"2015-04-01T00:00:00.000Z\", \"2015-07-01T00:00:00.000Z\", \"2015-10-01T00:00:00.000Z\", \"2016-01-01T00:00:00.000Z\", \"2016-04-01T00:00:00.000Z\", \"2016-07-01T00:00:00.000Z\", \"2016-10-01T00:00:00.000Z\", \"2017-01-01T00:00:00.000Z\", \"2017-04-01T00:00:00.000Z\"], \"y\": [161, 180, 210, 214, 208, 254, 258, 346, 347, 425, 426, 455, 443, 460, 152]}], {}, {\"linkText\": \"Export to plot.ly\", \"showLink\": true})});</script>"
      ],
      "text/vnd.plotly.v1+html": [
       "<div id=\"71e50e20-1037-4ad0-bee5-b154406a28e2\" style=\"height: 525px; width: 100%;\" class=\"plotly-graph-div\"></div><script type=\"text/javascript\">require([\"plotly\"], function(Plotly) { window.PLOTLYENV=window.PLOTLYENV || {};window.PLOTLYENV.BASE_URL=\"https://plot.ly\";Plotly.newPlot(\"71e50e20-1037-4ad0-bee5-b154406a28e2\", [{\"type\": \"scatter\", \"name\": \"female\", \"x\": [\"2013-10-01T00:00:00.000Z\", \"2014-01-01T00:00:00.000Z\", \"2014-04-01T00:00:00.000Z\", \"2014-07-01T00:00:00.000Z\", \"2014-10-01T00:00:00.000Z\", \"2015-01-01T00:00:00.000Z\", \"2015-04-01T00:00:00.000Z\", \"2015-07-01T00:00:00.000Z\", \"2015-10-01T00:00:00.000Z\", \"2016-01-01T00:00:00.000Z\", \"2016-04-01T00:00:00.000Z\", \"2016-07-01T00:00:00.000Z\", \"2016-10-01T00:00:00.000Z\", \"2017-01-01T00:00:00.000Z\", \"2017-04-01T00:00:00.000Z\"], \"y\": [117, 154, 171, 201, 174, 244, 229, 284, 284, 334, 307, 288, 249, 231, 94]}, {\"type\": \"scatter\", \"name\": \"male\", \"x\": [\"2013-10-01T00:00:00.000Z\", \"2014-01-01T00:00:00.000Z\", \"2014-04-01T00:00:00.000Z\", \"2014-07-01T00:00:00.000Z\", \"2014-10-01T00:00:00.000Z\", \"2015-01-01T00:00:00.000Z\", \"2015-04-01T00:00:00.000Z\", \"2015-07-01T00:00:00.000Z\", \"2015-10-01T00:00:00.000Z\", \"2016-01-01T00:00:00.000Z\", \"2016-04-01T00:00:00.000Z\", \"2016-07-01T00:00:00.000Z\", \"2016-10-01T00:00:00.000Z\", \"2017-01-01T00:00:00.000Z\", \"2017-04-01T00:00:00.000Z\"], \"y\": [808, 1026, 1121, 1254, 1211, 1406, 1481, 1643, 1584, 1744, 1741, 1791, 1504, 1400, 558]}, {\"type\": \"scatter\", \"name\": \"unknown\", \"x\": [\"2013-10-01T00:00:00.000Z\", \"2014-01-01T00:00:00.000Z\", \"2014-04-01T00:00:00.000Z\", \"2014-07-01T00:00:00.000Z\", \"2014-10-01T00:00:00.000Z\", \"2015-01-01T00:00:00.000Z\", \"2015-04-01T00:00:00.000Z\", \"2015-07-01T00:00:00.000Z\", \"2015-10-01T00:00:00.000Z\", \"2016-01-01T00:00:00.000Z\", \"2016-04-01T00:00:00.000Z\", \"2016-07-01T00:00:00.000Z\", \"2016-10-01T00:00:00.000Z\", \"2017-01-01T00:00:00.000Z\", \"2017-04-01T00:00:00.000Z\"], \"y\": [161, 180, 210, 214, 208, 254, 258, 346, 347, 425, 426, 455, 443, 460, 152]}], {}, {\"linkText\": \"Export to plot.ly\", \"showLink\": true})});</script>"
      ]
     },
     "metadata": {},
     "output_type": "display_data"
    }
   ],
   "source": [
    "METRIC_NAME = \"submitters\"\n",
    "METRIC_FIELD = \"uuid\"\n",
    "df = query_metric_over_time(INDEX, METRIC_NAME, METRIC_FIELD, [filter_date_4y, filter_changeset_submission])\n",
    "draw_evolutionary_chart(\"key_as_string\", METRIC_NAME)"
   ]
  },
  {
   "cell_type": "markdown",
   "metadata": {},
   "source": [
    "### Aggregated number of submitters\n"
   ]
  },
  {
   "cell_type": "code",
   "execution_count": 15,
   "metadata": {},
   "outputs": [
    {
     "data": {
      "application/vnd.plotly.v1+json": {
       "data": [
        {
         "labels": [
          "male",
          "NotKnown",
          "female",
          "Unknown"
         ],
         "type": "pie",
         "values": [
          5410,
          1560,
          1002,
          1
         ]
        }
       ],
       "layout": {
        "title": "Changeset Submitters by Gender (last 4 years)"
       }
      },
      "text/html": [
       "<div id=\"261b856f-b17d-41f8-ab39-c8617790cd1f\" style=\"height: 525px; width: 100%;\" class=\"plotly-graph-div\"></div><script type=\"text/javascript\">require([\"plotly\"], function(Plotly) { window.PLOTLYENV=window.PLOTLYENV || {};window.PLOTLYENV.BASE_URL=\"https://plot.ly\";Plotly.newPlot(\"261b856f-b17d-41f8-ab39-c8617790cd1f\", [{\"type\": \"pie\", \"values\": [5410, 1560, 1002, 1], \"labels\": [\"male\", \"NotKnown\", \"female\", \"Unknown\"]}], {\"title\": \"Changeset Submitters by Gender (last 4 years)\"}, {\"linkText\": \"Export to plot.ly\", \"showLink\": true})});</script>"
      ],
      "text/vnd.plotly.v1+html": [
       "<div id=\"261b856f-b17d-41f8-ab39-c8617790cd1f\" style=\"height: 525px; width: 100%;\" class=\"plotly-graph-div\"></div><script type=\"text/javascript\">require([\"plotly\"], function(Plotly) { window.PLOTLYENV=window.PLOTLYENV || {};window.PLOTLYENV.BASE_URL=\"https://plot.ly\";Plotly.newPlot(\"261b856f-b17d-41f8-ab39-c8617790cd1f\", [{\"type\": \"pie\", \"values\": [5410, 1560, 1002, 1], \"labels\": [\"male\", \"NotKnown\", \"female\", \"Unknown\"]}], {\"title\": \"Changeset Submitters by Gender (last 4 years)\"}, {\"linkText\": \"Export to plot.ly\", \"showLink\": true})});</script>"
      ]
     },
     "metadata": {},
     "output_type": "display_data"
    }
   ],
   "source": [
    "pie_chart_labels, pie_chart_values, pie_chart_count = query_total_piechart(INDEX, METRIC_NAME, METRIC_FIELD, [filter_date_4y,\n",
    "                                                                                             filter_changeset_submission])\n",
    "draw_piechart(pie_chart_labels, pie_chart_values, 'Changeset Submitters by Gender (last 4 years)')"
   ]
  },
  {
   "cell_type": "code",
   "execution_count": 15,
   "metadata": {},
   "outputs": [
    {
     "data": {
      "application/vnd.plotly.v1+json": {
       "data": [
        {
         "labels": [
          "male",
          "NotKnown",
          "female",
          "Unknown"
         ],
         "type": "pie",
         "values": [
          2947,
          933,
          522,
          1
         ]
        }
       ],
       "layout": {
        "title": "Changeset Submitters by Gender (last year)"
       }
      },
      "text/html": [
       "<div id=\"483dec89-2d67-4cb9-8145-4712d4b7048d\" style=\"height: 525px; width: 100%;\" class=\"plotly-graph-div\"></div><script type=\"text/javascript\">require([\"plotly\"], function(Plotly) { window.PLOTLYENV=window.PLOTLYENV || {};window.PLOTLYENV.BASE_URL=\"https://plot.ly\";Plotly.newPlot(\"483dec89-2d67-4cb9-8145-4712d4b7048d\", [{\"values\": [2947, 933, 522, 1], \"type\": \"pie\", \"labels\": [\"male\", \"NotKnown\", \"female\", \"Unknown\"]}], {\"title\": \"Changeset Submitters by Gender (last year)\"}, {\"linkText\": \"Export to plot.ly\", \"showLink\": true})});</script>"
      ],
      "text/vnd.plotly.v1+html": [
       "<div id=\"483dec89-2d67-4cb9-8145-4712d4b7048d\" style=\"height: 525px; width: 100%;\" class=\"plotly-graph-div\"></div><script type=\"text/javascript\">require([\"plotly\"], function(Plotly) { window.PLOTLYENV=window.PLOTLYENV || {};window.PLOTLYENV.BASE_URL=\"https://plot.ly\";Plotly.newPlot(\"483dec89-2d67-4cb9-8145-4712d4b7048d\", [{\"values\": [2947, 933, 522, 1], \"type\": \"pie\", \"labels\": [\"male\", \"NotKnown\", \"female\", \"Unknown\"]}], {\"title\": \"Changeset Submitters by Gender (last year)\"}, {\"linkText\": \"Export to plot.ly\", \"showLink\": true})});</script>"
      ]
     },
     "metadata": {},
     "output_type": "display_data"
    }
   ],
   "source": [
    "pie_chart_labels, pie_chart_values, pie_chart_count = query_total_piechart(INDEX, METRIC_NAME, METRIC_FIELD,  [filter_date_1y,\n",
    "                                                                                              filter_changeset_submission])\n",
    "draw_piechart(pie_chart_labels, pie_chart_values, 'Changeset Submitters by Gender (last year)')"
   ]
  },
  {
   "cell_type": "markdown",
   "metadata": {},
   "source": [
    "* Evolution of code reviews developers over time by gender\n",
    "  * Count people voting (name, uuid, vote)\n"
   ]
  },
  {
   "cell_type": "markdown",
   "metadata": {},
   "source": [
    "\n"
   ]
  },
  {
   "cell_type": "markdown",
   "metadata": {},
   "source": [
    "## Number of votes by gender"
   ]
  },
  {
   "cell_type": "code",
   "execution_count": 16,
   "metadata": {},
   "outputs": [
    {
     "data": {
      "application/vnd.plotly.v1+json": {
       "data": [
        {
         "name": "female",
         "type": "scatter",
         "x": [
          "2013-01-01T00:00:00.000Z",
          "2013-04-01T00:00:00.000Z",
          "2013-07-01T00:00:00.000Z",
          "2013-10-01T00:00:00.000Z",
          "2014-01-01T00:00:00.000Z",
          "2014-04-01T00:00:00.000Z",
          "2014-07-01T00:00:00.000Z",
          "2014-10-01T00:00:00.000Z",
          "2015-01-01T00:00:00.000Z",
          "2015-04-01T00:00:00.000Z",
          "2015-07-01T00:00:00.000Z",
          "2015-10-01T00:00:00.000Z",
          "2016-01-01T00:00:00.000Z",
          "2016-04-01T00:00:00.000Z",
          "2016-07-01T00:00:00.000Z",
          "2016-10-01T00:00:00.000Z",
          "2017-01-01T00:00:00.000Z"
         ],
         "y": [
          942,
          1499,
          3106,
          3993,
          6029,
          6798,
          9838,
          8809,
          11290,
          10822,
          14498,
          13692,
          13244,
          11330,
          12959,
          9873,
          11585
         ]
        },
        {
         "name": "male",
         "type": "scatter",
         "x": [
          "2013-01-01T00:00:00.000Z",
          "2013-04-01T00:00:00.000Z",
          "2013-07-01T00:00:00.000Z",
          "2013-10-01T00:00:00.000Z",
          "2014-01-01T00:00:00.000Z",
          "2014-04-01T00:00:00.000Z",
          "2014-07-01T00:00:00.000Z",
          "2014-10-01T00:00:00.000Z",
          "2015-01-01T00:00:00.000Z",
          "2015-04-01T00:00:00.000Z",
          "2015-07-01T00:00:00.000Z",
          "2015-10-01T00:00:00.000Z",
          "2016-01-01T00:00:00.000Z",
          "2016-04-01T00:00:00.000Z",
          "2016-07-01T00:00:00.000Z",
          "2016-10-01T00:00:00.000Z",
          "2017-01-01T00:00:00.000Z"
         ],
         "y": [
          16995,
          21679,
          41379,
          45817,
          69704,
          71188,
          83858,
          71488,
          96139,
          92477,
          114730,
          109154,
          124263,
          107075,
          118588,
          87964,
          97829
         ]
        },
        {
         "name": "unknown",
         "type": "scatter",
         "x": [
          "2013-01-01T00:00:00.000Z",
          "2013-04-01T00:00:00.000Z",
          "2013-07-01T00:00:00.000Z",
          "2013-10-01T00:00:00.000Z",
          "2014-01-01T00:00:00.000Z",
          "2014-04-01T00:00:00.000Z",
          "2014-07-01T00:00:00.000Z",
          "2014-10-01T00:00:00.000Z",
          "2015-01-01T00:00:00.000Z",
          "2015-04-01T00:00:00.000Z",
          "2015-07-01T00:00:00.000Z",
          "2015-10-01T00:00:00.000Z",
          "2016-01-01T00:00:00.000Z",
          "2016-04-01T00:00:00.000Z",
          "2016-07-01T00:00:00.000Z",
          "2016-10-01T00:00:00.000Z",
          "2017-01-01T00:00:00.000Z"
         ],
         "y": [
          3951,
          4211,
          6264,
          9184,
          11650,
          10535,
          12141,
          9932,
          14620,
          15387,
          22022,
          23965,
          21473,
          18841,
          21274,
          18510,
          20493
         ]
        }
       ],
       "layout": {}
      },
      "text/html": [
       "<div id=\"83060281-7f43-4a2b-a572-052a534275a6\" style=\"height: 525px; width: 100%;\" class=\"plotly-graph-div\"></div><script type=\"text/javascript\">require([\"plotly\"], function(Plotly) { window.PLOTLYENV=window.PLOTLYENV || {};window.PLOTLYENV.BASE_URL=\"https://plot.ly\";Plotly.newPlot(\"83060281-7f43-4a2b-a572-052a534275a6\", [{\"y\": [942, 1499, 3106, 3993, 6029, 6798, 9838, 8809, 11290, 10822, 14498, 13692, 13244, 11330, 12959, 9873, 11585], \"x\": [\"2013-01-01T00:00:00.000Z\", \"2013-04-01T00:00:00.000Z\", \"2013-07-01T00:00:00.000Z\", \"2013-10-01T00:00:00.000Z\", \"2014-01-01T00:00:00.000Z\", \"2014-04-01T00:00:00.000Z\", \"2014-07-01T00:00:00.000Z\", \"2014-10-01T00:00:00.000Z\", \"2015-01-01T00:00:00.000Z\", \"2015-04-01T00:00:00.000Z\", \"2015-07-01T00:00:00.000Z\", \"2015-10-01T00:00:00.000Z\", \"2016-01-01T00:00:00.000Z\", \"2016-04-01T00:00:00.000Z\", \"2016-07-01T00:00:00.000Z\", \"2016-10-01T00:00:00.000Z\", \"2017-01-01T00:00:00.000Z\"], \"name\": \"female\", \"type\": \"scatter\"}, {\"y\": [16995, 21679, 41379, 45817, 69704, 71188, 83858, 71488, 96139, 92477, 114730, 109154, 124263, 107075, 118588, 87964, 97829], \"x\": [\"2013-01-01T00:00:00.000Z\", \"2013-04-01T00:00:00.000Z\", \"2013-07-01T00:00:00.000Z\", \"2013-10-01T00:00:00.000Z\", \"2014-01-01T00:00:00.000Z\", \"2014-04-01T00:00:00.000Z\", \"2014-07-01T00:00:00.000Z\", \"2014-10-01T00:00:00.000Z\", \"2015-01-01T00:00:00.000Z\", \"2015-04-01T00:00:00.000Z\", \"2015-07-01T00:00:00.000Z\", \"2015-10-01T00:00:00.000Z\", \"2016-01-01T00:00:00.000Z\", \"2016-04-01T00:00:00.000Z\", \"2016-07-01T00:00:00.000Z\", \"2016-10-01T00:00:00.000Z\", \"2017-01-01T00:00:00.000Z\"], \"name\": \"male\", \"type\": \"scatter\"}, {\"y\": [3951, 4211, 6264, 9184, 11650, 10535, 12141, 9932, 14620, 15387, 22022, 23965, 21473, 18841, 21274, 18510, 20493], \"x\": [\"2013-01-01T00:00:00.000Z\", \"2013-04-01T00:00:00.000Z\", \"2013-07-01T00:00:00.000Z\", \"2013-10-01T00:00:00.000Z\", \"2014-01-01T00:00:00.000Z\", \"2014-04-01T00:00:00.000Z\", \"2014-07-01T00:00:00.000Z\", \"2014-10-01T00:00:00.000Z\", \"2015-01-01T00:00:00.000Z\", \"2015-04-01T00:00:00.000Z\", \"2015-07-01T00:00:00.000Z\", \"2015-10-01T00:00:00.000Z\", \"2016-01-01T00:00:00.000Z\", \"2016-04-01T00:00:00.000Z\", \"2016-07-01T00:00:00.000Z\", \"2016-10-01T00:00:00.000Z\", \"2017-01-01T00:00:00.000Z\"], \"name\": \"unknown\", \"type\": \"scatter\"}], {}, {\"linkText\": \"Export to plot.ly\", \"showLink\": true})});</script>"
      ],
      "text/vnd.plotly.v1+html": [
       "<div id=\"83060281-7f43-4a2b-a572-052a534275a6\" style=\"height: 525px; width: 100%;\" class=\"plotly-graph-div\"></div><script type=\"text/javascript\">require([\"plotly\"], function(Plotly) { window.PLOTLYENV=window.PLOTLYENV || {};window.PLOTLYENV.BASE_URL=\"https://plot.ly\";Plotly.newPlot(\"83060281-7f43-4a2b-a572-052a534275a6\", [{\"y\": [942, 1499, 3106, 3993, 6029, 6798, 9838, 8809, 11290, 10822, 14498, 13692, 13244, 11330, 12959, 9873, 11585], \"x\": [\"2013-01-01T00:00:00.000Z\", \"2013-04-01T00:00:00.000Z\", \"2013-07-01T00:00:00.000Z\", \"2013-10-01T00:00:00.000Z\", \"2014-01-01T00:00:00.000Z\", \"2014-04-01T00:00:00.000Z\", \"2014-07-01T00:00:00.000Z\", \"2014-10-01T00:00:00.000Z\", \"2015-01-01T00:00:00.000Z\", \"2015-04-01T00:00:00.000Z\", \"2015-07-01T00:00:00.000Z\", \"2015-10-01T00:00:00.000Z\", \"2016-01-01T00:00:00.000Z\", \"2016-04-01T00:00:00.000Z\", \"2016-07-01T00:00:00.000Z\", \"2016-10-01T00:00:00.000Z\", \"2017-01-01T00:00:00.000Z\"], \"name\": \"female\", \"type\": \"scatter\"}, {\"y\": [16995, 21679, 41379, 45817, 69704, 71188, 83858, 71488, 96139, 92477, 114730, 109154, 124263, 107075, 118588, 87964, 97829], \"x\": [\"2013-01-01T00:00:00.000Z\", \"2013-04-01T00:00:00.000Z\", \"2013-07-01T00:00:00.000Z\", \"2013-10-01T00:00:00.000Z\", \"2014-01-01T00:00:00.000Z\", \"2014-04-01T00:00:00.000Z\", \"2014-07-01T00:00:00.000Z\", \"2014-10-01T00:00:00.000Z\", \"2015-01-01T00:00:00.000Z\", \"2015-04-01T00:00:00.000Z\", \"2015-07-01T00:00:00.000Z\", \"2015-10-01T00:00:00.000Z\", \"2016-01-01T00:00:00.000Z\", \"2016-04-01T00:00:00.000Z\", \"2016-07-01T00:00:00.000Z\", \"2016-10-01T00:00:00.000Z\", \"2017-01-01T00:00:00.000Z\"], \"name\": \"male\", \"type\": \"scatter\"}, {\"y\": [3951, 4211, 6264, 9184, 11650, 10535, 12141, 9932, 14620, 15387, 22022, 23965, 21473, 18841, 21274, 18510, 20493], \"x\": [\"2013-01-01T00:00:00.000Z\", \"2013-04-01T00:00:00.000Z\", \"2013-07-01T00:00:00.000Z\", \"2013-10-01T00:00:00.000Z\", \"2014-01-01T00:00:00.000Z\", \"2014-04-01T00:00:00.000Z\", \"2014-07-01T00:00:00.000Z\", \"2014-10-01T00:00:00.000Z\", \"2015-01-01T00:00:00.000Z\", \"2015-04-01T00:00:00.000Z\", \"2015-07-01T00:00:00.000Z\", \"2015-10-01T00:00:00.000Z\", \"2016-01-01T00:00:00.000Z\", \"2016-04-01T00:00:00.000Z\", \"2016-07-01T00:00:00.000Z\", \"2016-10-01T00:00:00.000Z\", \"2017-01-01T00:00:00.000Z\"], \"name\": \"unknown\", \"type\": \"scatter\"}], {}, {\"linkText\": \"Export to plot.ly\", \"showLink\": true})});</script>"
      ]
     },
     "metadata": {},
     "output_type": "display_data"
    }
   ],
   "source": [
    "METRIC_NAME = \"reviewer\"\n",
    "METRIC_FIELD = \"uuid\"\n",
    "filter_vote = Q('term', eventtype='CHANGESET_PATCHSET_APPROVAL_Code-Review') # filter by event: vote a code review\n",
    "\n",
    "df = query_metric_over_time(INDEX, METRIC_NAME, METRIC_FIELD, [filter_date_4y, filter_vote])\n",
    "draw_evolutionary_chart(\"key_as_string\", \"doc_count\")"
   ]
  },
  {
   "cell_type": "code",
   "execution_count": 17,
   "metadata": {},
   "outputs": [
    {
     "data": {
      "application/vnd.plotly.v1+json": {
       "data": [
        {
         "labels": [
          "male",
          "NotKnown",
          "female"
         ],
         "type": "pie",
         "values": [
          1370327,
          244453,
          150307
         ]
        }
       ],
       "layout": {
        "title": "Changeset votes by Gender (last 4 years)"
       }
      },
      "text/html": [
       "<div id=\"0b973643-72cb-4387-9976-3e81bcab5a2f\" style=\"height: 525px; width: 100%;\" class=\"plotly-graph-div\"></div><script type=\"text/javascript\">require([\"plotly\"], function(Plotly) { window.PLOTLYENV=window.PLOTLYENV || {};window.PLOTLYENV.BASE_URL=\"https://plot.ly\";Plotly.newPlot(\"0b973643-72cb-4387-9976-3e81bcab5a2f\", [{\"values\": [1370327, 244453, 150307], \"type\": \"pie\", \"labels\": [\"male\", \"NotKnown\", \"female\"]}], {\"title\": \"Changeset votes by Gender (last 4 years)\"}, {\"linkText\": \"Export to plot.ly\", \"showLink\": true})});</script>"
      ],
      "text/vnd.plotly.v1+html": [
       "<div id=\"0b973643-72cb-4387-9976-3e81bcab5a2f\" style=\"height: 525px; width: 100%;\" class=\"plotly-graph-div\"></div><script type=\"text/javascript\">require([\"plotly\"], function(Plotly) { window.PLOTLYENV=window.PLOTLYENV || {};window.PLOTLYENV.BASE_URL=\"https://plot.ly\";Plotly.newPlot(\"0b973643-72cb-4387-9976-3e81bcab5a2f\", [{\"values\": [1370327, 244453, 150307], \"type\": \"pie\", \"labels\": [\"male\", \"NotKnown\", \"female\"]}], {\"title\": \"Changeset votes by Gender (last 4 years)\"}, {\"linkText\": \"Export to plot.ly\", \"showLink\": true})});</script>"
      ]
     },
     "metadata": {},
     "output_type": "display_data"
    }
   ],
   "source": [
    "pie_chart_labels, pie_chart_values, pie_chart_count = query_total_piechart(INDEX, METRIC_NAME, METRIC_FIELD,  [filter_date_4y,\n",
    "                                                                                              filter_vote])\n",
    "draw_piechart(pie_chart_labels, pie_chart_count, 'Changeset votes by Gender (last 4 years)')"
   ]
  },
  {
   "cell_type": "code",
   "execution_count": 18,
   "metadata": {},
   "outputs": [
    {
     "data": {
      "application/vnd.plotly.v1+json": {
       "data": [
        {
         "labels": [
          "male",
          "NotKnown",
          "female"
         ],
         "type": "pie",
         "values": [
          409793,
          78969,
          45582
         ]
        }
       ],
       "layout": {
        "title": "Changeset votes by Gender (last year)"
       }
      },
      "text/html": [
       "<div id=\"0a96c2eb-39cf-458b-8de5-fd359f13d291\" style=\"height: 525px; width: 100%;\" class=\"plotly-graph-div\"></div><script type=\"text/javascript\">require([\"plotly\"], function(Plotly) { window.PLOTLYENV=window.PLOTLYENV || {};window.PLOTLYENV.BASE_URL=\"https://plot.ly\";Plotly.newPlot(\"0a96c2eb-39cf-458b-8de5-fd359f13d291\", [{\"values\": [409793, 78969, 45582], \"type\": \"pie\", \"labels\": [\"male\", \"NotKnown\", \"female\"]}], {\"title\": \"Changeset votes by Gender (last year)\"}, {\"linkText\": \"Export to plot.ly\", \"showLink\": true})});</script>"
      ],
      "text/vnd.plotly.v1+html": [
       "<div id=\"0a96c2eb-39cf-458b-8de5-fd359f13d291\" style=\"height: 525px; width: 100%;\" class=\"plotly-graph-div\"></div><script type=\"text/javascript\">require([\"plotly\"], function(Plotly) { window.PLOTLYENV=window.PLOTLYENV || {};window.PLOTLYENV.BASE_URL=\"https://plot.ly\";Plotly.newPlot(\"0a96c2eb-39cf-458b-8de5-fd359f13d291\", [{\"values\": [409793, 78969, 45582], \"type\": \"pie\", \"labels\": [\"male\", \"NotKnown\", \"female\"]}], {\"title\": \"Changeset votes by Gender (last year)\"}, {\"linkText\": \"Export to plot.ly\", \"showLink\": true})});</script>"
      ]
     },
     "metadata": {},
     "output_type": "display_data"
    }
   ],
   "source": [
    "pie_chart_labels, pie_chart_values, pie_chart_count = query_total_piechart(INDEX, METRIC_NAME, METRIC_FIELD,  [filter_date_1y,\n",
    "                                                                                              filter_vote])\n",
    "draw_piechart(pie_chart_labels, pie_chart_count, 'Changeset votes by Gender (last year)')"
   ]
  },
  {
   "cell_type": "markdown",
   "metadata": {},
   "source": [
    "## Number of people voting"
   ]
  },
  {
   "cell_type": "code",
   "execution_count": 19,
   "metadata": {},
   "outputs": [
    {
     "data": {
      "application/vnd.plotly.v1+json": {
       "data": [
        {
         "name": "female",
         "type": "scatter",
         "x": [
          "2013-01-01T00:00:00.000Z",
          "2013-04-01T00:00:00.000Z",
          "2013-07-01T00:00:00.000Z",
          "2013-10-01T00:00:00.000Z",
          "2014-01-01T00:00:00.000Z",
          "2014-04-01T00:00:00.000Z",
          "2014-07-01T00:00:00.000Z",
          "2014-10-01T00:00:00.000Z",
          "2015-01-01T00:00:00.000Z",
          "2015-04-01T00:00:00.000Z",
          "2015-07-01T00:00:00.000Z",
          "2015-10-01T00:00:00.000Z",
          "2016-01-01T00:00:00.000Z",
          "2016-04-01T00:00:00.000Z",
          "2016-07-01T00:00:00.000Z",
          "2016-10-01T00:00:00.000Z",
          "2017-01-01T00:00:00.000Z"
         ],
         "y": [
          31,
          55,
          85,
          94,
          117,
          139,
          160,
          158,
          198,
          222,
          246,
          250,
          277,
          262,
          284,
          228,
          221
         ]
        },
        {
         "name": "male",
         "type": "scatter",
         "x": [
          "2013-01-01T00:00:00.000Z",
          "2013-04-01T00:00:00.000Z",
          "2013-07-01T00:00:00.000Z",
          "2013-10-01T00:00:00.000Z",
          "2014-01-01T00:00:00.000Z",
          "2014-04-01T00:00:00.000Z",
          "2014-07-01T00:00:00.000Z",
          "2014-10-01T00:00:00.000Z",
          "2015-01-01T00:00:00.000Z",
          "2015-04-01T00:00:00.000Z",
          "2015-07-01T00:00:00.000Z",
          "2015-10-01T00:00:00.000Z",
          "2016-01-01T00:00:00.000Z",
          "2016-04-01T00:00:00.000Z",
          "2016-07-01T00:00:00.000Z",
          "2016-10-01T00:00:00.000Z",
          "2017-01-01T00:00:00.000Z"
         ],
         "y": [
          295,
          446,
          625,
          736,
          945,
          1038,
          1189,
          1216,
          1353,
          1404,
          1534,
          1572,
          1667,
          1626,
          1643,
          1509,
          1355
         ]
        },
        {
         "name": "unknown",
         "type": "scatter",
         "x": [
          "2013-01-01T00:00:00.000Z",
          "2013-04-01T00:00:00.000Z",
          "2013-07-01T00:00:00.000Z",
          "2013-10-01T00:00:00.000Z",
          "2014-01-01T00:00:00.000Z",
          "2014-04-01T00:00:00.000Z",
          "2014-07-01T00:00:00.000Z",
          "2014-10-01T00:00:00.000Z",
          "2015-01-01T00:00:00.000Z",
          "2015-04-01T00:00:00.000Z",
          "2015-07-01T00:00:00.000Z",
          "2015-10-01T00:00:00.000Z",
          "2016-01-01T00:00:00.000Z",
          "2016-04-01T00:00:00.000Z",
          "2016-07-01T00:00:00.000Z",
          "2016-10-01T00:00:00.000Z",
          "2017-01-01T00:00:00.000Z"
         ],
         "y": [
          68,
          89,
          119,
          131,
          172,
          176,
          172,
          197,
          221,
          240,
          326,
          313,
          355,
          391,
          419,
          421,
          389
         ]
        }
       ],
       "layout": {}
      },
      "text/html": [
       "<div id=\"c20e11ab-d83b-459b-991d-3361056467e9\" style=\"height: 525px; width: 100%;\" class=\"plotly-graph-div\"></div><script type=\"text/javascript\">require([\"plotly\"], function(Plotly) { window.PLOTLYENV=window.PLOTLYENV || {};window.PLOTLYENV.BASE_URL=\"https://plot.ly\";Plotly.newPlot(\"c20e11ab-d83b-459b-991d-3361056467e9\", [{\"y\": [31, 55, 85, 94, 117, 139, 160, 158, 198, 222, 246, 250, 277, 262, 284, 228, 221], \"x\": [\"2013-01-01T00:00:00.000Z\", \"2013-04-01T00:00:00.000Z\", \"2013-07-01T00:00:00.000Z\", \"2013-10-01T00:00:00.000Z\", \"2014-01-01T00:00:00.000Z\", \"2014-04-01T00:00:00.000Z\", \"2014-07-01T00:00:00.000Z\", \"2014-10-01T00:00:00.000Z\", \"2015-01-01T00:00:00.000Z\", \"2015-04-01T00:00:00.000Z\", \"2015-07-01T00:00:00.000Z\", \"2015-10-01T00:00:00.000Z\", \"2016-01-01T00:00:00.000Z\", \"2016-04-01T00:00:00.000Z\", \"2016-07-01T00:00:00.000Z\", \"2016-10-01T00:00:00.000Z\", \"2017-01-01T00:00:00.000Z\"], \"name\": \"female\", \"type\": \"scatter\"}, {\"y\": [295, 446, 625, 736, 945, 1038, 1189, 1216, 1353, 1404, 1534, 1572, 1667, 1626, 1643, 1509, 1355], \"x\": [\"2013-01-01T00:00:00.000Z\", \"2013-04-01T00:00:00.000Z\", \"2013-07-01T00:00:00.000Z\", \"2013-10-01T00:00:00.000Z\", \"2014-01-01T00:00:00.000Z\", \"2014-04-01T00:00:00.000Z\", \"2014-07-01T00:00:00.000Z\", \"2014-10-01T00:00:00.000Z\", \"2015-01-01T00:00:00.000Z\", \"2015-04-01T00:00:00.000Z\", \"2015-07-01T00:00:00.000Z\", \"2015-10-01T00:00:00.000Z\", \"2016-01-01T00:00:00.000Z\", \"2016-04-01T00:00:00.000Z\", \"2016-07-01T00:00:00.000Z\", \"2016-10-01T00:00:00.000Z\", \"2017-01-01T00:00:00.000Z\"], \"name\": \"male\", \"type\": \"scatter\"}, {\"y\": [68, 89, 119, 131, 172, 176, 172, 197, 221, 240, 326, 313, 355, 391, 419, 421, 389], \"x\": [\"2013-01-01T00:00:00.000Z\", \"2013-04-01T00:00:00.000Z\", \"2013-07-01T00:00:00.000Z\", \"2013-10-01T00:00:00.000Z\", \"2014-01-01T00:00:00.000Z\", \"2014-04-01T00:00:00.000Z\", \"2014-07-01T00:00:00.000Z\", \"2014-10-01T00:00:00.000Z\", \"2015-01-01T00:00:00.000Z\", \"2015-04-01T00:00:00.000Z\", \"2015-07-01T00:00:00.000Z\", \"2015-10-01T00:00:00.000Z\", \"2016-01-01T00:00:00.000Z\", \"2016-04-01T00:00:00.000Z\", \"2016-07-01T00:00:00.000Z\", \"2016-10-01T00:00:00.000Z\", \"2017-01-01T00:00:00.000Z\"], \"name\": \"unknown\", \"type\": \"scatter\"}], {}, {\"linkText\": \"Export to plot.ly\", \"showLink\": true})});</script>"
      ],
      "text/vnd.plotly.v1+html": [
       "<div id=\"c20e11ab-d83b-459b-991d-3361056467e9\" style=\"height: 525px; width: 100%;\" class=\"plotly-graph-div\"></div><script type=\"text/javascript\">require([\"plotly\"], function(Plotly) { window.PLOTLYENV=window.PLOTLYENV || {};window.PLOTLYENV.BASE_URL=\"https://plot.ly\";Plotly.newPlot(\"c20e11ab-d83b-459b-991d-3361056467e9\", [{\"y\": [31, 55, 85, 94, 117, 139, 160, 158, 198, 222, 246, 250, 277, 262, 284, 228, 221], \"x\": [\"2013-01-01T00:00:00.000Z\", \"2013-04-01T00:00:00.000Z\", \"2013-07-01T00:00:00.000Z\", \"2013-10-01T00:00:00.000Z\", \"2014-01-01T00:00:00.000Z\", \"2014-04-01T00:00:00.000Z\", \"2014-07-01T00:00:00.000Z\", \"2014-10-01T00:00:00.000Z\", \"2015-01-01T00:00:00.000Z\", \"2015-04-01T00:00:00.000Z\", \"2015-07-01T00:00:00.000Z\", \"2015-10-01T00:00:00.000Z\", \"2016-01-01T00:00:00.000Z\", \"2016-04-01T00:00:00.000Z\", \"2016-07-01T00:00:00.000Z\", \"2016-10-01T00:00:00.000Z\", \"2017-01-01T00:00:00.000Z\"], \"name\": \"female\", \"type\": \"scatter\"}, {\"y\": [295, 446, 625, 736, 945, 1038, 1189, 1216, 1353, 1404, 1534, 1572, 1667, 1626, 1643, 1509, 1355], \"x\": [\"2013-01-01T00:00:00.000Z\", \"2013-04-01T00:00:00.000Z\", \"2013-07-01T00:00:00.000Z\", \"2013-10-01T00:00:00.000Z\", \"2014-01-01T00:00:00.000Z\", \"2014-04-01T00:00:00.000Z\", \"2014-07-01T00:00:00.000Z\", \"2014-10-01T00:00:00.000Z\", \"2015-01-01T00:00:00.000Z\", \"2015-04-01T00:00:00.000Z\", \"2015-07-01T00:00:00.000Z\", \"2015-10-01T00:00:00.000Z\", \"2016-01-01T00:00:00.000Z\", \"2016-04-01T00:00:00.000Z\", \"2016-07-01T00:00:00.000Z\", \"2016-10-01T00:00:00.000Z\", \"2017-01-01T00:00:00.000Z\"], \"name\": \"male\", \"type\": \"scatter\"}, {\"y\": [68, 89, 119, 131, 172, 176, 172, 197, 221, 240, 326, 313, 355, 391, 419, 421, 389], \"x\": [\"2013-01-01T00:00:00.000Z\", \"2013-04-01T00:00:00.000Z\", \"2013-07-01T00:00:00.000Z\", \"2013-10-01T00:00:00.000Z\", \"2014-01-01T00:00:00.000Z\", \"2014-04-01T00:00:00.000Z\", \"2014-07-01T00:00:00.000Z\", \"2014-10-01T00:00:00.000Z\", \"2015-01-01T00:00:00.000Z\", \"2015-04-01T00:00:00.000Z\", \"2015-07-01T00:00:00.000Z\", \"2015-10-01T00:00:00.000Z\", \"2016-01-01T00:00:00.000Z\", \"2016-04-01T00:00:00.000Z\", \"2016-07-01T00:00:00.000Z\", \"2016-10-01T00:00:00.000Z\", \"2017-01-01T00:00:00.000Z\"], \"name\": \"unknown\", \"type\": \"scatter\"}], {}, {\"linkText\": \"Export to plot.ly\", \"showLink\": true})});</script>"
      ]
     },
     "metadata": {},
     "output_type": "display_data"
    }
   ],
   "source": [
    "draw_evolutionary_chart(\"key_as_string\", METRIC_NAME)"
   ]
  },
  {
   "cell_type": "code",
   "execution_count": 20,
   "metadata": {},
   "outputs": [
    {
     "data": {
      "application/vnd.plotly.v1+json": {
       "data": [
        {
         "labels": [
          "male",
          "NotKnown",
          "female"
         ],
         "type": "pie",
         "values": [
          4401,
          1256,
          735
         ]
        }
       ],
       "layout": {
        "title": "People voting by Gender (last 4 years)"
       }
      },
      "text/html": [
       "<div id=\"1600854f-3256-43ac-b963-899613467aeb\" style=\"height: 525px; width: 100%;\" class=\"plotly-graph-div\"></div><script type=\"text/javascript\">require([\"plotly\"], function(Plotly) { window.PLOTLYENV=window.PLOTLYENV || {};window.PLOTLYENV.BASE_URL=\"https://plot.ly\";Plotly.newPlot(\"1600854f-3256-43ac-b963-899613467aeb\", [{\"values\": [4401, 1256, 735], \"type\": \"pie\", \"labels\": [\"male\", \"NotKnown\", \"female\"]}], {\"title\": \"People voting by Gender (last 4 years)\"}, {\"linkText\": \"Export to plot.ly\", \"showLink\": true})});</script>"
      ],
      "text/vnd.plotly.v1+html": [
       "<div id=\"1600854f-3256-43ac-b963-899613467aeb\" style=\"height: 525px; width: 100%;\" class=\"plotly-graph-div\"></div><script type=\"text/javascript\">require([\"plotly\"], function(Plotly) { window.PLOTLYENV=window.PLOTLYENV || {};window.PLOTLYENV.BASE_URL=\"https://plot.ly\";Plotly.newPlot(\"1600854f-3256-43ac-b963-899613467aeb\", [{\"values\": [4401, 1256, 735], \"type\": \"pie\", \"labels\": [\"male\", \"NotKnown\", \"female\"]}], {\"title\": \"People voting by Gender (last 4 years)\"}, {\"linkText\": \"Export to plot.ly\", \"showLink\": true})});</script>"
      ]
     },
     "metadata": {},
     "output_type": "display_data"
    }
   ],
   "source": [
    "pie_chart_labels, pie_chart_values, pie_chart_count = query_total_piechart(INDEX, METRIC_NAME, METRIC_FIELD,  [filter_date_4y,\n",
    "                                                                                              filter_vote])\n",
    "draw_piechart(pie_chart_labels, pie_chart_values, 'People voting by Gender (last 4 years)')"
   ]
  },
  {
   "cell_type": "code",
   "execution_count": 21,
   "metadata": {},
   "outputs": [
    {
     "data": {
      "application/vnd.plotly.v1+json": {
       "data": [
        {
         "labels": [
          "male",
          "NotKnown",
          "female"
         ],
         "type": "pie",
         "values": [
          2491,
          774,
          424
         ]
        }
       ],
       "layout": {
        "title": "People voting by Gender (last year)"
       }
      },
      "text/html": [
       "<div id=\"817ef91c-805a-441a-9518-9bec4af3d5a2\" style=\"height: 525px; width: 100%;\" class=\"plotly-graph-div\"></div><script type=\"text/javascript\">require([\"plotly\"], function(Plotly) { window.PLOTLYENV=window.PLOTLYENV || {};window.PLOTLYENV.BASE_URL=\"https://plot.ly\";Plotly.newPlot(\"817ef91c-805a-441a-9518-9bec4af3d5a2\", [{\"values\": [2491, 774, 424], \"type\": \"pie\", \"labels\": [\"male\", \"NotKnown\", \"female\"]}], {\"title\": \"People voting by Gender (last year)\"}, {\"linkText\": \"Export to plot.ly\", \"showLink\": true})});</script>"
      ],
      "text/vnd.plotly.v1+html": [
       "<div id=\"817ef91c-805a-441a-9518-9bec4af3d5a2\" style=\"height: 525px; width: 100%;\" class=\"plotly-graph-div\"></div><script type=\"text/javascript\">require([\"plotly\"], function(Plotly) { window.PLOTLYENV=window.PLOTLYENV || {};window.PLOTLYENV.BASE_URL=\"https://plot.ly\";Plotly.newPlot(\"817ef91c-805a-441a-9518-9bec4af3d5a2\", [{\"values\": [2491, 774, 424], \"type\": \"pie\", \"labels\": [\"male\", \"NotKnown\", \"female\"]}], {\"title\": \"People voting by Gender (last year)\"}, {\"linkText\": \"Export to plot.ly\", \"showLink\": true})});</script>"
      ]
     },
     "metadata": {},
     "output_type": "display_data"
    }
   ],
   "source": [
    "pie_chart_labels, pie_chart_values, pie_chart_count = query_total_piechart(INDEX, METRIC_NAME, METRIC_FIELD,  [filter_date_1y,\n",
    "                                                                                              filter_vote])\n",
    "draw_piechart(pie_chart_labels, pie_chart_values, 'People voting by Gender (last year)')"
   ]
  },
  {
   "cell_type": "markdown",
   "metadata": {},
   "source": [
    "## Number of core reviews (-2 OR +2) by gender"
   ]
  },
  {
   "cell_type": "code",
   "execution_count": 22,
   "metadata": {},
   "outputs": [
    {
     "data": {
      "application/vnd.plotly.v1+json": {
       "data": [
        {
         "name": "female",
         "type": "scatter",
         "x": [
          "2013-01-01T00:00:00.000Z",
          "2013-04-01T00:00:00.000Z",
          "2013-07-01T00:00:00.000Z",
          "2013-10-01T00:00:00.000Z",
          "2014-01-01T00:00:00.000Z",
          "2014-04-01T00:00:00.000Z",
          "2014-07-01T00:00:00.000Z",
          "2014-10-01T00:00:00.000Z",
          "2015-01-01T00:00:00.000Z",
          "2015-04-01T00:00:00.000Z",
          "2015-07-01T00:00:00.000Z",
          "2015-10-01T00:00:00.000Z",
          "2016-01-01T00:00:00.000Z",
          "2016-04-01T00:00:00.000Z",
          "2016-07-01T00:00:00.000Z",
          "2016-10-01T00:00:00.000Z",
          "2017-01-01T00:00:00.000Z"
         ],
         "y": [
          450,
          649,
          1238,
          1310,
          1881,
          1958,
          2707,
          2397,
          3640,
          4258,
          5621,
          5860,
          5406,
          5053,
          5486,
          4678,
          5606
         ]
        },
        {
         "name": "male",
         "type": "scatter",
         "x": [
          "2013-01-01T00:00:00.000Z",
          "2013-04-01T00:00:00.000Z",
          "2013-07-01T00:00:00.000Z",
          "2013-10-01T00:00:00.000Z",
          "2014-01-01T00:00:00.000Z",
          "2014-04-01T00:00:00.000Z",
          "2014-07-01T00:00:00.000Z",
          "2014-10-01T00:00:00.000Z",
          "2015-01-01T00:00:00.000Z",
          "2015-04-01T00:00:00.000Z",
          "2015-07-01T00:00:00.000Z",
          "2015-10-01T00:00:00.000Z",
          "2016-01-01T00:00:00.000Z",
          "2016-04-01T00:00:00.000Z",
          "2016-07-01T00:00:00.000Z",
          "2016-10-01T00:00:00.000Z",
          "2017-01-01T00:00:00.000Z"
         ],
         "y": [
          9990,
          11416,
          21682,
          21709,
          32824,
          29865,
          35296,
          29119,
          39406,
          40612,
          48532,
          45188,
          55850,
          49389,
          62901,
          47408,
          56887
         ]
        },
        {
         "name": "unknown",
         "type": "scatter",
         "x": [
          "2013-01-01T00:00:00.000Z",
          "2013-04-01T00:00:00.000Z",
          "2013-07-01T00:00:00.000Z",
          "2013-10-01T00:00:00.000Z",
          "2014-01-01T00:00:00.000Z",
          "2014-04-01T00:00:00.000Z",
          "2014-07-01T00:00:00.000Z",
          "2014-10-01T00:00:00.000Z",
          "2015-01-01T00:00:00.000Z",
          "2015-04-01T00:00:00.000Z",
          "2015-07-01T00:00:00.000Z",
          "2015-10-01T00:00:00.000Z",
          "2016-01-01T00:00:00.000Z",
          "2016-04-01T00:00:00.000Z",
          "2016-07-01T00:00:00.000Z",
          "2016-10-01T00:00:00.000Z",
          "2017-01-01T00:00:00.000Z"
         ],
         "y": [
          1990,
          2173,
          2385,
          2697,
          3821,
          2959,
          4121,
          2865,
          4615,
          4538,
          6472,
          7283,
          7858,
          6616,
          6938,
          6070,
          8455
         ]
        }
       ],
       "layout": {}
      },
      "text/html": [
       "<div id=\"82357ee5-1073-42dd-b834-b15db198b181\" style=\"height: 525px; width: 100%;\" class=\"plotly-graph-div\"></div><script type=\"text/javascript\">require([\"plotly\"], function(Plotly) { window.PLOTLYENV=window.PLOTLYENV || {};window.PLOTLYENV.BASE_URL=\"https://plot.ly\";Plotly.newPlot(\"82357ee5-1073-42dd-b834-b15db198b181\", [{\"y\": [450, 649, 1238, 1310, 1881, 1958, 2707, 2397, 3640, 4258, 5621, 5860, 5406, 5053, 5486, 4678, 5606], \"x\": [\"2013-01-01T00:00:00.000Z\", \"2013-04-01T00:00:00.000Z\", \"2013-07-01T00:00:00.000Z\", \"2013-10-01T00:00:00.000Z\", \"2014-01-01T00:00:00.000Z\", \"2014-04-01T00:00:00.000Z\", \"2014-07-01T00:00:00.000Z\", \"2014-10-01T00:00:00.000Z\", \"2015-01-01T00:00:00.000Z\", \"2015-04-01T00:00:00.000Z\", \"2015-07-01T00:00:00.000Z\", \"2015-10-01T00:00:00.000Z\", \"2016-01-01T00:00:00.000Z\", \"2016-04-01T00:00:00.000Z\", \"2016-07-01T00:00:00.000Z\", \"2016-10-01T00:00:00.000Z\", \"2017-01-01T00:00:00.000Z\"], \"name\": \"female\", \"type\": \"scatter\"}, {\"y\": [9990, 11416, 21682, 21709, 32824, 29865, 35296, 29119, 39406, 40612, 48532, 45188, 55850, 49389, 62901, 47408, 56887], \"x\": [\"2013-01-01T00:00:00.000Z\", \"2013-04-01T00:00:00.000Z\", \"2013-07-01T00:00:00.000Z\", \"2013-10-01T00:00:00.000Z\", \"2014-01-01T00:00:00.000Z\", \"2014-04-01T00:00:00.000Z\", \"2014-07-01T00:00:00.000Z\", \"2014-10-01T00:00:00.000Z\", \"2015-01-01T00:00:00.000Z\", \"2015-04-01T00:00:00.000Z\", \"2015-07-01T00:00:00.000Z\", \"2015-10-01T00:00:00.000Z\", \"2016-01-01T00:00:00.000Z\", \"2016-04-01T00:00:00.000Z\", \"2016-07-01T00:00:00.000Z\", \"2016-10-01T00:00:00.000Z\", \"2017-01-01T00:00:00.000Z\"], \"name\": \"male\", \"type\": \"scatter\"}, {\"y\": [1990, 2173, 2385, 2697, 3821, 2959, 4121, 2865, 4615, 4538, 6472, 7283, 7858, 6616, 6938, 6070, 8455], \"x\": [\"2013-01-01T00:00:00.000Z\", \"2013-04-01T00:00:00.000Z\", \"2013-07-01T00:00:00.000Z\", \"2013-10-01T00:00:00.000Z\", \"2014-01-01T00:00:00.000Z\", \"2014-04-01T00:00:00.000Z\", \"2014-07-01T00:00:00.000Z\", \"2014-10-01T00:00:00.000Z\", \"2015-01-01T00:00:00.000Z\", \"2015-04-01T00:00:00.000Z\", \"2015-07-01T00:00:00.000Z\", \"2015-10-01T00:00:00.000Z\", \"2016-01-01T00:00:00.000Z\", \"2016-04-01T00:00:00.000Z\", \"2016-07-01T00:00:00.000Z\", \"2016-10-01T00:00:00.000Z\", \"2017-01-01T00:00:00.000Z\"], \"name\": \"unknown\", \"type\": \"scatter\"}], {}, {\"linkText\": \"Export to plot.ly\", \"showLink\": true})});</script>"
      ],
      "text/vnd.plotly.v1+html": [
       "<div id=\"82357ee5-1073-42dd-b834-b15db198b181\" style=\"height: 525px; width: 100%;\" class=\"plotly-graph-div\"></div><script type=\"text/javascript\">require([\"plotly\"], function(Plotly) { window.PLOTLYENV=window.PLOTLYENV || {};window.PLOTLYENV.BASE_URL=\"https://plot.ly\";Plotly.newPlot(\"82357ee5-1073-42dd-b834-b15db198b181\", [{\"y\": [450, 649, 1238, 1310, 1881, 1958, 2707, 2397, 3640, 4258, 5621, 5860, 5406, 5053, 5486, 4678, 5606], \"x\": [\"2013-01-01T00:00:00.000Z\", \"2013-04-01T00:00:00.000Z\", \"2013-07-01T00:00:00.000Z\", \"2013-10-01T00:00:00.000Z\", \"2014-01-01T00:00:00.000Z\", \"2014-04-01T00:00:00.000Z\", \"2014-07-01T00:00:00.000Z\", \"2014-10-01T00:00:00.000Z\", \"2015-01-01T00:00:00.000Z\", \"2015-04-01T00:00:00.000Z\", \"2015-07-01T00:00:00.000Z\", \"2015-10-01T00:00:00.000Z\", \"2016-01-01T00:00:00.000Z\", \"2016-04-01T00:00:00.000Z\", \"2016-07-01T00:00:00.000Z\", \"2016-10-01T00:00:00.000Z\", \"2017-01-01T00:00:00.000Z\"], \"name\": \"female\", \"type\": \"scatter\"}, {\"y\": [9990, 11416, 21682, 21709, 32824, 29865, 35296, 29119, 39406, 40612, 48532, 45188, 55850, 49389, 62901, 47408, 56887], \"x\": [\"2013-01-01T00:00:00.000Z\", \"2013-04-01T00:00:00.000Z\", \"2013-07-01T00:00:00.000Z\", \"2013-10-01T00:00:00.000Z\", \"2014-01-01T00:00:00.000Z\", \"2014-04-01T00:00:00.000Z\", \"2014-07-01T00:00:00.000Z\", \"2014-10-01T00:00:00.000Z\", \"2015-01-01T00:00:00.000Z\", \"2015-04-01T00:00:00.000Z\", \"2015-07-01T00:00:00.000Z\", \"2015-10-01T00:00:00.000Z\", \"2016-01-01T00:00:00.000Z\", \"2016-04-01T00:00:00.000Z\", \"2016-07-01T00:00:00.000Z\", \"2016-10-01T00:00:00.000Z\", \"2017-01-01T00:00:00.000Z\"], \"name\": \"male\", \"type\": \"scatter\"}, {\"y\": [1990, 2173, 2385, 2697, 3821, 2959, 4121, 2865, 4615, 4538, 6472, 7283, 7858, 6616, 6938, 6070, 8455], \"x\": [\"2013-01-01T00:00:00.000Z\", \"2013-04-01T00:00:00.000Z\", \"2013-07-01T00:00:00.000Z\", \"2013-10-01T00:00:00.000Z\", \"2014-01-01T00:00:00.000Z\", \"2014-04-01T00:00:00.000Z\", \"2014-07-01T00:00:00.000Z\", \"2014-10-01T00:00:00.000Z\", \"2015-01-01T00:00:00.000Z\", \"2015-04-01T00:00:00.000Z\", \"2015-07-01T00:00:00.000Z\", \"2015-10-01T00:00:00.000Z\", \"2016-01-01T00:00:00.000Z\", \"2016-04-01T00:00:00.000Z\", \"2016-07-01T00:00:00.000Z\", \"2016-10-01T00:00:00.000Z\", \"2017-01-01T00:00:00.000Z\"], \"name\": \"unknown\", \"type\": \"scatter\"}], {}, {\"linkText\": \"Export to plot.ly\", \"showLink\": true})});</script>"
      ]
     },
     "metadata": {},
     "output_type": "display_data"
    }
   ],
   "source": [
    "METRIC_NAME = \"core_reviewers\"\n",
    "METRIC_FIELD = \"uuid\"\n",
    "\n",
    "filter_core_vote = Q('terms', value=[\"2\", \"-2\"])\n",
    "filter_vote = Q('term', eventtype='CHANGESET_PATCHSET_APPROVAL_Code-Review') # filter by event: vote a code review\n",
    "df = query_metric_over_time(INDEX, METRIC_NAME, METRIC_FIELD, [filter_core_vote, filter_date_4y, filter_vote])\n",
    "draw_evolutionary_chart(\"key_as_string\", \"doc_count\")"
   ]
  },
  {
   "cell_type": "code",
   "execution_count": 23,
   "metadata": {},
   "outputs": [
    {
     "data": {
      "application/vnd.plotly.v1+json": {
       "data": [
        {
         "labels": [
          "male",
          "NotKnown",
          "female"
         ],
         "type": "pie",
         "values": [
          638074,
          81856,
          58198
         ]
        }
       ],
       "layout": {
        "title": "Core Reviews by Gender (last 4 years)"
       }
      },
      "text/html": [
       "<div id=\"4a41df3c-c740-4386-9b62-11c786d6ff9e\" style=\"height: 525px; width: 100%;\" class=\"plotly-graph-div\"></div><script type=\"text/javascript\">require([\"plotly\"], function(Plotly) { window.PLOTLYENV=window.PLOTLYENV || {};window.PLOTLYENV.BASE_URL=\"https://plot.ly\";Plotly.newPlot(\"4a41df3c-c740-4386-9b62-11c786d6ff9e\", [{\"values\": [638074, 81856, 58198], \"type\": \"pie\", \"labels\": [\"male\", \"NotKnown\", \"female\"]}], {\"title\": \"Core Reviews by Gender (last 4 years)\"}, {\"linkText\": \"Export to plot.ly\", \"showLink\": true})});</script>"
      ],
      "text/vnd.plotly.v1+html": [
       "<div id=\"4a41df3c-c740-4386-9b62-11c786d6ff9e\" style=\"height: 525px; width: 100%;\" class=\"plotly-graph-div\"></div><script type=\"text/javascript\">require([\"plotly\"], function(Plotly) { window.PLOTLYENV=window.PLOTLYENV || {};window.PLOTLYENV.BASE_URL=\"https://plot.ly\";Plotly.newPlot(\"4a41df3c-c740-4386-9b62-11c786d6ff9e\", [{\"values\": [638074, 81856, 58198], \"type\": \"pie\", \"labels\": [\"male\", \"NotKnown\", \"female\"]}], {\"title\": \"Core Reviews by Gender (last 4 years)\"}, {\"linkText\": \"Export to plot.ly\", \"showLink\": true})});</script>"
      ]
     },
     "metadata": {},
     "output_type": "display_data"
    }
   ],
   "source": [
    "pie_chart_labels, pie_chart_values, pie_chart_count = query_total_piechart(INDEX, METRIC_NAME, METRIC_FIELD,  [filter_date_4y,\n",
    "                                                                                              filter_vote, filter_core_vote])\n",
    "draw_piechart(pie_chart_labels, pie_chart_count, 'Core Reviews by Gender (last 4 years)')"
   ]
  },
  {
   "cell_type": "code",
   "execution_count": 24,
   "metadata": {},
   "outputs": [
    {
     "data": {
      "application/vnd.plotly.v1+json": {
       "data": [
        {
         "labels": [
          "male",
          "NotKnown",
          "female"
         ],
         "type": "pie",
         "values": [
          215857,
          28044,
          20743
         ]
        }
       ],
       "layout": {
        "title": "Core Reviews by Gender (last year)"
       }
      },
      "text/html": [
       "<div id=\"1f9db9b6-2da1-4f33-8f37-e71923bc25ae\" style=\"height: 525px; width: 100%;\" class=\"plotly-graph-div\"></div><script type=\"text/javascript\">require([\"plotly\"], function(Plotly) { window.PLOTLYENV=window.PLOTLYENV || {};window.PLOTLYENV.BASE_URL=\"https://plot.ly\";Plotly.newPlot(\"1f9db9b6-2da1-4f33-8f37-e71923bc25ae\", [{\"values\": [215857, 28044, 20743], \"type\": \"pie\", \"labels\": [\"male\", \"NotKnown\", \"female\"]}], {\"title\": \"Core Reviews by Gender (last year)\"}, {\"linkText\": \"Export to plot.ly\", \"showLink\": true})});</script>"
      ],
      "text/vnd.plotly.v1+html": [
       "<div id=\"1f9db9b6-2da1-4f33-8f37-e71923bc25ae\" style=\"height: 525px; width: 100%;\" class=\"plotly-graph-div\"></div><script type=\"text/javascript\">require([\"plotly\"], function(Plotly) { window.PLOTLYENV=window.PLOTLYENV || {};window.PLOTLYENV.BASE_URL=\"https://plot.ly\";Plotly.newPlot(\"1f9db9b6-2da1-4f33-8f37-e71923bc25ae\", [{\"values\": [215857, 28044, 20743], \"type\": \"pie\", \"labels\": [\"male\", \"NotKnown\", \"female\"]}], {\"title\": \"Core Reviews by Gender (last year)\"}, {\"linkText\": \"Export to plot.ly\", \"showLink\": true})});</script>"
      ]
     },
     "metadata": {},
     "output_type": "display_data"
    }
   ],
   "source": [
    "pie_chart_labels, pie_chart_values, pie_chart_count = query_total_piechart(INDEX, METRIC_NAME, METRIC_FIELD,  [filter_date_1y,\n",
    "                                                                                              filter_vote, filter_core_vote])\n",
    "draw_piechart(pie_chart_labels, pie_chart_count, 'Core Reviews by Gender (last year)')"
   ]
  },
  {
   "cell_type": "markdown",
   "metadata": {},
   "source": [
    "## Number of people acting as core reviewers (-2 OR +2) by gender"
   ]
  },
  {
   "cell_type": "code",
   "execution_count": 25,
   "metadata": {},
   "outputs": [
    {
     "data": {
      "application/vnd.plotly.v1+json": {
       "data": [
        {
         "name": "female",
         "type": "scatter",
         "x": [
          "2013-01-01T00:00:00.000Z",
          "2013-04-01T00:00:00.000Z",
          "2013-07-01T00:00:00.000Z",
          "2013-10-01T00:00:00.000Z",
          "2014-01-01T00:00:00.000Z",
          "2014-04-01T00:00:00.000Z",
          "2014-07-01T00:00:00.000Z",
          "2014-10-01T00:00:00.000Z",
          "2015-01-01T00:00:00.000Z",
          "2015-04-01T00:00:00.000Z",
          "2015-07-01T00:00:00.000Z",
          "2015-10-01T00:00:00.000Z",
          "2016-01-01T00:00:00.000Z",
          "2016-04-01T00:00:00.000Z",
          "2016-07-01T00:00:00.000Z",
          "2016-10-01T00:00:00.000Z",
          "2017-01-01T00:00:00.000Z"
         ],
         "y": [
          9,
          14,
          18,
          20,
          28,
          33,
          40,
          41,
          60,
          63,
          83,
          97,
          102,
          104,
          101,
          92,
          89
         ]
        },
        {
         "name": "male",
         "type": "scatter",
         "x": [
          "2013-01-01T00:00:00.000Z",
          "2013-04-01T00:00:00.000Z",
          "2013-07-01T00:00:00.000Z",
          "2013-10-01T00:00:00.000Z",
          "2014-01-01T00:00:00.000Z",
          "2014-04-01T00:00:00.000Z",
          "2014-07-01T00:00:00.000Z",
          "2014-10-01T00:00:00.000Z",
          "2015-01-01T00:00:00.000Z",
          "2015-04-01T00:00:00.000Z",
          "2015-07-01T00:00:00.000Z",
          "2015-10-01T00:00:00.000Z",
          "2016-01-01T00:00:00.000Z",
          "2016-04-01T00:00:00.000Z",
          "2016-07-01T00:00:00.000Z",
          "2016-10-01T00:00:00.000Z",
          "2017-01-01T00:00:00.000Z"
         ],
         "y": [
          102,
          132,
          190,
          219,
          281,
          296,
          344,
          360,
          419,
          492,
          543,
          582,
          601,
          651,
          686,
          676,
          623
         ]
        },
        {
         "name": "unknown",
         "type": "scatter",
         "x": [
          "2013-01-01T00:00:00.000Z",
          "2013-04-01T00:00:00.000Z",
          "2013-07-01T00:00:00.000Z",
          "2013-10-01T00:00:00.000Z",
          "2014-01-01T00:00:00.000Z",
          "2014-04-01T00:00:00.000Z",
          "2014-07-01T00:00:00.000Z",
          "2014-10-01T00:00:00.000Z",
          "2015-01-01T00:00:00.000Z",
          "2015-04-01T00:00:00.000Z",
          "2015-07-01T00:00:00.000Z",
          "2015-10-01T00:00:00.000Z",
          "2016-01-01T00:00:00.000Z",
          "2016-04-01T00:00:00.000Z",
          "2016-07-01T00:00:00.000Z",
          "2016-10-01T00:00:00.000Z",
          "2017-01-01T00:00:00.000Z"
         ],
         "y": [
          22,
          25,
          28,
          28,
          34,
          38,
          39,
          41,
          47,
          56,
          79,
          95,
          102,
          109,
          118,
          109,
          119
         ]
        }
       ],
       "layout": {}
      },
      "text/html": [
       "<div id=\"20a97294-221d-4335-a8dc-1d81a0f4ca45\" style=\"height: 525px; width: 100%;\" class=\"plotly-graph-div\"></div><script type=\"text/javascript\">require([\"plotly\"], function(Plotly) { window.PLOTLYENV=window.PLOTLYENV || {};window.PLOTLYENV.BASE_URL=\"https://plot.ly\";Plotly.newPlot(\"20a97294-221d-4335-a8dc-1d81a0f4ca45\", [{\"y\": [9, 14, 18, 20, 28, 33, 40, 41, 60, 63, 83, 97, 102, 104, 101, 92, 89], \"x\": [\"2013-01-01T00:00:00.000Z\", \"2013-04-01T00:00:00.000Z\", \"2013-07-01T00:00:00.000Z\", \"2013-10-01T00:00:00.000Z\", \"2014-01-01T00:00:00.000Z\", \"2014-04-01T00:00:00.000Z\", \"2014-07-01T00:00:00.000Z\", \"2014-10-01T00:00:00.000Z\", \"2015-01-01T00:00:00.000Z\", \"2015-04-01T00:00:00.000Z\", \"2015-07-01T00:00:00.000Z\", \"2015-10-01T00:00:00.000Z\", \"2016-01-01T00:00:00.000Z\", \"2016-04-01T00:00:00.000Z\", \"2016-07-01T00:00:00.000Z\", \"2016-10-01T00:00:00.000Z\", \"2017-01-01T00:00:00.000Z\"], \"name\": \"female\", \"type\": \"scatter\"}, {\"y\": [102, 132, 190, 219, 281, 296, 344, 360, 419, 492, 543, 582, 601, 651, 686, 676, 623], \"x\": [\"2013-01-01T00:00:00.000Z\", \"2013-04-01T00:00:00.000Z\", \"2013-07-01T00:00:00.000Z\", \"2013-10-01T00:00:00.000Z\", \"2014-01-01T00:00:00.000Z\", \"2014-04-01T00:00:00.000Z\", \"2014-07-01T00:00:00.000Z\", \"2014-10-01T00:00:00.000Z\", \"2015-01-01T00:00:00.000Z\", \"2015-04-01T00:00:00.000Z\", \"2015-07-01T00:00:00.000Z\", \"2015-10-01T00:00:00.000Z\", \"2016-01-01T00:00:00.000Z\", \"2016-04-01T00:00:00.000Z\", \"2016-07-01T00:00:00.000Z\", \"2016-10-01T00:00:00.000Z\", \"2017-01-01T00:00:00.000Z\"], \"name\": \"male\", \"type\": \"scatter\"}, {\"y\": [22, 25, 28, 28, 34, 38, 39, 41, 47, 56, 79, 95, 102, 109, 118, 109, 119], \"x\": [\"2013-01-01T00:00:00.000Z\", \"2013-04-01T00:00:00.000Z\", \"2013-07-01T00:00:00.000Z\", \"2013-10-01T00:00:00.000Z\", \"2014-01-01T00:00:00.000Z\", \"2014-04-01T00:00:00.000Z\", \"2014-07-01T00:00:00.000Z\", \"2014-10-01T00:00:00.000Z\", \"2015-01-01T00:00:00.000Z\", \"2015-04-01T00:00:00.000Z\", \"2015-07-01T00:00:00.000Z\", \"2015-10-01T00:00:00.000Z\", \"2016-01-01T00:00:00.000Z\", \"2016-04-01T00:00:00.000Z\", \"2016-07-01T00:00:00.000Z\", \"2016-10-01T00:00:00.000Z\", \"2017-01-01T00:00:00.000Z\"], \"name\": \"unknown\", \"type\": \"scatter\"}], {}, {\"linkText\": \"Export to plot.ly\", \"showLink\": true})});</script>"
      ],
      "text/vnd.plotly.v1+html": [
       "<div id=\"20a97294-221d-4335-a8dc-1d81a0f4ca45\" style=\"height: 525px; width: 100%;\" class=\"plotly-graph-div\"></div><script type=\"text/javascript\">require([\"plotly\"], function(Plotly) { window.PLOTLYENV=window.PLOTLYENV || {};window.PLOTLYENV.BASE_URL=\"https://plot.ly\";Plotly.newPlot(\"20a97294-221d-4335-a8dc-1d81a0f4ca45\", [{\"y\": [9, 14, 18, 20, 28, 33, 40, 41, 60, 63, 83, 97, 102, 104, 101, 92, 89], \"x\": [\"2013-01-01T00:00:00.000Z\", \"2013-04-01T00:00:00.000Z\", \"2013-07-01T00:00:00.000Z\", \"2013-10-01T00:00:00.000Z\", \"2014-01-01T00:00:00.000Z\", \"2014-04-01T00:00:00.000Z\", \"2014-07-01T00:00:00.000Z\", \"2014-10-01T00:00:00.000Z\", \"2015-01-01T00:00:00.000Z\", \"2015-04-01T00:00:00.000Z\", \"2015-07-01T00:00:00.000Z\", \"2015-10-01T00:00:00.000Z\", \"2016-01-01T00:00:00.000Z\", \"2016-04-01T00:00:00.000Z\", \"2016-07-01T00:00:00.000Z\", \"2016-10-01T00:00:00.000Z\", \"2017-01-01T00:00:00.000Z\"], \"name\": \"female\", \"type\": \"scatter\"}, {\"y\": [102, 132, 190, 219, 281, 296, 344, 360, 419, 492, 543, 582, 601, 651, 686, 676, 623], \"x\": [\"2013-01-01T00:00:00.000Z\", \"2013-04-01T00:00:00.000Z\", \"2013-07-01T00:00:00.000Z\", \"2013-10-01T00:00:00.000Z\", \"2014-01-01T00:00:00.000Z\", \"2014-04-01T00:00:00.000Z\", \"2014-07-01T00:00:00.000Z\", \"2014-10-01T00:00:00.000Z\", \"2015-01-01T00:00:00.000Z\", \"2015-04-01T00:00:00.000Z\", \"2015-07-01T00:00:00.000Z\", \"2015-10-01T00:00:00.000Z\", \"2016-01-01T00:00:00.000Z\", \"2016-04-01T00:00:00.000Z\", \"2016-07-01T00:00:00.000Z\", \"2016-10-01T00:00:00.000Z\", \"2017-01-01T00:00:00.000Z\"], \"name\": \"male\", \"type\": \"scatter\"}, {\"y\": [22, 25, 28, 28, 34, 38, 39, 41, 47, 56, 79, 95, 102, 109, 118, 109, 119], \"x\": [\"2013-01-01T00:00:00.000Z\", \"2013-04-01T00:00:00.000Z\", \"2013-07-01T00:00:00.000Z\", \"2013-10-01T00:00:00.000Z\", \"2014-01-01T00:00:00.000Z\", \"2014-04-01T00:00:00.000Z\", \"2014-07-01T00:00:00.000Z\", \"2014-10-01T00:00:00.000Z\", \"2015-01-01T00:00:00.000Z\", \"2015-04-01T00:00:00.000Z\", \"2015-07-01T00:00:00.000Z\", \"2015-10-01T00:00:00.000Z\", \"2016-01-01T00:00:00.000Z\", \"2016-04-01T00:00:00.000Z\", \"2016-07-01T00:00:00.000Z\", \"2016-10-01T00:00:00.000Z\", \"2017-01-01T00:00:00.000Z\"], \"name\": \"unknown\", \"type\": \"scatter\"}], {}, {\"linkText\": \"Export to plot.ly\", \"showLink\": true})});</script>"
      ]
     },
     "metadata": {},
     "output_type": "display_data"
    }
   ],
   "source": [
    "draw_evolutionary_chart(\"key_as_string\", METRIC_NAME)"
   ]
  },
  {
   "cell_type": "code",
   "execution_count": 26,
   "metadata": {},
   "outputs": [
    {
     "data": {
      "application/vnd.plotly.v1+json": {
       "data": [
        {
         "labels": [
          "male",
          "NotKnown",
          "female"
         ],
         "type": "pie",
         "values": [
          1313,
          258,
          212
         ]
        }
       ],
       "layout": {
        "title": "Core Reviewers by Gender (last 4 years)"
       }
      },
      "text/html": [
       "<div id=\"05a0866f-2bef-43de-8260-cb5d54b2d654\" style=\"height: 525px; width: 100%;\" class=\"plotly-graph-div\"></div><script type=\"text/javascript\">require([\"plotly\"], function(Plotly) { window.PLOTLYENV=window.PLOTLYENV || {};window.PLOTLYENV.BASE_URL=\"https://plot.ly\";Plotly.newPlot(\"05a0866f-2bef-43de-8260-cb5d54b2d654\", [{\"values\": [1313, 258, 212], \"type\": \"pie\", \"labels\": [\"male\", \"NotKnown\", \"female\"]}], {\"title\": \"Core Reviewers by Gender (last 4 years)\"}, {\"linkText\": \"Export to plot.ly\", \"showLink\": true})});</script>"
      ],
      "text/vnd.plotly.v1+html": [
       "<div id=\"05a0866f-2bef-43de-8260-cb5d54b2d654\" style=\"height: 525px; width: 100%;\" class=\"plotly-graph-div\"></div><script type=\"text/javascript\">require([\"plotly\"], function(Plotly) { window.PLOTLYENV=window.PLOTLYENV || {};window.PLOTLYENV.BASE_URL=\"https://plot.ly\";Plotly.newPlot(\"05a0866f-2bef-43de-8260-cb5d54b2d654\", [{\"values\": [1313, 258, 212], \"type\": \"pie\", \"labels\": [\"male\", \"NotKnown\", \"female\"]}], {\"title\": \"Core Reviewers by Gender (last 4 years)\"}, {\"linkText\": \"Export to plot.ly\", \"showLink\": true})});</script>"
      ]
     },
     "metadata": {},
     "output_type": "display_data"
    }
   ],
   "source": [
    "pie_chart_labels, pie_chart_values, pie_chart_count = query_total_piechart(INDEX, METRIC_NAME, METRIC_FIELD,  [filter_date_4y,\n",
    "                                                                                              filter_vote, filter_core_vote])\n",
    "draw_piechart(pie_chart_labels, pie_chart_values, 'Core Reviewers by Gender (last 4 years)')"
   ]
  },
  {
   "cell_type": "code",
   "execution_count": 27,
   "metadata": {},
   "outputs": [
    {
     "data": {
      "application/vnd.plotly.v1+json": {
       "data": [
        {
         "labels": [
          "male",
          "NotKnown",
          "female"
         ],
         "type": "pie",
         "values": [
          937,
          189,
          141
         ]
        }
       ],
       "layout": {
        "title": "Core Reviewers by Gender (last year)"
       }
      },
      "text/html": [
       "<div id=\"ce2d6de9-7446-43c4-b407-806a7a799a3d\" style=\"height: 525px; width: 100%;\" class=\"plotly-graph-div\"></div><script type=\"text/javascript\">require([\"plotly\"], function(Plotly) { window.PLOTLYENV=window.PLOTLYENV || {};window.PLOTLYENV.BASE_URL=\"https://plot.ly\";Plotly.newPlot(\"ce2d6de9-7446-43c4-b407-806a7a799a3d\", [{\"values\": [937, 189, 141], \"type\": \"pie\", \"labels\": [\"male\", \"NotKnown\", \"female\"]}], {\"title\": \"Core Reviewers by Gender (last year)\"}, {\"linkText\": \"Export to plot.ly\", \"showLink\": true})});</script>"
      ],
      "text/vnd.plotly.v1+html": [
       "<div id=\"ce2d6de9-7446-43c4-b407-806a7a799a3d\" style=\"height: 525px; width: 100%;\" class=\"plotly-graph-div\"></div><script type=\"text/javascript\">require([\"plotly\"], function(Plotly) { window.PLOTLYENV=window.PLOTLYENV || {};window.PLOTLYENV.BASE_URL=\"https://plot.ly\";Plotly.newPlot(\"ce2d6de9-7446-43c4-b407-806a7a799a3d\", [{\"values\": [937, 189, 141], \"type\": \"pie\", \"labels\": [\"male\", \"NotKnown\", \"female\"]}], {\"title\": \"Core Reviewers by Gender (last year)\"}, {\"linkText\": \"Export to plot.ly\", \"showLink\": true})});</script>"
      ]
     },
     "metadata": {},
     "output_type": "display_data"
    }
   ],
   "source": [
    "pie_chart_labels, pie_chart_values, pie_chart_count = query_total_piechart(INDEX, METRIC_NAME, METRIC_FIELD,  [filter_date_1y,\n",
    "                                                                                              filter_vote, filter_core_vote])\n",
    "draw_piechart(pie_chart_labels, pie_chart_values, 'Core Reviewers by Gender (last year)')"
   ]
  },
  {
   "cell_type": "markdown",
   "metadata": {},
   "source": [
    "# GIT"
   ]
  },
  {
   "cell_type": "code",
   "execution_count": 28,
   "metadata": {
    "collapsed": true
   },
   "outputs": [],
   "source": [
    "INDEX = \"git_eventized\"\n",
    "filter_merges_addedlines = Q('range', addedlines={'gt': 0})\n",
    "filter_merges_removedlines = Q('range', removedlines={'gt': 0})\n",
    "filter_bots = Q('bool', must_not=[Q('match', gender_analyzed_name='Jenkins')])"
   ]
  },
  {
   "cell_type": "code",
   "execution_count": 29,
   "metadata": {
    "collapsed": true
   },
   "outputs": [],
   "source": [
    "git_filter = Q('bool',\n",
    "    must_not=[Q('match', gender_analyzed_name='Jenkins')],\n",
    "    should=[filter_merges_addedlines, filter_merges_removedlines]\n",
    ")"
   ]
  },
  {
   "cell_type": "markdown",
   "metadata": {},
   "source": [
    "* Evolution and trends over time [per quarter] of commits by gender\n",
    "  * Commits by gender (columns: hash, gender)"
   ]
  },
  {
   "cell_type": "code",
   "execution_count": 30,
   "metadata": {
    "collapsed": true
   },
   "outputs": [],
   "source": [
    "METRIC_NAME = \"commits\"\n",
    "METRIC_FIELD = \"id.keyword\"\n",
    "#df = query_metric_over_time(INDEX, METRIC_NAME, METRIC_FIELD, [filter_date_4y, filter_merges_addedlines,\n",
    "#                                                               filter_merges_removedlines, filter_bots])\n",
    "df = query_metric_over_time(INDEX, METRIC_NAME, METRIC_FIELD, [filter_date_4y, git_filter])"
   ]
  },
  {
   "cell_type": "code",
   "execution_count": 31,
   "metadata": {},
   "outputs": [
    {
     "data": {
      "application/vnd.plotly.v1+json": {
       "data": [
        {
         "name": "female",
         "type": "scatter",
         "x": [
          "2013-01-01T00:00:00.000Z",
          "2013-04-01T00:00:00.000Z",
          "2013-07-01T00:00:00.000Z",
          "2013-10-01T00:00:00.000Z",
          "2014-01-01T00:00:00.000Z",
          "2014-04-01T00:00:00.000Z",
          "2014-07-01T00:00:00.000Z",
          "2014-10-01T00:00:00.000Z",
          "2015-01-01T00:00:00.000Z",
          "2015-04-01T00:00:00.000Z",
          "2015-07-01T00:00:00.000Z",
          "2015-10-01T00:00:00.000Z",
          "2016-01-01T00:00:00.000Z",
          "2016-04-01T00:00:00.000Z",
          "2016-07-01T00:00:00.000Z",
          "2016-10-01T00:00:00.000Z",
          "2017-01-01T00:00:00.000Z"
         ],
         "y": [
          761,
          819,
          1496,
          966,
          1175,
          1347,
          2019,
          1418,
          1923,
          1978,
          2194,
          2301,
          2378,
          2128,
          2583,
          1684,
          1532
         ]
        },
        {
         "name": "male",
         "type": "scatter",
         "x": [
          "2013-01-01T00:00:00.000Z",
          "2013-04-01T00:00:00.000Z",
          "2013-07-01T00:00:00.000Z",
          "2013-10-01T00:00:00.000Z",
          "2014-01-01T00:00:00.000Z",
          "2014-04-01T00:00:00.000Z",
          "2014-07-01T00:00:00.000Z",
          "2014-10-01T00:00:00.000Z",
          "2015-01-01T00:00:00.000Z",
          "2015-04-01T00:00:00.000Z",
          "2015-07-01T00:00:00.000Z",
          "2015-10-01T00:00:00.000Z",
          "2016-01-01T00:00:00.000Z",
          "2016-04-01T00:00:00.000Z",
          "2016-07-01T00:00:00.000Z",
          "2016-10-01T00:00:00.000Z",
          "2017-01-01T00:00:00.000Z"
         ],
         "y": [
          12932,
          13793,
          16887,
          15576,
          19472,
          17960,
          19270,
          17710,
          21889,
          22095,
          23424,
          20817,
          24985,
          21684,
          24589,
          16902,
          13905
         ]
        },
        {
         "name": "unknown",
         "type": "scatter",
         "x": [
          "2013-01-01T00:00:00.000Z",
          "2013-04-01T00:00:00.000Z",
          "2013-07-01T00:00:00.000Z",
          "2013-10-01T00:00:00.000Z",
          "2014-01-01T00:00:00.000Z",
          "2014-04-01T00:00:00.000Z",
          "2014-07-01T00:00:00.000Z",
          "2014-10-01T00:00:00.000Z",
          "2015-01-01T00:00:00.000Z",
          "2015-04-01T00:00:00.000Z",
          "2015-07-01T00:00:00.000Z",
          "2015-10-01T00:00:00.000Z",
          "2016-01-01T00:00:00.000Z",
          "2016-04-01T00:00:00.000Z",
          "2016-07-01T00:00:00.000Z",
          "2016-10-01T00:00:00.000Z",
          "2017-01-01T00:00:00.000Z"
         ],
         "y": [
          2016,
          2491,
          2675,
          3006,
          4061,
          2992,
          3409,
          3316,
          4181,
          4182,
          5949,
          5979,
          5698,
          6130,
          6811,
          6515,
          6265
         ]
        }
       ],
       "layout": {}
      },
      "text/html": [
       "<div id=\"811a191d-743f-486f-8485-7be6fed84d08\" style=\"height: 525px; width: 100%;\" class=\"plotly-graph-div\"></div><script type=\"text/javascript\">require([\"plotly\"], function(Plotly) { window.PLOTLYENV=window.PLOTLYENV || {};window.PLOTLYENV.BASE_URL=\"https://plot.ly\";Plotly.newPlot(\"811a191d-743f-486f-8485-7be6fed84d08\", [{\"y\": [761, 819, 1496, 966, 1175, 1347, 2019, 1418, 1923, 1978, 2194, 2301, 2378, 2128, 2583, 1684, 1532], \"x\": [\"2013-01-01T00:00:00.000Z\", \"2013-04-01T00:00:00.000Z\", \"2013-07-01T00:00:00.000Z\", \"2013-10-01T00:00:00.000Z\", \"2014-01-01T00:00:00.000Z\", \"2014-04-01T00:00:00.000Z\", \"2014-07-01T00:00:00.000Z\", \"2014-10-01T00:00:00.000Z\", \"2015-01-01T00:00:00.000Z\", \"2015-04-01T00:00:00.000Z\", \"2015-07-01T00:00:00.000Z\", \"2015-10-01T00:00:00.000Z\", \"2016-01-01T00:00:00.000Z\", \"2016-04-01T00:00:00.000Z\", \"2016-07-01T00:00:00.000Z\", \"2016-10-01T00:00:00.000Z\", \"2017-01-01T00:00:00.000Z\"], \"name\": \"female\", \"type\": \"scatter\"}, {\"y\": [12932, 13793, 16887, 15576, 19472, 17960, 19270, 17710, 21889, 22095, 23424, 20817, 24985, 21684, 24589, 16902, 13905], \"x\": [\"2013-01-01T00:00:00.000Z\", \"2013-04-01T00:00:00.000Z\", \"2013-07-01T00:00:00.000Z\", \"2013-10-01T00:00:00.000Z\", \"2014-01-01T00:00:00.000Z\", \"2014-04-01T00:00:00.000Z\", \"2014-07-01T00:00:00.000Z\", \"2014-10-01T00:00:00.000Z\", \"2015-01-01T00:00:00.000Z\", \"2015-04-01T00:00:00.000Z\", \"2015-07-01T00:00:00.000Z\", \"2015-10-01T00:00:00.000Z\", \"2016-01-01T00:00:00.000Z\", \"2016-04-01T00:00:00.000Z\", \"2016-07-01T00:00:00.000Z\", \"2016-10-01T00:00:00.000Z\", \"2017-01-01T00:00:00.000Z\"], \"name\": \"male\", \"type\": \"scatter\"}, {\"y\": [2016, 2491, 2675, 3006, 4061, 2992, 3409, 3316, 4181, 4182, 5949, 5979, 5698, 6130, 6811, 6515, 6265], \"x\": [\"2013-01-01T00:00:00.000Z\", \"2013-04-01T00:00:00.000Z\", \"2013-07-01T00:00:00.000Z\", \"2013-10-01T00:00:00.000Z\", \"2014-01-01T00:00:00.000Z\", \"2014-04-01T00:00:00.000Z\", \"2014-07-01T00:00:00.000Z\", \"2014-10-01T00:00:00.000Z\", \"2015-01-01T00:00:00.000Z\", \"2015-04-01T00:00:00.000Z\", \"2015-07-01T00:00:00.000Z\", \"2015-10-01T00:00:00.000Z\", \"2016-01-01T00:00:00.000Z\", \"2016-04-01T00:00:00.000Z\", \"2016-07-01T00:00:00.000Z\", \"2016-10-01T00:00:00.000Z\", \"2017-01-01T00:00:00.000Z\"], \"name\": \"unknown\", \"type\": \"scatter\"}], {}, {\"linkText\": \"Export to plot.ly\", \"showLink\": true})});</script>"
      ],
      "text/vnd.plotly.v1+html": [
       "<div id=\"811a191d-743f-486f-8485-7be6fed84d08\" style=\"height: 525px; width: 100%;\" class=\"plotly-graph-div\"></div><script type=\"text/javascript\">require([\"plotly\"], function(Plotly) { window.PLOTLYENV=window.PLOTLYENV || {};window.PLOTLYENV.BASE_URL=\"https://plot.ly\";Plotly.newPlot(\"811a191d-743f-486f-8485-7be6fed84d08\", [{\"y\": [761, 819, 1496, 966, 1175, 1347, 2019, 1418, 1923, 1978, 2194, 2301, 2378, 2128, 2583, 1684, 1532], \"x\": [\"2013-01-01T00:00:00.000Z\", \"2013-04-01T00:00:00.000Z\", \"2013-07-01T00:00:00.000Z\", \"2013-10-01T00:00:00.000Z\", \"2014-01-01T00:00:00.000Z\", \"2014-04-01T00:00:00.000Z\", \"2014-07-01T00:00:00.000Z\", \"2014-10-01T00:00:00.000Z\", \"2015-01-01T00:00:00.000Z\", \"2015-04-01T00:00:00.000Z\", \"2015-07-01T00:00:00.000Z\", \"2015-10-01T00:00:00.000Z\", \"2016-01-01T00:00:00.000Z\", \"2016-04-01T00:00:00.000Z\", \"2016-07-01T00:00:00.000Z\", \"2016-10-01T00:00:00.000Z\", \"2017-01-01T00:00:00.000Z\"], \"name\": \"female\", \"type\": \"scatter\"}, {\"y\": [12932, 13793, 16887, 15576, 19472, 17960, 19270, 17710, 21889, 22095, 23424, 20817, 24985, 21684, 24589, 16902, 13905], \"x\": [\"2013-01-01T00:00:00.000Z\", \"2013-04-01T00:00:00.000Z\", \"2013-07-01T00:00:00.000Z\", \"2013-10-01T00:00:00.000Z\", \"2014-01-01T00:00:00.000Z\", \"2014-04-01T00:00:00.000Z\", \"2014-07-01T00:00:00.000Z\", \"2014-10-01T00:00:00.000Z\", \"2015-01-01T00:00:00.000Z\", \"2015-04-01T00:00:00.000Z\", \"2015-07-01T00:00:00.000Z\", \"2015-10-01T00:00:00.000Z\", \"2016-01-01T00:00:00.000Z\", \"2016-04-01T00:00:00.000Z\", \"2016-07-01T00:00:00.000Z\", \"2016-10-01T00:00:00.000Z\", \"2017-01-01T00:00:00.000Z\"], \"name\": \"male\", \"type\": \"scatter\"}, {\"y\": [2016, 2491, 2675, 3006, 4061, 2992, 3409, 3316, 4181, 4182, 5949, 5979, 5698, 6130, 6811, 6515, 6265], \"x\": [\"2013-01-01T00:00:00.000Z\", \"2013-04-01T00:00:00.000Z\", \"2013-07-01T00:00:00.000Z\", \"2013-10-01T00:00:00.000Z\", \"2014-01-01T00:00:00.000Z\", \"2014-04-01T00:00:00.000Z\", \"2014-07-01T00:00:00.000Z\", \"2014-10-01T00:00:00.000Z\", \"2015-01-01T00:00:00.000Z\", \"2015-04-01T00:00:00.000Z\", \"2015-07-01T00:00:00.000Z\", \"2015-10-01T00:00:00.000Z\", \"2016-01-01T00:00:00.000Z\", \"2016-04-01T00:00:00.000Z\", \"2016-07-01T00:00:00.000Z\", \"2016-10-01T00:00:00.000Z\", \"2017-01-01T00:00:00.000Z\"], \"name\": \"unknown\", \"type\": \"scatter\"}], {}, {\"linkText\": \"Export to plot.ly\", \"showLink\": true})});</script>"
      ]
     },
     "metadata": {},
     "output_type": "display_data"
    }
   ],
   "source": [
    "draw_evolutionary_chart(\"key_as_string\", METRIC_NAME)"
   ]
  },
  {
   "cell_type": "code",
   "execution_count": 32,
   "metadata": {},
   "outputs": [
    {
     "data": {
      "application/vnd.plotly.v1+json": {
       "data": [
        {
         "labels": [
          "male",
          "NotKnown",
          "female"
         ],
         "type": "pie",
         "values": [
          324438,
          75443,
          28694
         ]
        }
       ],
       "layout": {
        "title": "Commits by Gender (last 4 years)"
       }
      },
      "text/html": [
       "<div id=\"9d3db45c-68c7-489c-a2b2-920efc6b7a81\" style=\"height: 525px; width: 100%;\" class=\"plotly-graph-div\"></div><script type=\"text/javascript\">require([\"plotly\"], function(Plotly) { window.PLOTLYENV=window.PLOTLYENV || {};window.PLOTLYENV.BASE_URL=\"https://plot.ly\";Plotly.newPlot(\"9d3db45c-68c7-489c-a2b2-920efc6b7a81\", [{\"values\": [324438, 75443, 28694], \"type\": \"pie\", \"labels\": [\"male\", \"NotKnown\", \"female\"]}], {\"title\": \"Commits by Gender (last 4 years)\"}, {\"linkText\": \"Export to plot.ly\", \"showLink\": true})});</script>"
      ],
      "text/vnd.plotly.v1+html": [
       "<div id=\"9d3db45c-68c7-489c-a2b2-920efc6b7a81\" style=\"height: 525px; width: 100%;\" class=\"plotly-graph-div\"></div><script type=\"text/javascript\">require([\"plotly\"], function(Plotly) { window.PLOTLYENV=window.PLOTLYENV || {};window.PLOTLYENV.BASE_URL=\"https://plot.ly\";Plotly.newPlot(\"9d3db45c-68c7-489c-a2b2-920efc6b7a81\", [{\"values\": [324438, 75443, 28694], \"type\": \"pie\", \"labels\": [\"male\", \"NotKnown\", \"female\"]}], {\"title\": \"Commits by Gender (last 4 years)\"}, {\"linkText\": \"Export to plot.ly\", \"showLink\": true})});</script>"
      ]
     },
     "metadata": {},
     "output_type": "display_data"
    }
   ],
   "source": [
    "#pie_chart_labels, pie_chart_values = query_total_piechart(INDEX, METRIC_NAME, METRIC_FIELD, \n",
    "#                                                            [filter_date_4y, filter_merges_addedlines,\n",
    "#                                                             filter_merges_removedlines, filter_bots])\n",
    "\n",
    "pie_chart_labels, pie_chart_values, pie_chart_count = query_total_piechart(INDEX, METRIC_NAME, METRIC_FIELD, \n",
    "                                                            [filter_date_4y, git_filter])\n",
    "\n",
    "draw_piechart(pie_chart_labels, pie_chart_values, 'Commits by Gender (last 4 years)')"
   ]
  },
  {
   "cell_type": "code",
   "execution_count": 33,
   "metadata": {},
   "outputs": [
    {
     "data": {
      "application/vnd.plotly.v1+json": {
       "data": [
        {
         "labels": [
          "male",
          "NotKnown",
          "female"
         ],
         "type": "pie",
         "values": [
          76865,
          25664,
          7894
         ]
        }
       ],
       "layout": {
        "title": "Commits by Gender (last year)"
       }
      },
      "text/html": [
       "<div id=\"abab7295-2db2-47ac-8014-6ce68cf0b9cb\" style=\"height: 525px; width: 100%;\" class=\"plotly-graph-div\"></div><script type=\"text/javascript\">require([\"plotly\"], function(Plotly) { window.PLOTLYENV=window.PLOTLYENV || {};window.PLOTLYENV.BASE_URL=\"https://plot.ly\";Plotly.newPlot(\"abab7295-2db2-47ac-8014-6ce68cf0b9cb\", [{\"values\": [76865, 25664, 7894], \"type\": \"pie\", \"labels\": [\"male\", \"NotKnown\", \"female\"]}], {\"title\": \"Commits by Gender (last year)\"}, {\"linkText\": \"Export to plot.ly\", \"showLink\": true})});</script>"
      ],
      "text/vnd.plotly.v1+html": [
       "<div id=\"abab7295-2db2-47ac-8014-6ce68cf0b9cb\" style=\"height: 525px; width: 100%;\" class=\"plotly-graph-div\"></div><script type=\"text/javascript\">require([\"plotly\"], function(Plotly) { window.PLOTLYENV=window.PLOTLYENV || {};window.PLOTLYENV.BASE_URL=\"https://plot.ly\";Plotly.newPlot(\"abab7295-2db2-47ac-8014-6ce68cf0b9cb\", [{\"values\": [76865, 25664, 7894], \"type\": \"pie\", \"labels\": [\"male\", \"NotKnown\", \"female\"]}], {\"title\": \"Commits by Gender (last year)\"}, {\"linkText\": \"Export to plot.ly\", \"showLink\": true})});</script>"
      ]
     },
     "metadata": {},
     "output_type": "display_data"
    }
   ],
   "source": [
    "#pie_chart_labels, pie_chart_values = query_total_piechart(INDEX, METRIC_NAME, METRIC_FIELD, \n",
    "#                                                            [filter_date_1y, filter_merges_addedlines,\n",
    "#                                                             filter_merges_removedlines, filter_bots])\n",
    "\n",
    "pie_chart_labels, pie_chart_values, pie_chart_count = query_total_piechart(INDEX, METRIC_NAME, METRIC_FIELD, \n",
    "                                                            [filter_date_1y, git_filter])\n",
    "\n",
    "draw_piechart(pie_chart_labels, pie_chart_values, 'Commits by Gender (last year)')"
   ]
  },
  {
   "cell_type": "markdown",
   "metadata": {},
   "source": [
    "\n",
    "* Evolution and trends [per quarter] of developers over time by gender\n",
    "  * Developers by gender (columns: name, uuid, gender)"
   ]
  },
  {
   "cell_type": "code",
   "execution_count": 34,
   "metadata": {},
   "outputs": [
    {
     "data": {
      "application/vnd.plotly.v1+json": {
       "data": [
        {
         "name": "female",
         "type": "scatter",
         "x": [
          "2013-01-01T00:00:00.000Z",
          "2013-04-01T00:00:00.000Z",
          "2013-07-01T00:00:00.000Z",
          "2013-10-01T00:00:00.000Z",
          "2014-01-01T00:00:00.000Z",
          "2014-04-01T00:00:00.000Z",
          "2014-07-01T00:00:00.000Z",
          "2014-10-01T00:00:00.000Z",
          "2015-01-01T00:00:00.000Z",
          "2015-04-01T00:00:00.000Z",
          "2015-07-01T00:00:00.000Z",
          "2015-10-01T00:00:00.000Z",
          "2016-01-01T00:00:00.000Z",
          "2016-04-01T00:00:00.000Z",
          "2016-07-01T00:00:00.000Z",
          "2016-10-01T00:00:00.000Z",
          "2017-01-01T00:00:00.000Z"
         ],
         "y": [
          53,
          68,
          96,
          93,
          125,
          132,
          170,
          146,
          189,
          170,
          223,
          207,
          263,
          232,
          221,
          179,
          158
         ]
        },
        {
         "name": "male",
         "type": "scatter",
         "x": [
          "2013-01-01T00:00:00.000Z",
          "2013-04-01T00:00:00.000Z",
          "2013-07-01T00:00:00.000Z",
          "2013-10-01T00:00:00.000Z",
          "2014-01-01T00:00:00.000Z",
          "2014-04-01T00:00:00.000Z",
          "2014-07-01T00:00:00.000Z",
          "2014-10-01T00:00:00.000Z",
          "2015-01-01T00:00:00.000Z",
          "2015-04-01T00:00:00.000Z",
          "2015-07-01T00:00:00.000Z",
          "2015-10-01T00:00:00.000Z",
          "2016-01-01T00:00:00.000Z",
          "2016-04-01T00:00:00.000Z",
          "2016-07-01T00:00:00.000Z",
          "2016-10-01T00:00:00.000Z",
          "2017-01-01T00:00:00.000Z"
         ],
         "y": [
          593,
          729,
          851,
          850,
          1063,
          1103,
          1189,
          1173,
          1327,
          1318,
          1478,
          1362,
          1539,
          1451,
          1437,
          1172,
          978
         ]
        },
        {
         "name": "unknown",
         "type": "scatter",
         "x": [
          "2013-01-01T00:00:00.000Z",
          "2013-04-01T00:00:00.000Z",
          "2013-07-01T00:00:00.000Z",
          "2013-10-01T00:00:00.000Z",
          "2014-01-01T00:00:00.000Z",
          "2014-04-01T00:00:00.000Z",
          "2014-07-01T00:00:00.000Z",
          "2014-10-01T00:00:00.000Z",
          "2015-01-01T00:00:00.000Z",
          "2015-04-01T00:00:00.000Z",
          "2015-07-01T00:00:00.000Z",
          "2015-10-01T00:00:00.000Z",
          "2016-01-01T00:00:00.000Z",
          "2016-04-01T00:00:00.000Z",
          "2016-07-01T00:00:00.000Z",
          "2016-10-01T00:00:00.000Z",
          "2017-01-01T00:00:00.000Z"
         ],
         "y": [
          146,
          171,
          209,
          242,
          255,
          266,
          281,
          259,
          334,
          327,
          418,
          390,
          458,
          440,
          491,
          403,
          389
         ]
        }
       ],
       "layout": {}
      },
      "text/html": [
       "<div id=\"ebf04b27-78c5-41a9-9939-79d86096f63c\" style=\"height: 525px; width: 100%;\" class=\"plotly-graph-div\"></div><script type=\"text/javascript\">require([\"plotly\"], function(Plotly) { window.PLOTLYENV=window.PLOTLYENV || {};window.PLOTLYENV.BASE_URL=\"https://plot.ly\";Plotly.newPlot(\"ebf04b27-78c5-41a9-9939-79d86096f63c\", [{\"y\": [53, 68, 96, 93, 125, 132, 170, 146, 189, 170, 223, 207, 263, 232, 221, 179, 158], \"x\": [\"2013-01-01T00:00:00.000Z\", \"2013-04-01T00:00:00.000Z\", \"2013-07-01T00:00:00.000Z\", \"2013-10-01T00:00:00.000Z\", \"2014-01-01T00:00:00.000Z\", \"2014-04-01T00:00:00.000Z\", \"2014-07-01T00:00:00.000Z\", \"2014-10-01T00:00:00.000Z\", \"2015-01-01T00:00:00.000Z\", \"2015-04-01T00:00:00.000Z\", \"2015-07-01T00:00:00.000Z\", \"2015-10-01T00:00:00.000Z\", \"2016-01-01T00:00:00.000Z\", \"2016-04-01T00:00:00.000Z\", \"2016-07-01T00:00:00.000Z\", \"2016-10-01T00:00:00.000Z\", \"2017-01-01T00:00:00.000Z\"], \"name\": \"female\", \"type\": \"scatter\"}, {\"y\": [593, 729, 851, 850, 1063, 1103, 1189, 1173, 1327, 1318, 1478, 1362, 1539, 1451, 1437, 1172, 978], \"x\": [\"2013-01-01T00:00:00.000Z\", \"2013-04-01T00:00:00.000Z\", \"2013-07-01T00:00:00.000Z\", \"2013-10-01T00:00:00.000Z\", \"2014-01-01T00:00:00.000Z\", \"2014-04-01T00:00:00.000Z\", \"2014-07-01T00:00:00.000Z\", \"2014-10-01T00:00:00.000Z\", \"2015-01-01T00:00:00.000Z\", \"2015-04-01T00:00:00.000Z\", \"2015-07-01T00:00:00.000Z\", \"2015-10-01T00:00:00.000Z\", \"2016-01-01T00:00:00.000Z\", \"2016-04-01T00:00:00.000Z\", \"2016-07-01T00:00:00.000Z\", \"2016-10-01T00:00:00.000Z\", \"2017-01-01T00:00:00.000Z\"], \"name\": \"male\", \"type\": \"scatter\"}, {\"y\": [146, 171, 209, 242, 255, 266, 281, 259, 334, 327, 418, 390, 458, 440, 491, 403, 389], \"x\": [\"2013-01-01T00:00:00.000Z\", \"2013-04-01T00:00:00.000Z\", \"2013-07-01T00:00:00.000Z\", \"2013-10-01T00:00:00.000Z\", \"2014-01-01T00:00:00.000Z\", \"2014-04-01T00:00:00.000Z\", \"2014-07-01T00:00:00.000Z\", \"2014-10-01T00:00:00.000Z\", \"2015-01-01T00:00:00.000Z\", \"2015-04-01T00:00:00.000Z\", \"2015-07-01T00:00:00.000Z\", \"2015-10-01T00:00:00.000Z\", \"2016-01-01T00:00:00.000Z\", \"2016-04-01T00:00:00.000Z\", \"2016-07-01T00:00:00.000Z\", \"2016-10-01T00:00:00.000Z\", \"2017-01-01T00:00:00.000Z\"], \"name\": \"unknown\", \"type\": \"scatter\"}], {}, {\"linkText\": \"Export to plot.ly\", \"showLink\": true})});</script>"
      ],
      "text/vnd.plotly.v1+html": [
       "<div id=\"ebf04b27-78c5-41a9-9939-79d86096f63c\" style=\"height: 525px; width: 100%;\" class=\"plotly-graph-div\"></div><script type=\"text/javascript\">require([\"plotly\"], function(Plotly) { window.PLOTLYENV=window.PLOTLYENV || {};window.PLOTLYENV.BASE_URL=\"https://plot.ly\";Plotly.newPlot(\"ebf04b27-78c5-41a9-9939-79d86096f63c\", [{\"y\": [53, 68, 96, 93, 125, 132, 170, 146, 189, 170, 223, 207, 263, 232, 221, 179, 158], \"x\": [\"2013-01-01T00:00:00.000Z\", \"2013-04-01T00:00:00.000Z\", \"2013-07-01T00:00:00.000Z\", \"2013-10-01T00:00:00.000Z\", \"2014-01-01T00:00:00.000Z\", \"2014-04-01T00:00:00.000Z\", \"2014-07-01T00:00:00.000Z\", \"2014-10-01T00:00:00.000Z\", \"2015-01-01T00:00:00.000Z\", \"2015-04-01T00:00:00.000Z\", \"2015-07-01T00:00:00.000Z\", \"2015-10-01T00:00:00.000Z\", \"2016-01-01T00:00:00.000Z\", \"2016-04-01T00:00:00.000Z\", \"2016-07-01T00:00:00.000Z\", \"2016-10-01T00:00:00.000Z\", \"2017-01-01T00:00:00.000Z\"], \"name\": \"female\", \"type\": \"scatter\"}, {\"y\": [593, 729, 851, 850, 1063, 1103, 1189, 1173, 1327, 1318, 1478, 1362, 1539, 1451, 1437, 1172, 978], \"x\": [\"2013-01-01T00:00:00.000Z\", \"2013-04-01T00:00:00.000Z\", \"2013-07-01T00:00:00.000Z\", \"2013-10-01T00:00:00.000Z\", \"2014-01-01T00:00:00.000Z\", \"2014-04-01T00:00:00.000Z\", \"2014-07-01T00:00:00.000Z\", \"2014-10-01T00:00:00.000Z\", \"2015-01-01T00:00:00.000Z\", \"2015-04-01T00:00:00.000Z\", \"2015-07-01T00:00:00.000Z\", \"2015-10-01T00:00:00.000Z\", \"2016-01-01T00:00:00.000Z\", \"2016-04-01T00:00:00.000Z\", \"2016-07-01T00:00:00.000Z\", \"2016-10-01T00:00:00.000Z\", \"2017-01-01T00:00:00.000Z\"], \"name\": \"male\", \"type\": \"scatter\"}, {\"y\": [146, 171, 209, 242, 255, 266, 281, 259, 334, 327, 418, 390, 458, 440, 491, 403, 389], \"x\": [\"2013-01-01T00:00:00.000Z\", \"2013-04-01T00:00:00.000Z\", \"2013-07-01T00:00:00.000Z\", \"2013-10-01T00:00:00.000Z\", \"2014-01-01T00:00:00.000Z\", \"2014-04-01T00:00:00.000Z\", \"2014-07-01T00:00:00.000Z\", \"2014-10-01T00:00:00.000Z\", \"2015-01-01T00:00:00.000Z\", \"2015-04-01T00:00:00.000Z\", \"2015-07-01T00:00:00.000Z\", \"2015-10-01T00:00:00.000Z\", \"2016-01-01T00:00:00.000Z\", \"2016-04-01T00:00:00.000Z\", \"2016-07-01T00:00:00.000Z\", \"2016-10-01T00:00:00.000Z\", \"2017-01-01T00:00:00.000Z\"], \"name\": \"unknown\", \"type\": \"scatter\"}], {}, {\"linkText\": \"Export to plot.ly\", \"showLink\": true})});</script>"
      ]
     },
     "metadata": {},
     "output_type": "display_data"
    }
   ],
   "source": [
    "METRIC_NAME = \"authors\"\n",
    "METRIC_FIELD = \"uuid\"\n",
    "filter_merges_addedlines = Q('range', addedlines={'gt': 0})\n",
    "filter_merges_removedlines = Q('range', removedlines={'gt': 0})\n",
    "filter_bots = Q('bool', must_not=[Q('match', gender_analyzed_name='Jenkins')])\n",
    "#df = query_metric_over_time(INDEX, METRIC_NAME, METRIC_FIELD, [filter_date_4y, filter_merges_addedlines, filter_merges_removedlines, filter_bots])\n",
    "df = query_metric_over_time(INDEX, METRIC_NAME, METRIC_FIELD, [filter_date_4y, git_filter])\n",
    "\n",
    "draw_evolutionary_chart(\"key_as_string\", METRIC_NAME)"
   ]
  },
  {
   "cell_type": "code",
   "execution_count": 35,
   "metadata": {},
   "outputs": [
    {
     "data": {
      "application/vnd.plotly.v1+json": {
       "data": [
        {
         "labels": [
          "male",
          "NotKnown",
          "female"
         ],
         "type": "pie",
         "values": [
          5807,
          2386,
          890
         ]
        }
       ],
       "layout": {
        "title": "Authors by Gender (last 4 years)"
       }
      },
      "text/html": [
       "<div id=\"e8492b39-ff6d-449a-ac7b-6b72ece28ae8\" style=\"height: 525px; width: 100%;\" class=\"plotly-graph-div\"></div><script type=\"text/javascript\">require([\"plotly\"], function(Plotly) { window.PLOTLYENV=window.PLOTLYENV || {};window.PLOTLYENV.BASE_URL=\"https://plot.ly\";Plotly.newPlot(\"e8492b39-ff6d-449a-ac7b-6b72ece28ae8\", [{\"values\": [5807, 2386, 890], \"type\": \"pie\", \"labels\": [\"male\", \"NotKnown\", \"female\"]}], {\"title\": \"Authors by Gender (last 4 years)\"}, {\"linkText\": \"Export to plot.ly\", \"showLink\": true})});</script>"
      ],
      "text/vnd.plotly.v1+html": [
       "<div id=\"e8492b39-ff6d-449a-ac7b-6b72ece28ae8\" style=\"height: 525px; width: 100%;\" class=\"plotly-graph-div\"></div><script type=\"text/javascript\">require([\"plotly\"], function(Plotly) { window.PLOTLYENV=window.PLOTLYENV || {};window.PLOTLYENV.BASE_URL=\"https://plot.ly\";Plotly.newPlot(\"e8492b39-ff6d-449a-ac7b-6b72ece28ae8\", [{\"values\": [5807, 2386, 890], \"type\": \"pie\", \"labels\": [\"male\", \"NotKnown\", \"female\"]}], {\"title\": \"Authors by Gender (last 4 years)\"}, {\"linkText\": \"Export to plot.ly\", \"showLink\": true})});</script>"
      ]
     },
     "metadata": {},
     "output_type": "display_data"
    }
   ],
   "source": [
    "pie_chart_labels, pie_chart_values, pie_chart_count = query_total_piechart(INDEX, METRIC_NAME, METRIC_FIELD, \n",
    "                                                            [filter_date_4y, git_filter])\n",
    "draw_piechart(pie_chart_labels, pie_chart_values, 'Authors by Gender (last 4 years)')"
   ]
  },
  {
   "cell_type": "code",
   "execution_count": 36,
   "metadata": {},
   "outputs": [
    {
     "data": {
      "application/vnd.plotly.v1+json": {
       "data": [
        {
         "labels": [
          "male",
          "NotKnown",
          "female"
         ],
         "type": "pie",
         "values": [
          2455,
          988,
          399
         ]
        }
       ],
       "layout": {
        "title": "Authors by Gender (last year)"
       }
      },
      "text/html": [
       "<div id=\"6e0bbaf0-3a1e-45a1-b9f6-6ec4309f1d21\" style=\"height: 525px; width: 100%;\" class=\"plotly-graph-div\"></div><script type=\"text/javascript\">require([\"plotly\"], function(Plotly) { window.PLOTLYENV=window.PLOTLYENV || {};window.PLOTLYENV.BASE_URL=\"https://plot.ly\";Plotly.newPlot(\"6e0bbaf0-3a1e-45a1-b9f6-6ec4309f1d21\", [{\"values\": [2455, 988, 399], \"type\": \"pie\", \"labels\": [\"male\", \"NotKnown\", \"female\"]}], {\"title\": \"Authors by Gender (last year)\"}, {\"linkText\": \"Export to plot.ly\", \"showLink\": true})});</script>"
      ],
      "text/vnd.plotly.v1+html": [
       "<div id=\"6e0bbaf0-3a1e-45a1-b9f6-6ec4309f1d21\" style=\"height: 525px; width: 100%;\" class=\"plotly-graph-div\"></div><script type=\"text/javascript\">require([\"plotly\"], function(Plotly) { window.PLOTLYENV=window.PLOTLYENV || {};window.PLOTLYENV.BASE_URL=\"https://plot.ly\";Plotly.newPlot(\"6e0bbaf0-3a1e-45a1-b9f6-6ec4309f1d21\", [{\"values\": [2455, 988, 399], \"type\": \"pie\", \"labels\": [\"male\", \"NotKnown\", \"female\"]}], {\"title\": \"Authors by Gender (last year)\"}, {\"linkText\": \"Export to plot.ly\", \"showLink\": true})});</script>"
      ]
     },
     "metadata": {},
     "output_type": "display_data"
    }
   ],
   "source": [
    "pie_chart_labels, pie_chart_values, pie_chart_count = query_total_piechart(INDEX, METRIC_NAME, METRIC_FIELD, \n",
    "                                                            [filter_date_1y, git_filter])\n",
    "draw_piechart(pie_chart_labels, pie_chart_values, 'Authors by Gender (last year)')"
   ]
  },
  {
   "cell_type": "markdown",
   "metadata": {},
   "source": [
    "* Evolution and trends of type of contributions (code or others) by gender over time\n",
    "  * Type of file touched by developers (columns: filetype, gender)"
   ]
  },
  {
   "cell_type": "code",
   "execution_count": 37,
   "metadata": {},
   "outputs": [
    {
     "data": {
      "application/vnd.plotly.v1+json": {
       "data": [
        {
         "name": "female",
         "type": "scatter",
         "x": [
          "2013-01-01T00:00:00.000Z",
          "2013-04-01T00:00:00.000Z",
          "2013-07-01T00:00:00.000Z",
          "2013-10-01T00:00:00.000Z",
          "2014-01-01T00:00:00.000Z",
          "2014-04-01T00:00:00.000Z",
          "2014-07-01T00:00:00.000Z",
          "2014-10-01T00:00:00.000Z",
          "2015-01-01T00:00:00.000Z",
          "2015-04-01T00:00:00.000Z",
          "2015-07-01T00:00:00.000Z",
          "2015-10-01T00:00:00.000Z",
          "2016-01-01T00:00:00.000Z",
          "2016-04-01T00:00:00.000Z",
          "2016-07-01T00:00:00.000Z",
          "2016-10-01T00:00:00.000Z",
          "2017-01-01T00:00:00.000Z"
         ],
         "y": [
          2579,
          5710,
          9516,
          3317,
          5485,
          5063,
          8819,
          4416,
          7677,
          5600,
          5247,
          5492,
          8346,
          5940,
          7283,
          3830,
          3119
         ]
        },
        {
         "name": "male",
         "type": "scatter",
         "x": [
          "2013-01-01T00:00:00.000Z",
          "2013-04-01T00:00:00.000Z",
          "2013-07-01T00:00:00.000Z",
          "2013-10-01T00:00:00.000Z",
          "2014-01-01T00:00:00.000Z",
          "2014-04-01T00:00:00.000Z",
          "2014-07-01T00:00:00.000Z",
          "2014-10-01T00:00:00.000Z",
          "2015-01-01T00:00:00.000Z",
          "2015-04-01T00:00:00.000Z",
          "2015-07-01T00:00:00.000Z",
          "2015-10-01T00:00:00.000Z",
          "2016-01-01T00:00:00.000Z",
          "2016-04-01T00:00:00.000Z",
          "2016-07-01T00:00:00.000Z",
          "2016-10-01T00:00:00.000Z",
          "2017-01-01T00:00:00.000Z"
         ],
         "y": [
          78440,
          64949,
          84887,
          58762,
          80258,
          72322,
          86872,
          66938,
          95901,
          73673,
          90103,
          68576,
          87810,
          62421,
          69276,
          38245,
          30129
         ]
        },
        {
         "name": "unknown",
         "type": "scatter",
         "x": [
          "2013-01-01T00:00:00.000Z",
          "2013-04-01T00:00:00.000Z",
          "2013-07-01T00:00:00.000Z",
          "2013-10-01T00:00:00.000Z",
          "2014-01-01T00:00:00.000Z",
          "2014-04-01T00:00:00.000Z",
          "2014-07-01T00:00:00.000Z",
          "2014-10-01T00:00:00.000Z",
          "2015-01-01T00:00:00.000Z",
          "2015-04-01T00:00:00.000Z",
          "2015-07-01T00:00:00.000Z",
          "2015-10-01T00:00:00.000Z",
          "2016-01-01T00:00:00.000Z",
          "2016-04-01T00:00:00.000Z",
          "2016-07-01T00:00:00.000Z",
          "2016-10-01T00:00:00.000Z",
          "2017-01-01T00:00:00.000Z"
         ],
         "y": [
          9002,
          9018,
          17284,
          11527,
          19926,
          16118,
          14704,
          12364,
          15534,
          10580,
          17375,
          14793,
          12288,
          12991,
          14141,
          9682,
          9593
         ]
        }
       ],
       "layout": {}
      },
      "text/html": [
       "<div id=\"7ae3865e-abdf-4b21-8c00-81c8f78bed8d\" style=\"height: 525px; width: 100%;\" class=\"plotly-graph-div\"></div><script type=\"text/javascript\">require([\"plotly\"], function(Plotly) { window.PLOTLYENV=window.PLOTLYENV || {};window.PLOTLYENV.BASE_URL=\"https://plot.ly\";Plotly.newPlot(\"7ae3865e-abdf-4b21-8c00-81c8f78bed8d\", [{\"y\": [2579, 5710, 9516, 3317, 5485, 5063, 8819, 4416, 7677, 5600, 5247, 5492, 8346, 5940, 7283, 3830, 3119], \"x\": [\"2013-01-01T00:00:00.000Z\", \"2013-04-01T00:00:00.000Z\", \"2013-07-01T00:00:00.000Z\", \"2013-10-01T00:00:00.000Z\", \"2014-01-01T00:00:00.000Z\", \"2014-04-01T00:00:00.000Z\", \"2014-07-01T00:00:00.000Z\", \"2014-10-01T00:00:00.000Z\", \"2015-01-01T00:00:00.000Z\", \"2015-04-01T00:00:00.000Z\", \"2015-07-01T00:00:00.000Z\", \"2015-10-01T00:00:00.000Z\", \"2016-01-01T00:00:00.000Z\", \"2016-04-01T00:00:00.000Z\", \"2016-07-01T00:00:00.000Z\", \"2016-10-01T00:00:00.000Z\", \"2017-01-01T00:00:00.000Z\"], \"name\": \"female\", \"type\": \"scatter\"}, {\"y\": [78440, 64949, 84887, 58762, 80258, 72322, 86872, 66938, 95901, 73673, 90103, 68576, 87810, 62421, 69276, 38245, 30129], \"x\": [\"2013-01-01T00:00:00.000Z\", \"2013-04-01T00:00:00.000Z\", \"2013-07-01T00:00:00.000Z\", \"2013-10-01T00:00:00.000Z\", \"2014-01-01T00:00:00.000Z\", \"2014-04-01T00:00:00.000Z\", \"2014-07-01T00:00:00.000Z\", \"2014-10-01T00:00:00.000Z\", \"2015-01-01T00:00:00.000Z\", \"2015-04-01T00:00:00.000Z\", \"2015-07-01T00:00:00.000Z\", \"2015-10-01T00:00:00.000Z\", \"2016-01-01T00:00:00.000Z\", \"2016-04-01T00:00:00.000Z\", \"2016-07-01T00:00:00.000Z\", \"2016-10-01T00:00:00.000Z\", \"2017-01-01T00:00:00.000Z\"], \"name\": \"male\", \"type\": \"scatter\"}, {\"y\": [9002, 9018, 17284, 11527, 19926, 16118, 14704, 12364, 15534, 10580, 17375, 14793, 12288, 12991, 14141, 9682, 9593], \"x\": [\"2013-01-01T00:00:00.000Z\", \"2013-04-01T00:00:00.000Z\", \"2013-07-01T00:00:00.000Z\", \"2013-10-01T00:00:00.000Z\", \"2014-01-01T00:00:00.000Z\", \"2014-04-01T00:00:00.000Z\", \"2014-07-01T00:00:00.000Z\", \"2014-10-01T00:00:00.000Z\", \"2015-01-01T00:00:00.000Z\", \"2015-04-01T00:00:00.000Z\", \"2015-07-01T00:00:00.000Z\", \"2015-10-01T00:00:00.000Z\", \"2016-01-01T00:00:00.000Z\", \"2016-04-01T00:00:00.000Z\", \"2016-07-01T00:00:00.000Z\", \"2016-10-01T00:00:00.000Z\", \"2017-01-01T00:00:00.000Z\"], \"name\": \"unknown\", \"type\": \"scatter\"}], {}, {\"linkText\": \"Export to plot.ly\", \"showLink\": true})});</script>"
      ],
      "text/vnd.plotly.v1+html": [
       "<div id=\"7ae3865e-abdf-4b21-8c00-81c8f78bed8d\" style=\"height: 525px; width: 100%;\" class=\"plotly-graph-div\"></div><script type=\"text/javascript\">require([\"plotly\"], function(Plotly) { window.PLOTLYENV=window.PLOTLYENV || {};window.PLOTLYENV.BASE_URL=\"https://plot.ly\";Plotly.newPlot(\"7ae3865e-abdf-4b21-8c00-81c8f78bed8d\", [{\"y\": [2579, 5710, 9516, 3317, 5485, 5063, 8819, 4416, 7677, 5600, 5247, 5492, 8346, 5940, 7283, 3830, 3119], \"x\": [\"2013-01-01T00:00:00.000Z\", \"2013-04-01T00:00:00.000Z\", \"2013-07-01T00:00:00.000Z\", \"2013-10-01T00:00:00.000Z\", \"2014-01-01T00:00:00.000Z\", \"2014-04-01T00:00:00.000Z\", \"2014-07-01T00:00:00.000Z\", \"2014-10-01T00:00:00.000Z\", \"2015-01-01T00:00:00.000Z\", \"2015-04-01T00:00:00.000Z\", \"2015-07-01T00:00:00.000Z\", \"2015-10-01T00:00:00.000Z\", \"2016-01-01T00:00:00.000Z\", \"2016-04-01T00:00:00.000Z\", \"2016-07-01T00:00:00.000Z\", \"2016-10-01T00:00:00.000Z\", \"2017-01-01T00:00:00.000Z\"], \"name\": \"female\", \"type\": \"scatter\"}, {\"y\": [78440, 64949, 84887, 58762, 80258, 72322, 86872, 66938, 95901, 73673, 90103, 68576, 87810, 62421, 69276, 38245, 30129], \"x\": [\"2013-01-01T00:00:00.000Z\", \"2013-04-01T00:00:00.000Z\", \"2013-07-01T00:00:00.000Z\", \"2013-10-01T00:00:00.000Z\", \"2014-01-01T00:00:00.000Z\", \"2014-04-01T00:00:00.000Z\", \"2014-07-01T00:00:00.000Z\", \"2014-10-01T00:00:00.000Z\", \"2015-01-01T00:00:00.000Z\", \"2015-04-01T00:00:00.000Z\", \"2015-07-01T00:00:00.000Z\", \"2015-10-01T00:00:00.000Z\", \"2016-01-01T00:00:00.000Z\", \"2016-04-01T00:00:00.000Z\", \"2016-07-01T00:00:00.000Z\", \"2016-10-01T00:00:00.000Z\", \"2017-01-01T00:00:00.000Z\"], \"name\": \"male\", \"type\": \"scatter\"}, {\"y\": [9002, 9018, 17284, 11527, 19926, 16118, 14704, 12364, 15534, 10580, 17375, 14793, 12288, 12991, 14141, 9682, 9593], \"x\": [\"2013-01-01T00:00:00.000Z\", \"2013-04-01T00:00:00.000Z\", \"2013-07-01T00:00:00.000Z\", \"2013-10-01T00:00:00.000Z\", \"2014-01-01T00:00:00.000Z\", \"2014-04-01T00:00:00.000Z\", \"2014-07-01T00:00:00.000Z\", \"2014-10-01T00:00:00.000Z\", \"2015-01-01T00:00:00.000Z\", \"2015-04-01T00:00:00.000Z\", \"2015-07-01T00:00:00.000Z\", \"2015-10-01T00:00:00.000Z\", \"2016-01-01T00:00:00.000Z\", \"2016-04-01T00:00:00.000Z\", \"2016-07-01T00:00:00.000Z\", \"2016-10-01T00:00:00.000Z\", \"2017-01-01T00:00:00.000Z\"], \"name\": \"unknown\", \"type\": \"scatter\"}], {}, {\"linkText\": \"Export to plot.ly\", \"showLink\": true})});</script>"
      ]
     },
     "metadata": {},
     "output_type": "display_data"
    }
   ],
   "source": [
    "METRIC_NAME = \"code_files_touched\"\n",
    "METRIC_FIELD = \"id.keyword\"\n",
    "filter_merges_addedlines = Q('range', addedlines={'gt': 0})\n",
    "filter_merges_removedlines = Q('range', removedlines={'gt': 0})\n",
    "filter_bots = Q('bool', must_not=[Q('match', gender_analyzed_name='Jenkins')])\n",
    "filter_filetype = Q('term', filetype='code')\n",
    "df = query_metric_over_time(INDEX, METRIC_NAME, METRIC_FIELD, [filter_date_4y, git_filter,\n",
    "                                                               filter_filetype])\n",
    "\n",
    "draw_evolutionary_chart(\"key_as_string\", \"doc_count\")"
   ]
  },
  {
   "cell_type": "code",
   "execution_count": 38,
   "metadata": {},
   "outputs": [
    {
     "data": {
      "application/vnd.plotly.v1+json": {
       "data": [
        {
         "labels": [
          "male",
          "NotKnown",
          "female"
         ],
         "type": "pie",
         "values": [
          1209562,
          226920,
          97439
         ]
        }
       ],
       "layout": {
        "title": "Code Files touched by Gender (last 4 years)"
       }
      },
      "text/html": [
       "<div id=\"7691fa0c-ae40-4bea-b589-8f713fdc527b\" style=\"height: 525px; width: 100%;\" class=\"plotly-graph-div\"></div><script type=\"text/javascript\">require([\"plotly\"], function(Plotly) { window.PLOTLYENV=window.PLOTLYENV || {};window.PLOTLYENV.BASE_URL=\"https://plot.ly\";Plotly.newPlot(\"7691fa0c-ae40-4bea-b589-8f713fdc527b\", [{\"values\": [1209562, 226920, 97439], \"type\": \"pie\", \"labels\": [\"male\", \"NotKnown\", \"female\"]}], {\"title\": \"Code Files touched by Gender (last 4 years)\"}, {\"linkText\": \"Export to plot.ly\", \"showLink\": true})});</script>"
      ],
      "text/vnd.plotly.v1+html": [
       "<div id=\"7691fa0c-ae40-4bea-b589-8f713fdc527b\" style=\"height: 525px; width: 100%;\" class=\"plotly-graph-div\"></div><script type=\"text/javascript\">require([\"plotly\"], function(Plotly) { window.PLOTLYENV=window.PLOTLYENV || {};window.PLOTLYENV.BASE_URL=\"https://plot.ly\";Plotly.newPlot(\"7691fa0c-ae40-4bea-b589-8f713fdc527b\", [{\"values\": [1209562, 226920, 97439], \"type\": \"pie\", \"labels\": [\"male\", \"NotKnown\", \"female\"]}], {\"title\": \"Code Files touched by Gender (last 4 years)\"}, {\"linkText\": \"Export to plot.ly\", \"showLink\": true})});</script>"
      ]
     },
     "metadata": {},
     "output_type": "display_data"
    }
   ],
   "source": [
    "pie_chart_labels, pie_chart_values, pie_chart_count = query_total_piechart(INDEX, METRIC_NAME, METRIC_FIELD, \n",
    "                                                            [filter_date_4y, git_filter, filter_filetype])\n",
    "draw_piechart(pie_chart_labels, pie_chart_count, 'Code Files touched by Gender (last 4 years)')"
   ]
  },
  {
   "cell_type": "code",
   "execution_count": 39,
   "metadata": {},
   "outputs": [
    {
     "data": {
      "application/vnd.plotly.v1+json": {
       "data": [
        {
         "labels": [
          "male",
          "NotKnown",
          "female"
         ],
         "type": "pie",
         "values": [
          199429,
          46296,
          20115
         ]
        }
       ],
       "layout": {
        "title": "Code Files touched by Gender (last 1 year)"
       }
      },
      "text/html": [
       "<div id=\"be0790d8-d86d-476a-b214-4846958c2971\" style=\"height: 525px; width: 100%;\" class=\"plotly-graph-div\"></div><script type=\"text/javascript\">require([\"plotly\"], function(Plotly) { window.PLOTLYENV=window.PLOTLYENV || {};window.PLOTLYENV.BASE_URL=\"https://plot.ly\";Plotly.newPlot(\"be0790d8-d86d-476a-b214-4846958c2971\", [{\"values\": [199429, 46296, 20115], \"type\": \"pie\", \"labels\": [\"male\", \"NotKnown\", \"female\"]}], {\"title\": \"Code Files touched by Gender (last 1 year)\"}, {\"linkText\": \"Export to plot.ly\", \"showLink\": true})});</script>"
      ],
      "text/vnd.plotly.v1+html": [
       "<div id=\"be0790d8-d86d-476a-b214-4846958c2971\" style=\"height: 525px; width: 100%;\" class=\"plotly-graph-div\"></div><script type=\"text/javascript\">require([\"plotly\"], function(Plotly) { window.PLOTLYENV=window.PLOTLYENV || {};window.PLOTLYENV.BASE_URL=\"https://plot.ly\";Plotly.newPlot(\"be0790d8-d86d-476a-b214-4846958c2971\", [{\"values\": [199429, 46296, 20115], \"type\": \"pie\", \"labels\": [\"male\", \"NotKnown\", \"female\"]}], {\"title\": \"Code Files touched by Gender (last 1 year)\"}, {\"linkText\": \"Export to plot.ly\", \"showLink\": true})});</script>"
      ]
     },
     "metadata": {},
     "output_type": "display_data"
    }
   ],
   "source": [
    "pie_chart_labels, pie_chart_values, pie_chart_count = query_total_piechart(INDEX, METRIC_NAME, METRIC_FIELD, \n",
    "                                                            [filter_date_1y, git_filter, filter_filetype])\n",
    "draw_piechart(pie_chart_labels, pie_chart_count, 'Code Files touched by Gender (last 1 year)')"
   ]
  },
  {
   "cell_type": "code",
   "execution_count": 40,
   "metadata": {},
   "outputs": [
    {
     "data": {
      "application/vnd.plotly.v1+json": {
       "data": [
        {
         "name": "female",
         "type": "scatter",
         "x": [
          "2013-01-01T00:00:00.000Z",
          "2013-04-01T00:00:00.000Z",
          "2013-07-01T00:00:00.000Z",
          "2013-10-01T00:00:00.000Z",
          "2014-01-01T00:00:00.000Z",
          "2014-04-01T00:00:00.000Z",
          "2014-07-01T00:00:00.000Z",
          "2014-10-01T00:00:00.000Z",
          "2015-01-01T00:00:00.000Z",
          "2015-04-01T00:00:00.000Z",
          "2015-07-01T00:00:00.000Z",
          "2015-10-01T00:00:00.000Z",
          "2016-01-01T00:00:00.000Z",
          "2016-04-01T00:00:00.000Z",
          "2016-07-01T00:00:00.000Z",
          "2016-10-01T00:00:00.000Z",
          "2017-01-01T00:00:00.000Z"
         ],
         "y": [
          1935,
          1982,
          4574,
          2723,
          3579,
          3737,
          4681,
          2813,
          5604,
          5284,
          5232,
          5903,
          4073,
          6555,
          7351,
          3673,
          2926
         ]
        },
        {
         "name": "male",
         "type": "scatter",
         "x": [
          "2013-01-01T00:00:00.000Z",
          "2013-04-01T00:00:00.000Z",
          "2013-07-01T00:00:00.000Z",
          "2013-10-01T00:00:00.000Z",
          "2014-01-01T00:00:00.000Z",
          "2014-04-01T00:00:00.000Z",
          "2014-07-01T00:00:00.000Z",
          "2014-10-01T00:00:00.000Z",
          "2015-01-01T00:00:00.000Z",
          "2015-04-01T00:00:00.000Z",
          "2015-07-01T00:00:00.000Z",
          "2015-10-01T00:00:00.000Z",
          "2016-01-01T00:00:00.000Z",
          "2016-04-01T00:00:00.000Z",
          "2016-07-01T00:00:00.000Z",
          "2016-10-01T00:00:00.000Z",
          "2017-01-01T00:00:00.000Z"
         ],
         "y": [
          39405,
          577595,
          59761,
          28761,
          41347,
          51581,
          47413,
          39162,
          55236,
          45606,
          60464,
          48462,
          62320,
          55948,
          61635,
          37723,
          32031
         ]
        },
        {
         "name": "unknown",
         "type": "scatter",
         "x": [
          "2013-01-01T00:00:00.000Z",
          "2013-04-01T00:00:00.000Z",
          "2013-07-01T00:00:00.000Z",
          "2013-10-01T00:00:00.000Z",
          "2014-01-01T00:00:00.000Z",
          "2014-04-01T00:00:00.000Z",
          "2014-07-01T00:00:00.000Z",
          "2014-10-01T00:00:00.000Z",
          "2015-01-01T00:00:00.000Z",
          "2015-04-01T00:00:00.000Z",
          "2015-07-01T00:00:00.000Z",
          "2015-10-01T00:00:00.000Z",
          "2016-01-01T00:00:00.000Z",
          "2016-04-01T00:00:00.000Z",
          "2016-07-01T00:00:00.000Z",
          "2016-10-01T00:00:00.000Z",
          "2017-01-01T00:00:00.000Z"
         ],
         "y": [
          4110,
          29523,
          86477,
          51537,
          53612,
          38488,
          15488,
          12436,
          13250,
          14674,
          18100,
          18155,
          17508,
          16882,
          14852,
          13492,
          12323
         ]
        }
       ],
       "layout": {}
      },
      "text/html": [
       "<div id=\"d40ad2aa-d310-451d-ad9e-a25656163f84\" style=\"height: 525px; width: 100%;\" class=\"plotly-graph-div\"></div><script type=\"text/javascript\">require([\"plotly\"], function(Plotly) { window.PLOTLYENV=window.PLOTLYENV || {};window.PLOTLYENV.BASE_URL=\"https://plot.ly\";Plotly.newPlot(\"d40ad2aa-d310-451d-ad9e-a25656163f84\", [{\"y\": [1935, 1982, 4574, 2723, 3579, 3737, 4681, 2813, 5604, 5284, 5232, 5903, 4073, 6555, 7351, 3673, 2926], \"x\": [\"2013-01-01T00:00:00.000Z\", \"2013-04-01T00:00:00.000Z\", \"2013-07-01T00:00:00.000Z\", \"2013-10-01T00:00:00.000Z\", \"2014-01-01T00:00:00.000Z\", \"2014-04-01T00:00:00.000Z\", \"2014-07-01T00:00:00.000Z\", \"2014-10-01T00:00:00.000Z\", \"2015-01-01T00:00:00.000Z\", \"2015-04-01T00:00:00.000Z\", \"2015-07-01T00:00:00.000Z\", \"2015-10-01T00:00:00.000Z\", \"2016-01-01T00:00:00.000Z\", \"2016-04-01T00:00:00.000Z\", \"2016-07-01T00:00:00.000Z\", \"2016-10-01T00:00:00.000Z\", \"2017-01-01T00:00:00.000Z\"], \"name\": \"female\", \"type\": \"scatter\"}, {\"y\": [39405, 577595, 59761, 28761, 41347, 51581, 47413, 39162, 55236, 45606, 60464, 48462, 62320, 55948, 61635, 37723, 32031], \"x\": [\"2013-01-01T00:00:00.000Z\", \"2013-04-01T00:00:00.000Z\", \"2013-07-01T00:00:00.000Z\", \"2013-10-01T00:00:00.000Z\", \"2014-01-01T00:00:00.000Z\", \"2014-04-01T00:00:00.000Z\", \"2014-07-01T00:00:00.000Z\", \"2014-10-01T00:00:00.000Z\", \"2015-01-01T00:00:00.000Z\", \"2015-04-01T00:00:00.000Z\", \"2015-07-01T00:00:00.000Z\", \"2015-10-01T00:00:00.000Z\", \"2016-01-01T00:00:00.000Z\", \"2016-04-01T00:00:00.000Z\", \"2016-07-01T00:00:00.000Z\", \"2016-10-01T00:00:00.000Z\", \"2017-01-01T00:00:00.000Z\"], \"name\": \"male\", \"type\": \"scatter\"}, {\"y\": [4110, 29523, 86477, 51537, 53612, 38488, 15488, 12436, 13250, 14674, 18100, 18155, 17508, 16882, 14852, 13492, 12323], \"x\": [\"2013-01-01T00:00:00.000Z\", \"2013-04-01T00:00:00.000Z\", \"2013-07-01T00:00:00.000Z\", \"2013-10-01T00:00:00.000Z\", \"2014-01-01T00:00:00.000Z\", \"2014-04-01T00:00:00.000Z\", \"2014-07-01T00:00:00.000Z\", \"2014-10-01T00:00:00.000Z\", \"2015-01-01T00:00:00.000Z\", \"2015-04-01T00:00:00.000Z\", \"2015-07-01T00:00:00.000Z\", \"2015-10-01T00:00:00.000Z\", \"2016-01-01T00:00:00.000Z\", \"2016-04-01T00:00:00.000Z\", \"2016-07-01T00:00:00.000Z\", \"2016-10-01T00:00:00.000Z\", \"2017-01-01T00:00:00.000Z\"], \"name\": \"unknown\", \"type\": \"scatter\"}], {}, {\"linkText\": \"Export to plot.ly\", \"showLink\": true})});</script>"
      ],
      "text/vnd.plotly.v1+html": [
       "<div id=\"d40ad2aa-d310-451d-ad9e-a25656163f84\" style=\"height: 525px; width: 100%;\" class=\"plotly-graph-div\"></div><script type=\"text/javascript\">require([\"plotly\"], function(Plotly) { window.PLOTLYENV=window.PLOTLYENV || {};window.PLOTLYENV.BASE_URL=\"https://plot.ly\";Plotly.newPlot(\"d40ad2aa-d310-451d-ad9e-a25656163f84\", [{\"y\": [1935, 1982, 4574, 2723, 3579, 3737, 4681, 2813, 5604, 5284, 5232, 5903, 4073, 6555, 7351, 3673, 2926], \"x\": [\"2013-01-01T00:00:00.000Z\", \"2013-04-01T00:00:00.000Z\", \"2013-07-01T00:00:00.000Z\", \"2013-10-01T00:00:00.000Z\", \"2014-01-01T00:00:00.000Z\", \"2014-04-01T00:00:00.000Z\", \"2014-07-01T00:00:00.000Z\", \"2014-10-01T00:00:00.000Z\", \"2015-01-01T00:00:00.000Z\", \"2015-04-01T00:00:00.000Z\", \"2015-07-01T00:00:00.000Z\", \"2015-10-01T00:00:00.000Z\", \"2016-01-01T00:00:00.000Z\", \"2016-04-01T00:00:00.000Z\", \"2016-07-01T00:00:00.000Z\", \"2016-10-01T00:00:00.000Z\", \"2017-01-01T00:00:00.000Z\"], \"name\": \"female\", \"type\": \"scatter\"}, {\"y\": [39405, 577595, 59761, 28761, 41347, 51581, 47413, 39162, 55236, 45606, 60464, 48462, 62320, 55948, 61635, 37723, 32031], \"x\": [\"2013-01-01T00:00:00.000Z\", \"2013-04-01T00:00:00.000Z\", \"2013-07-01T00:00:00.000Z\", \"2013-10-01T00:00:00.000Z\", \"2014-01-01T00:00:00.000Z\", \"2014-04-01T00:00:00.000Z\", \"2014-07-01T00:00:00.000Z\", \"2014-10-01T00:00:00.000Z\", \"2015-01-01T00:00:00.000Z\", \"2015-04-01T00:00:00.000Z\", \"2015-07-01T00:00:00.000Z\", \"2015-10-01T00:00:00.000Z\", \"2016-01-01T00:00:00.000Z\", \"2016-04-01T00:00:00.000Z\", \"2016-07-01T00:00:00.000Z\", \"2016-10-01T00:00:00.000Z\", \"2017-01-01T00:00:00.000Z\"], \"name\": \"male\", \"type\": \"scatter\"}, {\"y\": [4110, 29523, 86477, 51537, 53612, 38488, 15488, 12436, 13250, 14674, 18100, 18155, 17508, 16882, 14852, 13492, 12323], \"x\": [\"2013-01-01T00:00:00.000Z\", \"2013-04-01T00:00:00.000Z\", \"2013-07-01T00:00:00.000Z\", \"2013-10-01T00:00:00.000Z\", \"2014-01-01T00:00:00.000Z\", \"2014-04-01T00:00:00.000Z\", \"2014-07-01T00:00:00.000Z\", \"2014-10-01T00:00:00.000Z\", \"2015-01-01T00:00:00.000Z\", \"2015-04-01T00:00:00.000Z\", \"2015-07-01T00:00:00.000Z\", \"2015-10-01T00:00:00.000Z\", \"2016-01-01T00:00:00.000Z\", \"2016-04-01T00:00:00.000Z\", \"2016-07-01T00:00:00.000Z\", \"2016-10-01T00:00:00.000Z\", \"2017-01-01T00:00:00.000Z\"], \"name\": \"unknown\", \"type\": \"scatter\"}], {}, {\"linkText\": \"Export to plot.ly\", \"showLink\": true})});</script>"
      ]
     },
     "metadata": {},
     "output_type": "display_data"
    }
   ],
   "source": [
    "METRIC_NAME = \"others_files_touched\"\n",
    "METRIC_FIELD = \"id.keyword\"\n",
    "filter_merges_addedlines = Q('range', addedlines={'gt': 0})\n",
    "filter_merges_removedlines = Q('range', removedlines={'gt': 0})\n",
    "filter_bots = Q('bool', must_not=[Q('match', gender_analyzed_name='Jenkins')])\n",
    "filter_filetype = Q('term', filetype='other')\n",
    "df = query_metric_over_time(INDEX, METRIC_NAME, METRIC_FIELD, [filter_date_4y, git_filter,\n",
    "                                                               filter_filetype])\n",
    "draw_evolutionary_chart(\"key_as_string\", \"doc_count\")\n"
   ]
  },
  {
   "cell_type": "code",
   "execution_count": 41,
   "metadata": {},
   "outputs": [
    {
     "data": {
      "application/vnd.plotly.v1+json": {
       "data": [
        {
         "labels": [
          "male",
          "NotKnown",
          "female"
         ],
         "type": "pie",
         "values": [
          1344450,
          430907,
          72625
         ]
        }
       ],
       "layout": {
        "title": "Non-Code Files touched by Gender (last 4 years)"
       }
      },
      "text/html": [
       "<div id=\"3eecf1b5-1411-4119-af7a-6674a6513be8\" style=\"height: 525px; width: 100%;\" class=\"plotly-graph-div\"></div><script type=\"text/javascript\">require([\"plotly\"], function(Plotly) { window.PLOTLYENV=window.PLOTLYENV || {};window.PLOTLYENV.BASE_URL=\"https://plot.ly\";Plotly.newPlot(\"3eecf1b5-1411-4119-af7a-6674a6513be8\", [{\"values\": [1344450, 430907, 72625], \"type\": \"pie\", \"labels\": [\"male\", \"NotKnown\", \"female\"]}], {\"title\": \"Non-Code Files touched by Gender (last 4 years)\"}, {\"linkText\": \"Export to plot.ly\", \"showLink\": true})});</script>"
      ],
      "text/vnd.plotly.v1+html": [
       "<div id=\"3eecf1b5-1411-4119-af7a-6674a6513be8\" style=\"height: 525px; width: 100%;\" class=\"plotly-graph-div\"></div><script type=\"text/javascript\">require([\"plotly\"], function(Plotly) { window.PLOTLYENV=window.PLOTLYENV || {};window.PLOTLYENV.BASE_URL=\"https://plot.ly\";Plotly.newPlot(\"3eecf1b5-1411-4119-af7a-6674a6513be8\", [{\"values\": [1344450, 430907, 72625], \"type\": \"pie\", \"labels\": [\"male\", \"NotKnown\", \"female\"]}], {\"title\": \"Non-Code Files touched by Gender (last 4 years)\"}, {\"linkText\": \"Export to plot.ly\", \"showLink\": true})});</script>"
      ]
     },
     "metadata": {},
     "output_type": "display_data"
    }
   ],
   "source": [
    "pie_chart_labels, pie_chart_values, pie_chart_count = query_total_piechart(INDEX, METRIC_NAME, METRIC_FIELD, \n",
    "                                                            [filter_date_4y, git_filter, filter_filetype])\n",
    "draw_piechart(pie_chart_labels, pie_chart_count, 'Non-Code Files touched by Gender (last 4 years)')"
   ]
  },
  {
   "cell_type": "code",
   "execution_count": 42,
   "metadata": {},
   "outputs": [
    {
     "data": {
      "application/vnd.plotly.v1+json": {
       "data": [
        {
         "labels": [
          "male",
          "NotKnown",
          "female"
         ],
         "type": "pie",
         "values": [
          186738,
          57456,
          20386
         ]
        }
       ],
       "layout": {
        "title": "Non-Code Files touched by Gender (last year)"
       }
      },
      "text/html": [
       "<div id=\"7a052607-88ea-4793-9bfc-d75b9cde1c83\" style=\"height: 525px; width: 100%;\" class=\"plotly-graph-div\"></div><script type=\"text/javascript\">require([\"plotly\"], function(Plotly) { window.PLOTLYENV=window.PLOTLYENV || {};window.PLOTLYENV.BASE_URL=\"https://plot.ly\";Plotly.newPlot(\"7a052607-88ea-4793-9bfc-d75b9cde1c83\", [{\"values\": [186738, 57456, 20386], \"type\": \"pie\", \"labels\": [\"male\", \"NotKnown\", \"female\"]}], {\"title\": \"Non-Code Files touched by Gender (last year)\"}, {\"linkText\": \"Export to plot.ly\", \"showLink\": true})});</script>"
      ],
      "text/vnd.plotly.v1+html": [
       "<div id=\"7a052607-88ea-4793-9bfc-d75b9cde1c83\" style=\"height: 525px; width: 100%;\" class=\"plotly-graph-div\"></div><script type=\"text/javascript\">require([\"plotly\"], function(Plotly) { window.PLOTLYENV=window.PLOTLYENV || {};window.PLOTLYENV.BASE_URL=\"https://plot.ly\";Plotly.newPlot(\"7a052607-88ea-4793-9bfc-d75b9cde1c83\", [{\"values\": [186738, 57456, 20386], \"type\": \"pie\", \"labels\": [\"male\", \"NotKnown\", \"female\"]}], {\"title\": \"Non-Code Files touched by Gender (last year)\"}, {\"linkText\": \"Export to plot.ly\", \"showLink\": true})});</script>"
      ]
     },
     "metadata": {},
     "output_type": "display_data"
    }
   ],
   "source": [
    "pie_chart_labels, pie_chart_values, pie_chart_count = query_total_piechart(INDEX, METRIC_NAME, METRIC_FIELD, \n",
    "                                                            [filter_date_1y, git_filter, filter_filetype])\n",
    "draw_piechart(pie_chart_labels, pie_chart_count, 'Non-Code Files touched by Gender (last year)')"
   ]
  },
  {
   "cell_type": "markdown",
   "metadata": {},
   "source": [
    "# Top Projects by women activity and women population"
   ]
  },
  {
   "cell_type": "code",
   "execution_count": null,
   "metadata": {
    "collapsed": true
   },
   "outputs": [],
   "source": []
  },
  {
   "cell_type": "code",
   "execution_count": 43,
   "metadata": {
    "collapsed": true
   },
   "outputs": [],
   "source": [
    "METRIC_NAME = \"commits\"\n",
    "METRIC_FIELD = \"id.keyword\"\n",
    "\n",
    "filters = [filter_date_4y, git_filter]\n",
    "\n",
    "s = Search(using=es_conn, index=INDEX)  # Index selection\n",
    "for filtering in filters:\n",
    "    s = s.filter(filtering)\n",
    "s.aggs.bucket('project', 'terms', field='projects', size=1000)\\\n",
    "      .bucket('gender', 'terms', field='gender')\\\n",
    "      .metric(METRIC_NAME, 'cardinality', field=METRIC_FIELD, precision_threshold=10000)\\\n",
    "      .metric('authors', 'cardinality', field='uuid')\n",
    "result = s.execute()\n",
    "\n",
    "values = result.to_dict()"
   ]
  },
  {
   "cell_type": "code",
   "execution_count": 59,
   "metadata": {
    "collapsed": true
   },
   "outputs": [],
   "source": [
    "value = result.to_dict()[\"aggregations\"]['project']['buckets']\n",
    "    \n",
    "df = pandas.DataFrame()\n",
    "df_summary = pandas.DataFrame(columns=[\"project\", \"commits\", \"authors\", \"ratio_commits\", \"ratio_authors\"])\n",
    "for i in value:\n",
    "    df2 = (pandas.DataFrame.from_dict(i[\"gender\"][\"buckets\"]))\n",
    "    df2[\"project\"] = i[\"key\"]\n",
    "    \n",
    "    df2[METRIC_NAME] = df2[METRIC_NAME].apply(lambda row:row[\"value\"])\n",
    "    df2['authors'] = df2['authors'].apply(lambda row:row['value'])\n",
    "    df = pandas.concat([df, df2])\n",
    "    \n",
    "    df_summary2 = pandas.DataFrame(columns=[\"ratio_authors\", \"ratio_commits\", \"authors\", \"commits\", \"project\"])\n",
    "\n",
    "    df_summary2[\"project\"] = [i[\"key\"]]\n",
    "    df_summary2[\"commits\"] = [int(df2[df2[\"key\"]==\"female\"][\"commits\"])]\n",
    "    df_summary2[\"authors\"] = [int(df2[df2[\"key\"]==\"female\"][\"authors\"])]\n",
    "    df_summary2[\"ratio_commits\"] = [float(df2[df2[\"key\"]==\"female\"][\"commits\"]) / float(df2[df2[\"key\"]==\"male\"][\"commits\"])*100]\n",
    "    df_summary2[\"ratio_authors\"] = [float(df2[df2[\"key\"]==\"female\"][\"authors\"]) / float(df2[df2[\"key\"]==\"male\"][\"authors\"])*100]\n",
    "\n",
    "\n",
    "    df_summary = pandas.concat([df_summary, df_summary2])\n",
    "\n",
    "df_summary = df_summary[[\"project\", \"authors\", \"commits\", \"ratio_authors\", \"ratio_commits\"]]\n",
    "#df_summary.columns = [\"project\", \"authors\", \"commits\", \"ratio_authors\", \"ratio_commits\"]\n",
    "    \n"
   ]
  },
  {
   "cell_type": "code",
   "execution_count": 60,
   "metadata": {},
   "outputs": [
    {
     "name": "stdout",
     "output_type": "stream",
     "text": [
      "                 project  authors  commits  ratio_authors  ratio_commits\n",
      "0          Packaging-deb    623.0  13175.0      14.361457       8.536736\n",
      "0                 murano     31.0   1002.0      21.379310      27.073764\n",
      "0         Infrastructure    145.0   2303.0      11.214230       4.849442\n",
      "0                   fuel     48.0   4518.0      14.634146      17.884570\n",
      "0                neutron     99.0    858.0      15.840000       7.279824\n",
      "0       OpenStack Charms      9.0    639.0       8.181818       3.438072\n",
      "0          Documentation    145.0   3080.0      20.393812      37.211550\n",
      "0                   nova    121.0    891.0      16.285330       6.913944\n",
      "0              Telemetry     57.0    281.0      21.590909       5.624500\n",
      "0       OpenStackAnsible     23.0    377.0      13.372093       3.270866\n",
      "0                tripleo     40.0    663.0      11.204482       4.850746\n",
      "0                octavia     44.0    312.0      11.956522       8.208366\n",
      "0                horizon     96.0    949.0      22.748815      25.333689\n",
      "0                 cinder     77.0    532.0      13.898917       9.646419\n",
      "0                  kolla     32.0    154.0      16.410256       3.985507\n",
      "0                   heat     54.0    217.0      15.652174       3.174371\n",
      "0      Quality Assurance    101.0    650.0      13.760218       7.747318\n",
      "0                   oslo     59.0    416.0      11.706349       4.804250\n",
      "0       Puppet OpenStack     33.0    894.0       9.455587      11.149913\n",
      "0               keystone     56.0    621.0      15.217391      10.482782\n",
      "0                 ironic     43.0   1172.0      14.478114      24.209874\n",
      "0                 manila     24.0    282.0      16.216216      15.537190\n",
      "0           notavailable      9.0     36.0       8.108108       1.066983\n",
      "0                 sahara     28.0    379.0      15.819209       8.212351\n",
      "0                monasca     18.0    167.0      13.533835       4.693648\n",
      "0                  swift     35.0    209.0      14.583333       7.706490\n",
      "0                  rally     31.0    190.0      15.196078       9.099617\n",
      "0                 senlin     16.0    171.0      32.653061       5.765341\n",
      "0                 glance     57.0    234.0      18.811881      10.077519\n",
      "0                  trove     32.0    214.0      19.277108      11.536388\n",
      "0         Chef OpenStack     20.0     64.0      19.417476       2.550817\n",
      "0                 magnum     26.0    315.0      17.931034      22.292994\n",
      "0              designate     10.0     59.0       7.751938       5.263158\n",
      "0        OpenStackClient     37.0    385.0      18.407960      19.201995\n",
      "0               Security     26.0    117.0      22.033898       7.758621\n",
      "0                mistral     13.0    138.0      13.000000       8.151211\n",
      "0               congress     10.0    239.0      12.987013      24.044266\n",
      "0     Release Management     19.0     49.0      11.377246       1.724745\n",
      "0               barbican     27.0    142.0      19.424460       8.722359\n",
      "0                  zaqar     19.0    184.0      17.757009      18.852459\n",
      "0                 tacker     33.0    180.0      22.758621      22.988506\n",
      "0                freezer      6.0     15.0      12.000000       1.726122\n",
      "0                  solum      6.0     45.0      10.169492       5.415162\n",
      "0                vitrage     11.0    167.0      45.833333      28.842832\n",
      "0                watcher     13.0     46.0      23.636364       9.368635\n",
      "0           requirements     41.0    109.0      11.581921       5.025357\n",
      "0             dragonflow     13.0    226.0      30.952381      25.799087\n",
      "0              tricircle      8.0     41.0      72.727273     128.125000\n",
      "0            searchlight      7.0     41.0      14.285714       8.932462\n",
      "0                ec2-api      2.0      5.0      13.333333       1.798561\n",
      "0                 karbor      8.0     12.0      38.095238       7.272727\n",
      "0                  kuryr      9.0    111.0      19.565217      33.035714\n",
      "0               RefStack      7.0     54.0      18.421053      12.676056\n",
      "0               storlets      3.0     47.0      16.666667      16.607774\n",
      "0                    zun     10.0     97.0      38.461538      47.783251\n",
      "0            winstackers      5.0     33.0      15.151515       7.951807\n",
      "0             cloudkitty      4.0      6.0      10.256410       1.973684\n",
      "0          Packaging-rpm      2.0     22.0       6.896552       2.906209\n",
      "0  Community App Catalog      6.0     17.0      10.714286       4.632153\n",
      "0                   I18n      1.0     18.0       7.142857      20.000000\n"
     ]
    }
   ],
   "source": [
    "print(df_summary)"
   ]
  },
  {
   "cell_type": "code",
   "execution_count": 61,
   "metadata": {},
   "outputs": [
    {
     "name": "stdout",
     "output_type": "stream",
     "text": [
      "                 project  authors  commits  ratio_authors  ratio_commits\n",
      "0              tricircle      8.0     41.0      72.727273     128.125000\n",
      "0                    zun     10.0     97.0      38.461538      47.783251\n",
      "0          Documentation    145.0   3080.0      20.393812      37.211550\n",
      "0                  kuryr      9.0    111.0      19.565217      33.035714\n",
      "0                vitrage     11.0    167.0      45.833333      28.842832\n",
      "0                 murano     31.0   1002.0      21.379310      27.073764\n",
      "0             dragonflow     13.0    226.0      30.952381      25.799087\n",
      "0                horizon     96.0    949.0      22.748815      25.333689\n",
      "0                 ironic     43.0   1172.0      14.478114      24.209874\n",
      "0               congress     10.0    239.0      12.987013      24.044266\n",
      "0                 tacker     33.0    180.0      22.758621      22.988506\n",
      "0                 magnum     26.0    315.0      17.931034      22.292994\n",
      "0                   I18n      1.0     18.0       7.142857      20.000000\n",
      "0        OpenStackClient     37.0    385.0      18.407960      19.201995\n",
      "0                  zaqar     19.0    184.0      17.757009      18.852459\n",
      "0                   fuel     48.0   4518.0      14.634146      17.884570\n",
      "0               storlets      3.0     47.0      16.666667      16.607774\n",
      "0                 manila     24.0    282.0      16.216216      15.537190\n",
      "0               RefStack      7.0     54.0      18.421053      12.676056\n",
      "0                  trove     32.0    214.0      19.277108      11.536388\n",
      "0       Puppet OpenStack     33.0    894.0       9.455587      11.149913\n",
      "0               keystone     56.0    621.0      15.217391      10.482782\n",
      "0                 glance     57.0    234.0      18.811881      10.077519\n",
      "0                 cinder     77.0    532.0      13.898917       9.646419\n",
      "0                watcher     13.0     46.0      23.636364       9.368635\n",
      "0                  rally     31.0    190.0      15.196078       9.099617\n",
      "0            searchlight      7.0     41.0      14.285714       8.932462\n",
      "0               barbican     27.0    142.0      19.424460       8.722359\n",
      "0          Packaging-deb    623.0  13175.0      14.361457       8.536736\n",
      "0                 sahara     28.0    379.0      15.819209       8.212351\n",
      "0                octavia     44.0    312.0      11.956522       8.208366\n",
      "0                mistral     13.0    138.0      13.000000       8.151211\n",
      "0            winstackers      5.0     33.0      15.151515       7.951807\n",
      "0               Security     26.0    117.0      22.033898       7.758621\n",
      "0      Quality Assurance    101.0    650.0      13.760218       7.747318\n",
      "0                  swift     35.0    209.0      14.583333       7.706490\n",
      "0                neutron     99.0    858.0      15.840000       7.279824\n",
      "0                 karbor      8.0     12.0      38.095238       7.272727\n",
      "0                   nova    121.0    891.0      16.285330       6.913944\n",
      "0                 senlin     16.0    171.0      32.653061       5.765341\n",
      "0              Telemetry     57.0    281.0      21.590909       5.624500\n",
      "0                  solum      6.0     45.0      10.169492       5.415162\n",
      "0              designate     10.0     59.0       7.751938       5.263158\n",
      "0           requirements     41.0    109.0      11.581921       5.025357\n",
      "0                tripleo     40.0    663.0      11.204482       4.850746\n",
      "0         Infrastructure    145.0   2303.0      11.214230       4.849442\n",
      "0                   oslo     59.0    416.0      11.706349       4.804250\n",
      "0                monasca     18.0    167.0      13.533835       4.693648\n",
      "0  Community App Catalog      6.0     17.0      10.714286       4.632153\n",
      "0                  kolla     32.0    154.0      16.410256       3.985507\n",
      "0       OpenStack Charms      9.0    639.0       8.181818       3.438072\n",
      "0       OpenStackAnsible     23.0    377.0      13.372093       3.270866\n",
      "0                   heat     54.0    217.0      15.652174       3.174371\n",
      "0          Packaging-rpm      2.0     22.0       6.896552       2.906209\n",
      "0         Chef OpenStack     20.0     64.0      19.417476       2.550817\n",
      "0             cloudkitty      4.0      6.0      10.256410       1.973684\n",
      "0                ec2-api      2.0      5.0      13.333333       1.798561\n",
      "0                freezer      6.0     15.0      12.000000       1.726122\n",
      "0     Release Management     19.0     49.0      11.377246       1.724745\n",
      "0           notavailable      9.0     36.0       8.108108       1.066983\n"
     ]
    }
   ],
   "source": [
    "print(df_summary.sort_values(\"ratio_commits\", ascending=False))"
   ]
  },
  {
   "cell_type": "code",
   "execution_count": 47,
   "metadata": {},
   "outputs": [
    {
     "data": {
      "text/html": [
       "<div>\n",
       "<table border=\"1\" class=\"dataframe\">\n",
       "  <thead>\n",
       "    <tr style=\"text-align: right;\">\n",
       "      <th></th>\n",
       "      <th>project</th>\n",
       "      <th>authors</th>\n",
       "      <th>commits</th>\n",
       "      <th>ratio_authors</th>\n",
       "      <th>ratio_commits</th>\n",
       "    </tr>\n",
       "  </thead>\n",
       "  <tbody>\n",
       "    <tr>\n",
       "      <th>0</th>\n",
       "      <td>8.0</td>\n",
       "      <td>41.0</td>\n",
       "      <td>tricircle</td>\n",
       "      <td>72.727273</td>\n",
       "      <td>128.125000</td>\n",
       "    </tr>\n",
       "    <tr>\n",
       "      <th>0</th>\n",
       "      <td>11.0</td>\n",
       "      <td>167.0</td>\n",
       "      <td>vitrage</td>\n",
       "      <td>45.833333</td>\n",
       "      <td>28.842832</td>\n",
       "    </tr>\n",
       "    <tr>\n",
       "      <th>0</th>\n",
       "      <td>10.0</td>\n",
       "      <td>97.0</td>\n",
       "      <td>zun</td>\n",
       "      <td>38.461538</td>\n",
       "      <td>47.783251</td>\n",
       "    </tr>\n",
       "    <tr>\n",
       "      <th>0</th>\n",
       "      <td>8.0</td>\n",
       "      <td>12.0</td>\n",
       "      <td>karbor</td>\n",
       "      <td>38.095238</td>\n",
       "      <td>7.272727</td>\n",
       "    </tr>\n",
       "    <tr>\n",
       "      <th>0</th>\n",
       "      <td>16.0</td>\n",
       "      <td>171.0</td>\n",
       "      <td>senlin</td>\n",
       "      <td>32.653061</td>\n",
       "      <td>5.765341</td>\n",
       "    </tr>\n",
       "    <tr>\n",
       "      <th>0</th>\n",
       "      <td>13.0</td>\n",
       "      <td>226.0</td>\n",
       "      <td>dragonflow</td>\n",
       "      <td>30.952381</td>\n",
       "      <td>25.799087</td>\n",
       "    </tr>\n",
       "    <tr>\n",
       "      <th>0</th>\n",
       "      <td>13.0</td>\n",
       "      <td>46.0</td>\n",
       "      <td>watcher</td>\n",
       "      <td>23.636364</td>\n",
       "      <td>9.368635</td>\n",
       "    </tr>\n",
       "    <tr>\n",
       "      <th>0</th>\n",
       "      <td>33.0</td>\n",
       "      <td>180.0</td>\n",
       "      <td>tacker</td>\n",
       "      <td>22.758621</td>\n",
       "      <td>22.988506</td>\n",
       "    </tr>\n",
       "    <tr>\n",
       "      <th>0</th>\n",
       "      <td>96.0</td>\n",
       "      <td>949.0</td>\n",
       "      <td>horizon</td>\n",
       "      <td>22.748815</td>\n",
       "      <td>25.333689</td>\n",
       "    </tr>\n",
       "    <tr>\n",
       "      <th>0</th>\n",
       "      <td>26.0</td>\n",
       "      <td>117.0</td>\n",
       "      <td>Security</td>\n",
       "      <td>22.033898</td>\n",
       "      <td>7.758621</td>\n",
       "    </tr>\n",
       "    <tr>\n",
       "      <th>0</th>\n",
       "      <td>57.0</td>\n",
       "      <td>281.0</td>\n",
       "      <td>Telemetry</td>\n",
       "      <td>21.590909</td>\n",
       "      <td>5.624500</td>\n",
       "    </tr>\n",
       "    <tr>\n",
       "      <th>0</th>\n",
       "      <td>31.0</td>\n",
       "      <td>1002.0</td>\n",
       "      <td>murano</td>\n",
       "      <td>21.379310</td>\n",
       "      <td>27.073764</td>\n",
       "    </tr>\n",
       "    <tr>\n",
       "      <th>0</th>\n",
       "      <td>145.0</td>\n",
       "      <td>3080.0</td>\n",
       "      <td>Documentation</td>\n",
       "      <td>20.393812</td>\n",
       "      <td>37.211550</td>\n",
       "    </tr>\n",
       "    <tr>\n",
       "      <th>0</th>\n",
       "      <td>9.0</td>\n",
       "      <td>111.0</td>\n",
       "      <td>kuryr</td>\n",
       "      <td>19.565217</td>\n",
       "      <td>33.035714</td>\n",
       "    </tr>\n",
       "    <tr>\n",
       "      <th>0</th>\n",
       "      <td>27.0</td>\n",
       "      <td>142.0</td>\n",
       "      <td>barbican</td>\n",
       "      <td>19.424460</td>\n",
       "      <td>8.722359</td>\n",
       "    </tr>\n",
       "    <tr>\n",
       "      <th>0</th>\n",
       "      <td>20.0</td>\n",
       "      <td>64.0</td>\n",
       "      <td>Chef OpenStack</td>\n",
       "      <td>19.417476</td>\n",
       "      <td>2.550817</td>\n",
       "    </tr>\n",
       "    <tr>\n",
       "      <th>0</th>\n",
       "      <td>32.0</td>\n",
       "      <td>214.0</td>\n",
       "      <td>trove</td>\n",
       "      <td>19.277108</td>\n",
       "      <td>11.536388</td>\n",
       "    </tr>\n",
       "    <tr>\n",
       "      <th>0</th>\n",
       "      <td>57.0</td>\n",
       "      <td>234.0</td>\n",
       "      <td>glance</td>\n",
       "      <td>18.811881</td>\n",
       "      <td>10.077519</td>\n",
       "    </tr>\n",
       "    <tr>\n",
       "      <th>0</th>\n",
       "      <td>7.0</td>\n",
       "      <td>54.0</td>\n",
       "      <td>RefStack</td>\n",
       "      <td>18.421053</td>\n",
       "      <td>12.676056</td>\n",
       "    </tr>\n",
       "    <tr>\n",
       "      <th>0</th>\n",
       "      <td>37.0</td>\n",
       "      <td>385.0</td>\n",
       "      <td>OpenStackClient</td>\n",
       "      <td>18.407960</td>\n",
       "      <td>19.201995</td>\n",
       "    </tr>\n",
       "    <tr>\n",
       "      <th>0</th>\n",
       "      <td>26.0</td>\n",
       "      <td>315.0</td>\n",
       "      <td>magnum</td>\n",
       "      <td>17.931034</td>\n",
       "      <td>22.292994</td>\n",
       "    </tr>\n",
       "    <tr>\n",
       "      <th>0</th>\n",
       "      <td>19.0</td>\n",
       "      <td>184.0</td>\n",
       "      <td>zaqar</td>\n",
       "      <td>17.757009</td>\n",
       "      <td>18.852459</td>\n",
       "    </tr>\n",
       "    <tr>\n",
       "      <th>0</th>\n",
       "      <td>3.0</td>\n",
       "      <td>47.0</td>\n",
       "      <td>storlets</td>\n",
       "      <td>16.666667</td>\n",
       "      <td>16.607774</td>\n",
       "    </tr>\n",
       "    <tr>\n",
       "      <th>0</th>\n",
       "      <td>32.0</td>\n",
       "      <td>154.0</td>\n",
       "      <td>kolla</td>\n",
       "      <td>16.410256</td>\n",
       "      <td>3.985507</td>\n",
       "    </tr>\n",
       "    <tr>\n",
       "      <th>0</th>\n",
       "      <td>121.0</td>\n",
       "      <td>891.0</td>\n",
       "      <td>nova</td>\n",
       "      <td>16.285330</td>\n",
       "      <td>6.913944</td>\n",
       "    </tr>\n",
       "    <tr>\n",
       "      <th>0</th>\n",
       "      <td>24.0</td>\n",
       "      <td>282.0</td>\n",
       "      <td>manila</td>\n",
       "      <td>16.216216</td>\n",
       "      <td>15.537190</td>\n",
       "    </tr>\n",
       "    <tr>\n",
       "      <th>0</th>\n",
       "      <td>99.0</td>\n",
       "      <td>858.0</td>\n",
       "      <td>neutron</td>\n",
       "      <td>15.840000</td>\n",
       "      <td>7.279824</td>\n",
       "    </tr>\n",
       "    <tr>\n",
       "      <th>0</th>\n",
       "      <td>28.0</td>\n",
       "      <td>379.0</td>\n",
       "      <td>sahara</td>\n",
       "      <td>15.819209</td>\n",
       "      <td>8.212351</td>\n",
       "    </tr>\n",
       "    <tr>\n",
       "      <th>0</th>\n",
       "      <td>54.0</td>\n",
       "      <td>217.0</td>\n",
       "      <td>heat</td>\n",
       "      <td>15.652174</td>\n",
       "      <td>3.174371</td>\n",
       "    </tr>\n",
       "    <tr>\n",
       "      <th>0</th>\n",
       "      <td>56.0</td>\n",
       "      <td>621.0</td>\n",
       "      <td>keystone</td>\n",
       "      <td>15.217391</td>\n",
       "      <td>10.482782</td>\n",
       "    </tr>\n",
       "    <tr>\n",
       "      <th>0</th>\n",
       "      <td>31.0</td>\n",
       "      <td>190.0</td>\n",
       "      <td>rally</td>\n",
       "      <td>15.196078</td>\n",
       "      <td>9.099617</td>\n",
       "    </tr>\n",
       "    <tr>\n",
       "      <th>0</th>\n",
       "      <td>5.0</td>\n",
       "      <td>33.0</td>\n",
       "      <td>winstackers</td>\n",
       "      <td>15.151515</td>\n",
       "      <td>7.951807</td>\n",
       "    </tr>\n",
       "    <tr>\n",
       "      <th>0</th>\n",
       "      <td>48.0</td>\n",
       "      <td>4518.0</td>\n",
       "      <td>fuel</td>\n",
       "      <td>14.634146</td>\n",
       "      <td>17.884570</td>\n",
       "    </tr>\n",
       "    <tr>\n",
       "      <th>0</th>\n",
       "      <td>35.0</td>\n",
       "      <td>209.0</td>\n",
       "      <td>swift</td>\n",
       "      <td>14.583333</td>\n",
       "      <td>7.706490</td>\n",
       "    </tr>\n",
       "    <tr>\n",
       "      <th>0</th>\n",
       "      <td>43.0</td>\n",
       "      <td>1172.0</td>\n",
       "      <td>ironic</td>\n",
       "      <td>14.478114</td>\n",
       "      <td>24.209874</td>\n",
       "    </tr>\n",
       "    <tr>\n",
       "      <th>0</th>\n",
       "      <td>623.0</td>\n",
       "      <td>13175.0</td>\n",
       "      <td>Packaging-deb</td>\n",
       "      <td>14.361457</td>\n",
       "      <td>8.536736</td>\n",
       "    </tr>\n",
       "    <tr>\n",
       "      <th>0</th>\n",
       "      <td>7.0</td>\n",
       "      <td>41.0</td>\n",
       "      <td>searchlight</td>\n",
       "      <td>14.285714</td>\n",
       "      <td>8.932462</td>\n",
       "    </tr>\n",
       "    <tr>\n",
       "      <th>0</th>\n",
       "      <td>77.0</td>\n",
       "      <td>532.0</td>\n",
       "      <td>cinder</td>\n",
       "      <td>13.898917</td>\n",
       "      <td>9.646419</td>\n",
       "    </tr>\n",
       "    <tr>\n",
       "      <th>0</th>\n",
       "      <td>101.0</td>\n",
       "      <td>650.0</td>\n",
       "      <td>Quality Assurance</td>\n",
       "      <td>13.760218</td>\n",
       "      <td>7.747318</td>\n",
       "    </tr>\n",
       "    <tr>\n",
       "      <th>0</th>\n",
       "      <td>18.0</td>\n",
       "      <td>167.0</td>\n",
       "      <td>monasca</td>\n",
       "      <td>13.533835</td>\n",
       "      <td>4.693648</td>\n",
       "    </tr>\n",
       "    <tr>\n",
       "      <th>0</th>\n",
       "      <td>23.0</td>\n",
       "      <td>377.0</td>\n",
       "      <td>OpenStackAnsible</td>\n",
       "      <td>13.372093</td>\n",
       "      <td>3.270866</td>\n",
       "    </tr>\n",
       "    <tr>\n",
       "      <th>0</th>\n",
       "      <td>2.0</td>\n",
       "      <td>5.0</td>\n",
       "      <td>ec2-api</td>\n",
       "      <td>13.333333</td>\n",
       "      <td>1.798561</td>\n",
       "    </tr>\n",
       "    <tr>\n",
       "      <th>0</th>\n",
       "      <td>13.0</td>\n",
       "      <td>138.0</td>\n",
       "      <td>mistral</td>\n",
       "      <td>13.000000</td>\n",
       "      <td>8.151211</td>\n",
       "    </tr>\n",
       "    <tr>\n",
       "      <th>0</th>\n",
       "      <td>10.0</td>\n",
       "      <td>239.0</td>\n",
       "      <td>congress</td>\n",
       "      <td>12.987013</td>\n",
       "      <td>24.044266</td>\n",
       "    </tr>\n",
       "    <tr>\n",
       "      <th>0</th>\n",
       "      <td>6.0</td>\n",
       "      <td>15.0</td>\n",
       "      <td>freezer</td>\n",
       "      <td>12.000000</td>\n",
       "      <td>1.726122</td>\n",
       "    </tr>\n",
       "    <tr>\n",
       "      <th>0</th>\n",
       "      <td>44.0</td>\n",
       "      <td>312.0</td>\n",
       "      <td>octavia</td>\n",
       "      <td>11.956522</td>\n",
       "      <td>8.208366</td>\n",
       "    </tr>\n",
       "    <tr>\n",
       "      <th>0</th>\n",
       "      <td>59.0</td>\n",
       "      <td>416.0</td>\n",
       "      <td>oslo</td>\n",
       "      <td>11.706349</td>\n",
       "      <td>4.804250</td>\n",
       "    </tr>\n",
       "    <tr>\n",
       "      <th>0</th>\n",
       "      <td>41.0</td>\n",
       "      <td>109.0</td>\n",
       "      <td>requirements</td>\n",
       "      <td>11.581921</td>\n",
       "      <td>5.025357</td>\n",
       "    </tr>\n",
       "    <tr>\n",
       "      <th>0</th>\n",
       "      <td>19.0</td>\n",
       "      <td>49.0</td>\n",
       "      <td>Release Management</td>\n",
       "      <td>11.377246</td>\n",
       "      <td>1.724745</td>\n",
       "    </tr>\n",
       "    <tr>\n",
       "      <th>0</th>\n",
       "      <td>145.0</td>\n",
       "      <td>2303.0</td>\n",
       "      <td>Infrastructure</td>\n",
       "      <td>11.214230</td>\n",
       "      <td>4.849442</td>\n",
       "    </tr>\n",
       "    <tr>\n",
       "      <th>0</th>\n",
       "      <td>40.0</td>\n",
       "      <td>663.0</td>\n",
       "      <td>tripleo</td>\n",
       "      <td>11.204482</td>\n",
       "      <td>4.850746</td>\n",
       "    </tr>\n",
       "    <tr>\n",
       "      <th>0</th>\n",
       "      <td>6.0</td>\n",
       "      <td>17.0</td>\n",
       "      <td>Community App Catalog</td>\n",
       "      <td>10.714286</td>\n",
       "      <td>4.632153</td>\n",
       "    </tr>\n",
       "    <tr>\n",
       "      <th>0</th>\n",
       "      <td>4.0</td>\n",
       "      <td>6.0</td>\n",
       "      <td>cloudkitty</td>\n",
       "      <td>10.256410</td>\n",
       "      <td>1.973684</td>\n",
       "    </tr>\n",
       "    <tr>\n",
       "      <th>0</th>\n",
       "      <td>6.0</td>\n",
       "      <td>45.0</td>\n",
       "      <td>solum</td>\n",
       "      <td>10.169492</td>\n",
       "      <td>5.415162</td>\n",
       "    </tr>\n",
       "    <tr>\n",
       "      <th>0</th>\n",
       "      <td>33.0</td>\n",
       "      <td>894.0</td>\n",
       "      <td>Puppet OpenStack</td>\n",
       "      <td>9.455587</td>\n",
       "      <td>11.149913</td>\n",
       "    </tr>\n",
       "    <tr>\n",
       "      <th>0</th>\n",
       "      <td>9.0</td>\n",
       "      <td>639.0</td>\n",
       "      <td>OpenStack Charms</td>\n",
       "      <td>8.181818</td>\n",
       "      <td>3.438072</td>\n",
       "    </tr>\n",
       "    <tr>\n",
       "      <th>0</th>\n",
       "      <td>9.0</td>\n",
       "      <td>36.0</td>\n",
       "      <td>notavailable</td>\n",
       "      <td>8.108108</td>\n",
       "      <td>1.066983</td>\n",
       "    </tr>\n",
       "    <tr>\n",
       "      <th>0</th>\n",
       "      <td>10.0</td>\n",
       "      <td>59.0</td>\n",
       "      <td>designate</td>\n",
       "      <td>7.751938</td>\n",
       "      <td>5.263158</td>\n",
       "    </tr>\n",
       "    <tr>\n",
       "      <th>0</th>\n",
       "      <td>1.0</td>\n",
       "      <td>18.0</td>\n",
       "      <td>I18n</td>\n",
       "      <td>7.142857</td>\n",
       "      <td>20.000000</td>\n",
       "    </tr>\n",
       "    <tr>\n",
       "      <th>0</th>\n",
       "      <td>2.0</td>\n",
       "      <td>22.0</td>\n",
       "      <td>Packaging-rpm</td>\n",
       "      <td>6.896552</td>\n",
       "      <td>2.906209</td>\n",
       "    </tr>\n",
       "  </tbody>\n",
       "</table>\n",
       "</div>"
      ],
      "text/plain": [
       "   project  authors                commits  ratio_authors  ratio_commits\n",
       "0      8.0     41.0              tricircle      72.727273     128.125000\n",
       "0     11.0    167.0                vitrage      45.833333      28.842832\n",
       "0     10.0     97.0                    zun      38.461538      47.783251\n",
       "0      8.0     12.0                 karbor      38.095238       7.272727\n",
       "0     16.0    171.0                 senlin      32.653061       5.765341\n",
       "0     13.0    226.0             dragonflow      30.952381      25.799087\n",
       "0     13.0     46.0                watcher      23.636364       9.368635\n",
       "0     33.0    180.0                 tacker      22.758621      22.988506\n",
       "0     96.0    949.0                horizon      22.748815      25.333689\n",
       "0     26.0    117.0               Security      22.033898       7.758621\n",
       "0     57.0    281.0              Telemetry      21.590909       5.624500\n",
       "0     31.0   1002.0                 murano      21.379310      27.073764\n",
       "0    145.0   3080.0          Documentation      20.393812      37.211550\n",
       "0      9.0    111.0                  kuryr      19.565217      33.035714\n",
       "0     27.0    142.0               barbican      19.424460       8.722359\n",
       "0     20.0     64.0         Chef OpenStack      19.417476       2.550817\n",
       "0     32.0    214.0                  trove      19.277108      11.536388\n",
       "0     57.0    234.0                 glance      18.811881      10.077519\n",
       "0      7.0     54.0               RefStack      18.421053      12.676056\n",
       "0     37.0    385.0        OpenStackClient      18.407960      19.201995\n",
       "0     26.0    315.0                 magnum      17.931034      22.292994\n",
       "0     19.0    184.0                  zaqar      17.757009      18.852459\n",
       "0      3.0     47.0               storlets      16.666667      16.607774\n",
       "0     32.0    154.0                  kolla      16.410256       3.985507\n",
       "0    121.0    891.0                   nova      16.285330       6.913944\n",
       "0     24.0    282.0                 manila      16.216216      15.537190\n",
       "0     99.0    858.0                neutron      15.840000       7.279824\n",
       "0     28.0    379.0                 sahara      15.819209       8.212351\n",
       "0     54.0    217.0                   heat      15.652174       3.174371\n",
       "0     56.0    621.0               keystone      15.217391      10.482782\n",
       "0     31.0    190.0                  rally      15.196078       9.099617\n",
       "0      5.0     33.0            winstackers      15.151515       7.951807\n",
       "0     48.0   4518.0                   fuel      14.634146      17.884570\n",
       "0     35.0    209.0                  swift      14.583333       7.706490\n",
       "0     43.0   1172.0                 ironic      14.478114      24.209874\n",
       "0    623.0  13175.0          Packaging-deb      14.361457       8.536736\n",
       "0      7.0     41.0            searchlight      14.285714       8.932462\n",
       "0     77.0    532.0                 cinder      13.898917       9.646419\n",
       "0    101.0    650.0      Quality Assurance      13.760218       7.747318\n",
       "0     18.0    167.0                monasca      13.533835       4.693648\n",
       "0     23.0    377.0       OpenStackAnsible      13.372093       3.270866\n",
       "0      2.0      5.0                ec2-api      13.333333       1.798561\n",
       "0     13.0    138.0                mistral      13.000000       8.151211\n",
       "0     10.0    239.0               congress      12.987013      24.044266\n",
       "0      6.0     15.0                freezer      12.000000       1.726122\n",
       "0     44.0    312.0                octavia      11.956522       8.208366\n",
       "0     59.0    416.0                   oslo      11.706349       4.804250\n",
       "0     41.0    109.0           requirements      11.581921       5.025357\n",
       "0     19.0     49.0     Release Management      11.377246       1.724745\n",
       "0    145.0   2303.0         Infrastructure      11.214230       4.849442\n",
       "0     40.0    663.0                tripleo      11.204482       4.850746\n",
       "0      6.0     17.0  Community App Catalog      10.714286       4.632153\n",
       "0      4.0      6.0             cloudkitty      10.256410       1.973684\n",
       "0      6.0     45.0                  solum      10.169492       5.415162\n",
       "0     33.0    894.0       Puppet OpenStack       9.455587      11.149913\n",
       "0      9.0    639.0       OpenStack Charms       8.181818       3.438072\n",
       "0      9.0     36.0           notavailable       8.108108       1.066983\n",
       "0     10.0     59.0              designate       7.751938       5.263158\n",
       "0      1.0     18.0                   I18n       7.142857      20.000000\n",
       "0      2.0     22.0          Packaging-rpm       6.896552       2.906209"
      ]
     },
     "execution_count": 47,
     "metadata": {},
     "output_type": "execute_result"
    }
   ],
   "source": [
    "df_summary.sort_values(\"ratio_authors\", ascending=False)\n"
   ]
  },
  {
   "cell_type": "code",
   "execution_count": 62,
   "metadata": {},
   "outputs": [
    {
     "name": "stdout",
     "output_type": "stream",
     "text": [
      "                 project  authors  commits  ratio_authors  ratio_commits\n",
      "0          Packaging-deb    623.0  13175.0      14.361457       8.536736\n",
      "0          Documentation    145.0   3080.0      20.393812      37.211550\n",
      "0         Infrastructure    145.0   2303.0      11.214230       4.849442\n",
      "0                   nova    121.0    891.0      16.285330       6.913944\n",
      "0      Quality Assurance    101.0    650.0      13.760218       7.747318\n",
      "0                neutron     99.0    858.0      15.840000       7.279824\n",
      "0                horizon     96.0    949.0      22.748815      25.333689\n",
      "0                 cinder     77.0    532.0      13.898917       9.646419\n",
      "0                   oslo     59.0    416.0      11.706349       4.804250\n",
      "0              Telemetry     57.0    281.0      21.590909       5.624500\n",
      "0                 glance     57.0    234.0      18.811881      10.077519\n",
      "0               keystone     56.0    621.0      15.217391      10.482782\n",
      "0                   heat     54.0    217.0      15.652174       3.174371\n",
      "0                   fuel     48.0   4518.0      14.634146      17.884570\n",
      "0                octavia     44.0    312.0      11.956522       8.208366\n",
      "0                 ironic     43.0   1172.0      14.478114      24.209874\n",
      "0           requirements     41.0    109.0      11.581921       5.025357\n",
      "0                tripleo     40.0    663.0      11.204482       4.850746\n",
      "0        OpenStackClient     37.0    385.0      18.407960      19.201995\n",
      "0                  swift     35.0    209.0      14.583333       7.706490\n",
      "0                 tacker     33.0    180.0      22.758621      22.988506\n",
      "0       Puppet OpenStack     33.0    894.0       9.455587      11.149913\n",
      "0                  kolla     32.0    154.0      16.410256       3.985507\n",
      "0                  trove     32.0    214.0      19.277108      11.536388\n",
      "0                  rally     31.0    190.0      15.196078       9.099617\n",
      "0                 murano     31.0   1002.0      21.379310      27.073764\n",
      "0                 sahara     28.0    379.0      15.819209       8.212351\n",
      "0               barbican     27.0    142.0      19.424460       8.722359\n",
      "0               Security     26.0    117.0      22.033898       7.758621\n",
      "0                 magnum     26.0    315.0      17.931034      22.292994\n",
      "0                 manila     24.0    282.0      16.216216      15.537190\n",
      "0       OpenStackAnsible     23.0    377.0      13.372093       3.270866\n",
      "0         Chef OpenStack     20.0     64.0      19.417476       2.550817\n",
      "0     Release Management     19.0     49.0      11.377246       1.724745\n",
      "0                  zaqar     19.0    184.0      17.757009      18.852459\n",
      "0                monasca     18.0    167.0      13.533835       4.693648\n",
      "0                 senlin     16.0    171.0      32.653061       5.765341\n",
      "0             dragonflow     13.0    226.0      30.952381      25.799087\n",
      "0                mistral     13.0    138.0      13.000000       8.151211\n",
      "0                watcher     13.0     46.0      23.636364       9.368635\n",
      "0                vitrage     11.0    167.0      45.833333      28.842832\n",
      "0                    zun     10.0     97.0      38.461538      47.783251\n",
      "0              designate     10.0     59.0       7.751938       5.263158\n",
      "0               congress     10.0    239.0      12.987013      24.044266\n",
      "0                  kuryr      9.0    111.0      19.565217      33.035714\n",
      "0       OpenStack Charms      9.0    639.0       8.181818       3.438072\n",
      "0           notavailable      9.0     36.0       8.108108       1.066983\n",
      "0              tricircle      8.0     41.0      72.727273     128.125000\n",
      "0                 karbor      8.0     12.0      38.095238       7.272727\n",
      "0               RefStack      7.0     54.0      18.421053      12.676056\n",
      "0            searchlight      7.0     41.0      14.285714       8.932462\n",
      "0  Community App Catalog      6.0     17.0      10.714286       4.632153\n",
      "0                  solum      6.0     45.0      10.169492       5.415162\n",
      "0                freezer      6.0     15.0      12.000000       1.726122\n",
      "0            winstackers      5.0     33.0      15.151515       7.951807\n",
      "0             cloudkitty      4.0      6.0      10.256410       1.973684\n",
      "0               storlets      3.0     47.0      16.666667      16.607774\n",
      "0          Packaging-rpm      2.0     22.0       6.896552       2.906209\n",
      "0                ec2-api      2.0      5.0      13.333333       1.798561\n",
      "0                   I18n      1.0     18.0       7.142857      20.000000\n"
     ]
    }
   ],
   "source": [
    "print(df_summary.sort_values(\"authors\", ascending=False))\n"
   ]
  },
  {
   "cell_type": "code",
   "execution_count": 63,
   "metadata": {},
   "outputs": [
    {
     "name": "stdout",
     "output_type": "stream",
     "text": [
      "                 project  authors  commits  ratio_authors  ratio_commits\n",
      "0          Packaging-deb    623.0  13175.0      14.361457       8.536736\n",
      "0                   fuel     48.0   4518.0      14.634146      17.884570\n",
      "0          Documentation    145.0   3080.0      20.393812      37.211550\n",
      "0         Infrastructure    145.0   2303.0      11.214230       4.849442\n",
      "0                 ironic     43.0   1172.0      14.478114      24.209874\n",
      "0                 murano     31.0   1002.0      21.379310      27.073764\n",
      "0                horizon     96.0    949.0      22.748815      25.333689\n",
      "0       Puppet OpenStack     33.0    894.0       9.455587      11.149913\n",
      "0                   nova    121.0    891.0      16.285330       6.913944\n",
      "0                neutron     99.0    858.0      15.840000       7.279824\n",
      "0                tripleo     40.0    663.0      11.204482       4.850746\n",
      "0      Quality Assurance    101.0    650.0      13.760218       7.747318\n",
      "0       OpenStack Charms      9.0    639.0       8.181818       3.438072\n",
      "0               keystone     56.0    621.0      15.217391      10.482782\n",
      "0                 cinder     77.0    532.0      13.898917       9.646419\n",
      "0                   oslo     59.0    416.0      11.706349       4.804250\n",
      "0        OpenStackClient     37.0    385.0      18.407960      19.201995\n",
      "0                 sahara     28.0    379.0      15.819209       8.212351\n",
      "0       OpenStackAnsible     23.0    377.0      13.372093       3.270866\n",
      "0                 magnum     26.0    315.0      17.931034      22.292994\n",
      "0                octavia     44.0    312.0      11.956522       8.208366\n",
      "0                 manila     24.0    282.0      16.216216      15.537190\n",
      "0              Telemetry     57.0    281.0      21.590909       5.624500\n",
      "0               congress     10.0    239.0      12.987013      24.044266\n",
      "0                 glance     57.0    234.0      18.811881      10.077519\n",
      "0             dragonflow     13.0    226.0      30.952381      25.799087\n",
      "0                   heat     54.0    217.0      15.652174       3.174371\n",
      "0                  trove     32.0    214.0      19.277108      11.536388\n",
      "0                  swift     35.0    209.0      14.583333       7.706490\n",
      "0                  rally     31.0    190.0      15.196078       9.099617\n",
      "0                  zaqar     19.0    184.0      17.757009      18.852459\n",
      "0                 tacker     33.0    180.0      22.758621      22.988506\n",
      "0                 senlin     16.0    171.0      32.653061       5.765341\n",
      "0                monasca     18.0    167.0      13.533835       4.693648\n",
      "0                vitrage     11.0    167.0      45.833333      28.842832\n",
      "0                  kolla     32.0    154.0      16.410256       3.985507\n",
      "0               barbican     27.0    142.0      19.424460       8.722359\n",
      "0                mistral     13.0    138.0      13.000000       8.151211\n",
      "0               Security     26.0    117.0      22.033898       7.758621\n",
      "0                  kuryr      9.0    111.0      19.565217      33.035714\n",
      "0           requirements     41.0    109.0      11.581921       5.025357\n",
      "0                    zun     10.0     97.0      38.461538      47.783251\n",
      "0         Chef OpenStack     20.0     64.0      19.417476       2.550817\n",
      "0              designate     10.0     59.0       7.751938       5.263158\n",
      "0               RefStack      7.0     54.0      18.421053      12.676056\n",
      "0     Release Management     19.0     49.0      11.377246       1.724745\n",
      "0               storlets      3.0     47.0      16.666667      16.607774\n",
      "0                watcher     13.0     46.0      23.636364       9.368635\n",
      "0                  solum      6.0     45.0      10.169492       5.415162\n",
      "0            searchlight      7.0     41.0      14.285714       8.932462\n",
      "0              tricircle      8.0     41.0      72.727273     128.125000\n",
      "0           notavailable      9.0     36.0       8.108108       1.066983\n",
      "0            winstackers      5.0     33.0      15.151515       7.951807\n",
      "0          Packaging-rpm      2.0     22.0       6.896552       2.906209\n",
      "0                   I18n      1.0     18.0       7.142857      20.000000\n",
      "0  Community App Catalog      6.0     17.0      10.714286       4.632153\n",
      "0                freezer      6.0     15.0      12.000000       1.726122\n",
      "0                 karbor      8.0     12.0      38.095238       7.272727\n",
      "0             cloudkitty      4.0      6.0      10.256410       1.973684\n",
      "0                ec2-api      2.0      5.0      13.333333       1.798561\n"
     ]
    }
   ],
   "source": [
    "print(df_summary.sort_values(\"commits\", ascending=False))\n"
   ]
  },
  {
   "cell_type": "code",
   "execution_count": 50,
   "metadata": {},
   "outputs": [
    {
     "data": {
      "text/html": [
       "<div>\n",
       "<table border=\"1\" class=\"dataframe\">\n",
       "  <thead>\n",
       "    <tr style=\"text-align: right;\">\n",
       "      <th></th>\n",
       "      <th>project</th>\n",
       "      <th>authors</th>\n",
       "      <th>commits</th>\n",
       "      <th>ratio_authors</th>\n",
       "      <th>ratio_commits</th>\n",
       "    </tr>\n",
       "  </thead>\n",
       "  <tbody>\n",
       "    <tr>\n",
       "      <th>0</th>\n",
       "      <td>1.0</td>\n",
       "      <td>18.0</td>\n",
       "      <td>I18n</td>\n",
       "      <td>7.142857</td>\n",
       "      <td>20.000000</td>\n",
       "    </tr>\n",
       "    <tr>\n",
       "      <th>0</th>\n",
       "      <td>2.0</td>\n",
       "      <td>22.0</td>\n",
       "      <td>Packaging-rpm</td>\n",
       "      <td>6.896552</td>\n",
       "      <td>2.906209</td>\n",
       "    </tr>\n",
       "    <tr>\n",
       "      <th>0</th>\n",
       "      <td>2.0</td>\n",
       "      <td>5.0</td>\n",
       "      <td>ec2-api</td>\n",
       "      <td>13.333333</td>\n",
       "      <td>1.798561</td>\n",
       "    </tr>\n",
       "    <tr>\n",
       "      <th>0</th>\n",
       "      <td>3.0</td>\n",
       "      <td>47.0</td>\n",
       "      <td>storlets</td>\n",
       "      <td>16.666667</td>\n",
       "      <td>16.607774</td>\n",
       "    </tr>\n",
       "    <tr>\n",
       "      <th>0</th>\n",
       "      <td>4.0</td>\n",
       "      <td>6.0</td>\n",
       "      <td>cloudkitty</td>\n",
       "      <td>10.256410</td>\n",
       "      <td>1.973684</td>\n",
       "    </tr>\n",
       "    <tr>\n",
       "      <th>0</th>\n",
       "      <td>5.0</td>\n",
       "      <td>33.0</td>\n",
       "      <td>winstackers</td>\n",
       "      <td>15.151515</td>\n",
       "      <td>7.951807</td>\n",
       "    </tr>\n",
       "    <tr>\n",
       "      <th>0</th>\n",
       "      <td>6.0</td>\n",
       "      <td>17.0</td>\n",
       "      <td>Community App Catalog</td>\n",
       "      <td>10.714286</td>\n",
       "      <td>4.632153</td>\n",
       "    </tr>\n",
       "    <tr>\n",
       "      <th>0</th>\n",
       "      <td>6.0</td>\n",
       "      <td>15.0</td>\n",
       "      <td>freezer</td>\n",
       "      <td>12.000000</td>\n",
       "      <td>1.726122</td>\n",
       "    </tr>\n",
       "    <tr>\n",
       "      <th>0</th>\n",
       "      <td>6.0</td>\n",
       "      <td>45.0</td>\n",
       "      <td>solum</td>\n",
       "      <td>10.169492</td>\n",
       "      <td>5.415162</td>\n",
       "    </tr>\n",
       "    <tr>\n",
       "      <th>0</th>\n",
       "      <td>7.0</td>\n",
       "      <td>41.0</td>\n",
       "      <td>searchlight</td>\n",
       "      <td>14.285714</td>\n",
       "      <td>8.932462</td>\n",
       "    </tr>\n",
       "    <tr>\n",
       "      <th>0</th>\n",
       "      <td>7.0</td>\n",
       "      <td>54.0</td>\n",
       "      <td>RefStack</td>\n",
       "      <td>18.421053</td>\n",
       "      <td>12.676056</td>\n",
       "    </tr>\n",
       "    <tr>\n",
       "      <th>0</th>\n",
       "      <td>8.0</td>\n",
       "      <td>12.0</td>\n",
       "      <td>karbor</td>\n",
       "      <td>38.095238</td>\n",
       "      <td>7.272727</td>\n",
       "    </tr>\n",
       "    <tr>\n",
       "      <th>0</th>\n",
       "      <td>8.0</td>\n",
       "      <td>41.0</td>\n",
       "      <td>tricircle</td>\n",
       "      <td>72.727273</td>\n",
       "      <td>128.125000</td>\n",
       "    </tr>\n",
       "    <tr>\n",
       "      <th>0</th>\n",
       "      <td>9.0</td>\n",
       "      <td>111.0</td>\n",
       "      <td>kuryr</td>\n",
       "      <td>19.565217</td>\n",
       "      <td>33.035714</td>\n",
       "    </tr>\n",
       "    <tr>\n",
       "      <th>0</th>\n",
       "      <td>9.0</td>\n",
       "      <td>639.0</td>\n",
       "      <td>OpenStack Charms</td>\n",
       "      <td>8.181818</td>\n",
       "      <td>3.438072</td>\n",
       "    </tr>\n",
       "    <tr>\n",
       "      <th>0</th>\n",
       "      <td>9.0</td>\n",
       "      <td>36.0</td>\n",
       "      <td>notavailable</td>\n",
       "      <td>8.108108</td>\n",
       "      <td>1.066983</td>\n",
       "    </tr>\n",
       "    <tr>\n",
       "      <th>0</th>\n",
       "      <td>10.0</td>\n",
       "      <td>97.0</td>\n",
       "      <td>zun</td>\n",
       "      <td>38.461538</td>\n",
       "      <td>47.783251</td>\n",
       "    </tr>\n",
       "    <tr>\n",
       "      <th>0</th>\n",
       "      <td>10.0</td>\n",
       "      <td>239.0</td>\n",
       "      <td>congress</td>\n",
       "      <td>12.987013</td>\n",
       "      <td>24.044266</td>\n",
       "    </tr>\n",
       "    <tr>\n",
       "      <th>0</th>\n",
       "      <td>10.0</td>\n",
       "      <td>59.0</td>\n",
       "      <td>designate</td>\n",
       "      <td>7.751938</td>\n",
       "      <td>5.263158</td>\n",
       "    </tr>\n",
       "    <tr>\n",
       "      <th>0</th>\n",
       "      <td>11.0</td>\n",
       "      <td>167.0</td>\n",
       "      <td>vitrage</td>\n",
       "      <td>45.833333</td>\n",
       "      <td>28.842832</td>\n",
       "    </tr>\n",
       "    <tr>\n",
       "      <th>0</th>\n",
       "      <td>13.0</td>\n",
       "      <td>46.0</td>\n",
       "      <td>watcher</td>\n",
       "      <td>23.636364</td>\n",
       "      <td>9.368635</td>\n",
       "    </tr>\n",
       "    <tr>\n",
       "      <th>0</th>\n",
       "      <td>13.0</td>\n",
       "      <td>226.0</td>\n",
       "      <td>dragonflow</td>\n",
       "      <td>30.952381</td>\n",
       "      <td>25.799087</td>\n",
       "    </tr>\n",
       "    <tr>\n",
       "      <th>0</th>\n",
       "      <td>13.0</td>\n",
       "      <td>138.0</td>\n",
       "      <td>mistral</td>\n",
       "      <td>13.000000</td>\n",
       "      <td>8.151211</td>\n",
       "    </tr>\n",
       "    <tr>\n",
       "      <th>0</th>\n",
       "      <td>16.0</td>\n",
       "      <td>171.0</td>\n",
       "      <td>senlin</td>\n",
       "      <td>32.653061</td>\n",
       "      <td>5.765341</td>\n",
       "    </tr>\n",
       "    <tr>\n",
       "      <th>0</th>\n",
       "      <td>18.0</td>\n",
       "      <td>167.0</td>\n",
       "      <td>monasca</td>\n",
       "      <td>13.533835</td>\n",
       "      <td>4.693648</td>\n",
       "    </tr>\n",
       "    <tr>\n",
       "      <th>0</th>\n",
       "      <td>19.0</td>\n",
       "      <td>184.0</td>\n",
       "      <td>zaqar</td>\n",
       "      <td>17.757009</td>\n",
       "      <td>18.852459</td>\n",
       "    </tr>\n",
       "    <tr>\n",
       "      <th>0</th>\n",
       "      <td>19.0</td>\n",
       "      <td>49.0</td>\n",
       "      <td>Release Management</td>\n",
       "      <td>11.377246</td>\n",
       "      <td>1.724745</td>\n",
       "    </tr>\n",
       "    <tr>\n",
       "      <th>0</th>\n",
       "      <td>20.0</td>\n",
       "      <td>64.0</td>\n",
       "      <td>Chef OpenStack</td>\n",
       "      <td>19.417476</td>\n",
       "      <td>2.550817</td>\n",
       "    </tr>\n",
       "    <tr>\n",
       "      <th>0</th>\n",
       "      <td>23.0</td>\n",
       "      <td>377.0</td>\n",
       "      <td>OpenStackAnsible</td>\n",
       "      <td>13.372093</td>\n",
       "      <td>3.270866</td>\n",
       "    </tr>\n",
       "    <tr>\n",
       "      <th>0</th>\n",
       "      <td>24.0</td>\n",
       "      <td>282.0</td>\n",
       "      <td>manila</td>\n",
       "      <td>16.216216</td>\n",
       "      <td>15.537190</td>\n",
       "    </tr>\n",
       "    <tr>\n",
       "      <th>0</th>\n",
       "      <td>26.0</td>\n",
       "      <td>315.0</td>\n",
       "      <td>magnum</td>\n",
       "      <td>17.931034</td>\n",
       "      <td>22.292994</td>\n",
       "    </tr>\n",
       "    <tr>\n",
       "      <th>0</th>\n",
       "      <td>26.0</td>\n",
       "      <td>117.0</td>\n",
       "      <td>Security</td>\n",
       "      <td>22.033898</td>\n",
       "      <td>7.758621</td>\n",
       "    </tr>\n",
       "    <tr>\n",
       "      <th>0</th>\n",
       "      <td>27.0</td>\n",
       "      <td>142.0</td>\n",
       "      <td>barbican</td>\n",
       "      <td>19.424460</td>\n",
       "      <td>8.722359</td>\n",
       "    </tr>\n",
       "    <tr>\n",
       "      <th>0</th>\n",
       "      <td>28.0</td>\n",
       "      <td>379.0</td>\n",
       "      <td>sahara</td>\n",
       "      <td>15.819209</td>\n",
       "      <td>8.212351</td>\n",
       "    </tr>\n",
       "    <tr>\n",
       "      <th>0</th>\n",
       "      <td>31.0</td>\n",
       "      <td>190.0</td>\n",
       "      <td>rally</td>\n",
       "      <td>15.196078</td>\n",
       "      <td>9.099617</td>\n",
       "    </tr>\n",
       "    <tr>\n",
       "      <th>0</th>\n",
       "      <td>31.0</td>\n",
       "      <td>1002.0</td>\n",
       "      <td>murano</td>\n",
       "      <td>21.379310</td>\n",
       "      <td>27.073764</td>\n",
       "    </tr>\n",
       "    <tr>\n",
       "      <th>0</th>\n",
       "      <td>32.0</td>\n",
       "      <td>214.0</td>\n",
       "      <td>trove</td>\n",
       "      <td>19.277108</td>\n",
       "      <td>11.536388</td>\n",
       "    </tr>\n",
       "    <tr>\n",
       "      <th>0</th>\n",
       "      <td>32.0</td>\n",
       "      <td>154.0</td>\n",
       "      <td>kolla</td>\n",
       "      <td>16.410256</td>\n",
       "      <td>3.985507</td>\n",
       "    </tr>\n",
       "    <tr>\n",
       "      <th>0</th>\n",
       "      <td>33.0</td>\n",
       "      <td>180.0</td>\n",
       "      <td>tacker</td>\n",
       "      <td>22.758621</td>\n",
       "      <td>22.988506</td>\n",
       "    </tr>\n",
       "    <tr>\n",
       "      <th>0</th>\n",
       "      <td>33.0</td>\n",
       "      <td>894.0</td>\n",
       "      <td>Puppet OpenStack</td>\n",
       "      <td>9.455587</td>\n",
       "      <td>11.149913</td>\n",
       "    </tr>\n",
       "    <tr>\n",
       "      <th>0</th>\n",
       "      <td>35.0</td>\n",
       "      <td>209.0</td>\n",
       "      <td>swift</td>\n",
       "      <td>14.583333</td>\n",
       "      <td>7.706490</td>\n",
       "    </tr>\n",
       "    <tr>\n",
       "      <th>0</th>\n",
       "      <td>37.0</td>\n",
       "      <td>385.0</td>\n",
       "      <td>OpenStackClient</td>\n",
       "      <td>18.407960</td>\n",
       "      <td>19.201995</td>\n",
       "    </tr>\n",
       "    <tr>\n",
       "      <th>0</th>\n",
       "      <td>40.0</td>\n",
       "      <td>663.0</td>\n",
       "      <td>tripleo</td>\n",
       "      <td>11.204482</td>\n",
       "      <td>4.850746</td>\n",
       "    </tr>\n",
       "    <tr>\n",
       "      <th>0</th>\n",
       "      <td>41.0</td>\n",
       "      <td>109.0</td>\n",
       "      <td>requirements</td>\n",
       "      <td>11.581921</td>\n",
       "      <td>5.025357</td>\n",
       "    </tr>\n",
       "    <tr>\n",
       "      <th>0</th>\n",
       "      <td>43.0</td>\n",
       "      <td>1172.0</td>\n",
       "      <td>ironic</td>\n",
       "      <td>14.478114</td>\n",
       "      <td>24.209874</td>\n",
       "    </tr>\n",
       "    <tr>\n",
       "      <th>0</th>\n",
       "      <td>44.0</td>\n",
       "      <td>312.0</td>\n",
       "      <td>octavia</td>\n",
       "      <td>11.956522</td>\n",
       "      <td>8.208366</td>\n",
       "    </tr>\n",
       "    <tr>\n",
       "      <th>0</th>\n",
       "      <td>48.0</td>\n",
       "      <td>4518.0</td>\n",
       "      <td>fuel</td>\n",
       "      <td>14.634146</td>\n",
       "      <td>17.884570</td>\n",
       "    </tr>\n",
       "    <tr>\n",
       "      <th>0</th>\n",
       "      <td>54.0</td>\n",
       "      <td>217.0</td>\n",
       "      <td>heat</td>\n",
       "      <td>15.652174</td>\n",
       "      <td>3.174371</td>\n",
       "    </tr>\n",
       "    <tr>\n",
       "      <th>0</th>\n",
       "      <td>56.0</td>\n",
       "      <td>621.0</td>\n",
       "      <td>keystone</td>\n",
       "      <td>15.217391</td>\n",
       "      <td>10.482782</td>\n",
       "    </tr>\n",
       "    <tr>\n",
       "      <th>0</th>\n",
       "      <td>57.0</td>\n",
       "      <td>234.0</td>\n",
       "      <td>glance</td>\n",
       "      <td>18.811881</td>\n",
       "      <td>10.077519</td>\n",
       "    </tr>\n",
       "    <tr>\n",
       "      <th>0</th>\n",
       "      <td>57.0</td>\n",
       "      <td>281.0</td>\n",
       "      <td>Telemetry</td>\n",
       "      <td>21.590909</td>\n",
       "      <td>5.624500</td>\n",
       "    </tr>\n",
       "    <tr>\n",
       "      <th>0</th>\n",
       "      <td>59.0</td>\n",
       "      <td>416.0</td>\n",
       "      <td>oslo</td>\n",
       "      <td>11.706349</td>\n",
       "      <td>4.804250</td>\n",
       "    </tr>\n",
       "    <tr>\n",
       "      <th>0</th>\n",
       "      <td>77.0</td>\n",
       "      <td>532.0</td>\n",
       "      <td>cinder</td>\n",
       "      <td>13.898917</td>\n",
       "      <td>9.646419</td>\n",
       "    </tr>\n",
       "    <tr>\n",
       "      <th>0</th>\n",
       "      <td>96.0</td>\n",
       "      <td>949.0</td>\n",
       "      <td>horizon</td>\n",
       "      <td>22.748815</td>\n",
       "      <td>25.333689</td>\n",
       "    </tr>\n",
       "    <tr>\n",
       "      <th>0</th>\n",
       "      <td>99.0</td>\n",
       "      <td>858.0</td>\n",
       "      <td>neutron</td>\n",
       "      <td>15.840000</td>\n",
       "      <td>7.279824</td>\n",
       "    </tr>\n",
       "    <tr>\n",
       "      <th>0</th>\n",
       "      <td>101.0</td>\n",
       "      <td>650.0</td>\n",
       "      <td>Quality Assurance</td>\n",
       "      <td>13.760218</td>\n",
       "      <td>7.747318</td>\n",
       "    </tr>\n",
       "    <tr>\n",
       "      <th>0</th>\n",
       "      <td>121.0</td>\n",
       "      <td>891.0</td>\n",
       "      <td>nova</td>\n",
       "      <td>16.285330</td>\n",
       "      <td>6.913944</td>\n",
       "    </tr>\n",
       "    <tr>\n",
       "      <th>0</th>\n",
       "      <td>145.0</td>\n",
       "      <td>3080.0</td>\n",
       "      <td>Documentation</td>\n",
       "      <td>20.393812</td>\n",
       "      <td>37.211550</td>\n",
       "    </tr>\n",
       "    <tr>\n",
       "      <th>0</th>\n",
       "      <td>145.0</td>\n",
       "      <td>2303.0</td>\n",
       "      <td>Infrastructure</td>\n",
       "      <td>11.214230</td>\n",
       "      <td>4.849442</td>\n",
       "    </tr>\n",
       "    <tr>\n",
       "      <th>0</th>\n",
       "      <td>623.0</td>\n",
       "      <td>13175.0</td>\n",
       "      <td>Packaging-deb</td>\n",
       "      <td>14.361457</td>\n",
       "      <td>8.536736</td>\n",
       "    </tr>\n",
       "  </tbody>\n",
       "</table>\n",
       "</div>"
      ],
      "text/plain": [
       "   project  authors                commits  ratio_authors  ratio_commits\n",
       "0      1.0     18.0                   I18n       7.142857      20.000000\n",
       "0      2.0     22.0          Packaging-rpm       6.896552       2.906209\n",
       "0      2.0      5.0                ec2-api      13.333333       1.798561\n",
       "0      3.0     47.0               storlets      16.666667      16.607774\n",
       "0      4.0      6.0             cloudkitty      10.256410       1.973684\n",
       "0      5.0     33.0            winstackers      15.151515       7.951807\n",
       "0      6.0     17.0  Community App Catalog      10.714286       4.632153\n",
       "0      6.0     15.0                freezer      12.000000       1.726122\n",
       "0      6.0     45.0                  solum      10.169492       5.415162\n",
       "0      7.0     41.0            searchlight      14.285714       8.932462\n",
       "0      7.0     54.0               RefStack      18.421053      12.676056\n",
       "0      8.0     12.0                 karbor      38.095238       7.272727\n",
       "0      8.0     41.0              tricircle      72.727273     128.125000\n",
       "0      9.0    111.0                  kuryr      19.565217      33.035714\n",
       "0      9.0    639.0       OpenStack Charms       8.181818       3.438072\n",
       "0      9.0     36.0           notavailable       8.108108       1.066983\n",
       "0     10.0     97.0                    zun      38.461538      47.783251\n",
       "0     10.0    239.0               congress      12.987013      24.044266\n",
       "0     10.0     59.0              designate       7.751938       5.263158\n",
       "0     11.0    167.0                vitrage      45.833333      28.842832\n",
       "0     13.0     46.0                watcher      23.636364       9.368635\n",
       "0     13.0    226.0             dragonflow      30.952381      25.799087\n",
       "0     13.0    138.0                mistral      13.000000       8.151211\n",
       "0     16.0    171.0                 senlin      32.653061       5.765341\n",
       "0     18.0    167.0                monasca      13.533835       4.693648\n",
       "0     19.0    184.0                  zaqar      17.757009      18.852459\n",
       "0     19.0     49.0     Release Management      11.377246       1.724745\n",
       "0     20.0     64.0         Chef OpenStack      19.417476       2.550817\n",
       "0     23.0    377.0       OpenStackAnsible      13.372093       3.270866\n",
       "0     24.0    282.0                 manila      16.216216      15.537190\n",
       "0     26.0    315.0                 magnum      17.931034      22.292994\n",
       "0     26.0    117.0               Security      22.033898       7.758621\n",
       "0     27.0    142.0               barbican      19.424460       8.722359\n",
       "0     28.0    379.0                 sahara      15.819209       8.212351\n",
       "0     31.0    190.0                  rally      15.196078       9.099617\n",
       "0     31.0   1002.0                 murano      21.379310      27.073764\n",
       "0     32.0    214.0                  trove      19.277108      11.536388\n",
       "0     32.0    154.0                  kolla      16.410256       3.985507\n",
       "0     33.0    180.0                 tacker      22.758621      22.988506\n",
       "0     33.0    894.0       Puppet OpenStack       9.455587      11.149913\n",
       "0     35.0    209.0                  swift      14.583333       7.706490\n",
       "0     37.0    385.0        OpenStackClient      18.407960      19.201995\n",
       "0     40.0    663.0                tripleo      11.204482       4.850746\n",
       "0     41.0    109.0           requirements      11.581921       5.025357\n",
       "0     43.0   1172.0                 ironic      14.478114      24.209874\n",
       "0     44.0    312.0                octavia      11.956522       8.208366\n",
       "0     48.0   4518.0                   fuel      14.634146      17.884570\n",
       "0     54.0    217.0                   heat      15.652174       3.174371\n",
       "0     56.0    621.0               keystone      15.217391      10.482782\n",
       "0     57.0    234.0                 glance      18.811881      10.077519\n",
       "0     57.0    281.0              Telemetry      21.590909       5.624500\n",
       "0     59.0    416.0                   oslo      11.706349       4.804250\n",
       "0     77.0    532.0                 cinder      13.898917       9.646419\n",
       "0     96.0    949.0                horizon      22.748815      25.333689\n",
       "0     99.0    858.0                neutron      15.840000       7.279824\n",
       "0    101.0    650.0      Quality Assurance      13.760218       7.747318\n",
       "0    121.0    891.0                   nova      16.285330       6.913944\n",
       "0    145.0   3080.0          Documentation      20.393812      37.211550\n",
       "0    145.0   2303.0         Infrastructure      11.214230       4.849442\n",
       "0    623.0  13175.0          Packaging-deb      14.361457       8.536736"
      ]
     },
     "execution_count": 50,
     "metadata": {},
     "output_type": "execute_result"
    }
   ],
   "source": [
    "df_summary.sort_values(\"project\", ascending=True)\n"
   ]
  },
  {
   "cell_type": "code",
   "execution_count": 51,
   "metadata": {},
   "outputs": [
    {
     "data": {
      "text/plain": [
       "Index(['project', 'authors', 'commits', 'ratio_authors', 'ratio_commits'], dtype='object')"
      ]
     },
     "execution_count": 51,
     "metadata": {},
     "output_type": "execute_result"
    }
   ],
   "source": [
    "df_summary.columns"
   ]
  },
  {
   "cell_type": "code",
   "execution_count": 52,
   "metadata": {
    "collapsed": true
   },
   "outputs": [],
   "source": [
    "df_summary.columns = [\"project\", \"authors\", \"commits\", \"ratio_authors\", \"ratio_commits\"]"
   ]
  },
  {
   "cell_type": "code",
   "execution_count": 53,
   "metadata": {},
   "outputs": [
    {
     "data": {
      "text/html": [
       "<div>\n",
       "<table border=\"1\" class=\"dataframe\">\n",
       "  <thead>\n",
       "    <tr style=\"text-align: right;\">\n",
       "      <th></th>\n",
       "      <th>project</th>\n",
       "      <th>authors</th>\n",
       "      <th>commits</th>\n",
       "      <th>ratio_authors</th>\n",
       "      <th>ratio_commits</th>\n",
       "    </tr>\n",
       "  </thead>\n",
       "  <tbody>\n",
       "    <tr>\n",
       "      <th>0</th>\n",
       "      <td>623.0</td>\n",
       "      <td>13175.0</td>\n",
       "      <td>Packaging-deb</td>\n",
       "      <td>14.361457</td>\n",
       "      <td>8.536736</td>\n",
       "    </tr>\n",
       "    <tr>\n",
       "      <th>0</th>\n",
       "      <td>31.0</td>\n",
       "      <td>1002.0</td>\n",
       "      <td>murano</td>\n",
       "      <td>21.379310</td>\n",
       "      <td>27.073764</td>\n",
       "    </tr>\n",
       "    <tr>\n",
       "      <th>0</th>\n",
       "      <td>145.0</td>\n",
       "      <td>2303.0</td>\n",
       "      <td>Infrastructure</td>\n",
       "      <td>11.214230</td>\n",
       "      <td>4.849442</td>\n",
       "    </tr>\n",
       "    <tr>\n",
       "      <th>0</th>\n",
       "      <td>48.0</td>\n",
       "      <td>4518.0</td>\n",
       "      <td>fuel</td>\n",
       "      <td>14.634146</td>\n",
       "      <td>17.884570</td>\n",
       "    </tr>\n",
       "    <tr>\n",
       "      <th>0</th>\n",
       "      <td>99.0</td>\n",
       "      <td>858.0</td>\n",
       "      <td>neutron</td>\n",
       "      <td>15.840000</td>\n",
       "      <td>7.279824</td>\n",
       "    </tr>\n",
       "    <tr>\n",
       "      <th>0</th>\n",
       "      <td>9.0</td>\n",
       "      <td>639.0</td>\n",
       "      <td>OpenStack Charms</td>\n",
       "      <td>8.181818</td>\n",
       "      <td>3.438072</td>\n",
       "    </tr>\n",
       "    <tr>\n",
       "      <th>0</th>\n",
       "      <td>145.0</td>\n",
       "      <td>3080.0</td>\n",
       "      <td>Documentation</td>\n",
       "      <td>20.393812</td>\n",
       "      <td>37.211550</td>\n",
       "    </tr>\n",
       "    <tr>\n",
       "      <th>0</th>\n",
       "      <td>121.0</td>\n",
       "      <td>891.0</td>\n",
       "      <td>nova</td>\n",
       "      <td>16.285330</td>\n",
       "      <td>6.913944</td>\n",
       "    </tr>\n",
       "    <tr>\n",
       "      <th>0</th>\n",
       "      <td>57.0</td>\n",
       "      <td>281.0</td>\n",
       "      <td>Telemetry</td>\n",
       "      <td>21.590909</td>\n",
       "      <td>5.624500</td>\n",
       "    </tr>\n",
       "    <tr>\n",
       "      <th>0</th>\n",
       "      <td>23.0</td>\n",
       "      <td>377.0</td>\n",
       "      <td>OpenStackAnsible</td>\n",
       "      <td>13.372093</td>\n",
       "      <td>3.270866</td>\n",
       "    </tr>\n",
       "    <tr>\n",
       "      <th>0</th>\n",
       "      <td>40.0</td>\n",
       "      <td>663.0</td>\n",
       "      <td>tripleo</td>\n",
       "      <td>11.204482</td>\n",
       "      <td>4.850746</td>\n",
       "    </tr>\n",
       "    <tr>\n",
       "      <th>0</th>\n",
       "      <td>44.0</td>\n",
       "      <td>312.0</td>\n",
       "      <td>octavia</td>\n",
       "      <td>11.956522</td>\n",
       "      <td>8.208366</td>\n",
       "    </tr>\n",
       "    <tr>\n",
       "      <th>0</th>\n",
       "      <td>96.0</td>\n",
       "      <td>949.0</td>\n",
       "      <td>horizon</td>\n",
       "      <td>22.748815</td>\n",
       "      <td>25.333689</td>\n",
       "    </tr>\n",
       "    <tr>\n",
       "      <th>0</th>\n",
       "      <td>77.0</td>\n",
       "      <td>532.0</td>\n",
       "      <td>cinder</td>\n",
       "      <td>13.898917</td>\n",
       "      <td>9.646419</td>\n",
       "    </tr>\n",
       "    <tr>\n",
       "      <th>0</th>\n",
       "      <td>32.0</td>\n",
       "      <td>154.0</td>\n",
       "      <td>kolla</td>\n",
       "      <td>16.410256</td>\n",
       "      <td>3.985507</td>\n",
       "    </tr>\n",
       "    <tr>\n",
       "      <th>0</th>\n",
       "      <td>54.0</td>\n",
       "      <td>217.0</td>\n",
       "      <td>heat</td>\n",
       "      <td>15.652174</td>\n",
       "      <td>3.174371</td>\n",
       "    </tr>\n",
       "    <tr>\n",
       "      <th>0</th>\n",
       "      <td>101.0</td>\n",
       "      <td>650.0</td>\n",
       "      <td>Quality Assurance</td>\n",
       "      <td>13.760218</td>\n",
       "      <td>7.747318</td>\n",
       "    </tr>\n",
       "    <tr>\n",
       "      <th>0</th>\n",
       "      <td>59.0</td>\n",
       "      <td>416.0</td>\n",
       "      <td>oslo</td>\n",
       "      <td>11.706349</td>\n",
       "      <td>4.804250</td>\n",
       "    </tr>\n",
       "    <tr>\n",
       "      <th>0</th>\n",
       "      <td>33.0</td>\n",
       "      <td>894.0</td>\n",
       "      <td>Puppet OpenStack</td>\n",
       "      <td>9.455587</td>\n",
       "      <td>11.149913</td>\n",
       "    </tr>\n",
       "    <tr>\n",
       "      <th>0</th>\n",
       "      <td>56.0</td>\n",
       "      <td>621.0</td>\n",
       "      <td>keystone</td>\n",
       "      <td>15.217391</td>\n",
       "      <td>10.482782</td>\n",
       "    </tr>\n",
       "    <tr>\n",
       "      <th>0</th>\n",
       "      <td>43.0</td>\n",
       "      <td>1172.0</td>\n",
       "      <td>ironic</td>\n",
       "      <td>14.478114</td>\n",
       "      <td>24.209874</td>\n",
       "    </tr>\n",
       "    <tr>\n",
       "      <th>0</th>\n",
       "      <td>24.0</td>\n",
       "      <td>282.0</td>\n",
       "      <td>manila</td>\n",
       "      <td>16.216216</td>\n",
       "      <td>15.537190</td>\n",
       "    </tr>\n",
       "    <tr>\n",
       "      <th>0</th>\n",
       "      <td>9.0</td>\n",
       "      <td>36.0</td>\n",
       "      <td>notavailable</td>\n",
       "      <td>8.108108</td>\n",
       "      <td>1.066983</td>\n",
       "    </tr>\n",
       "    <tr>\n",
       "      <th>0</th>\n",
       "      <td>28.0</td>\n",
       "      <td>379.0</td>\n",
       "      <td>sahara</td>\n",
       "      <td>15.819209</td>\n",
       "      <td>8.212351</td>\n",
       "    </tr>\n",
       "    <tr>\n",
       "      <th>0</th>\n",
       "      <td>18.0</td>\n",
       "      <td>167.0</td>\n",
       "      <td>monasca</td>\n",
       "      <td>13.533835</td>\n",
       "      <td>4.693648</td>\n",
       "    </tr>\n",
       "    <tr>\n",
       "      <th>0</th>\n",
       "      <td>35.0</td>\n",
       "      <td>209.0</td>\n",
       "      <td>swift</td>\n",
       "      <td>14.583333</td>\n",
       "      <td>7.706490</td>\n",
       "    </tr>\n",
       "    <tr>\n",
       "      <th>0</th>\n",
       "      <td>31.0</td>\n",
       "      <td>190.0</td>\n",
       "      <td>rally</td>\n",
       "      <td>15.196078</td>\n",
       "      <td>9.099617</td>\n",
       "    </tr>\n",
       "    <tr>\n",
       "      <th>0</th>\n",
       "      <td>16.0</td>\n",
       "      <td>171.0</td>\n",
       "      <td>senlin</td>\n",
       "      <td>32.653061</td>\n",
       "      <td>5.765341</td>\n",
       "    </tr>\n",
       "    <tr>\n",
       "      <th>0</th>\n",
       "      <td>57.0</td>\n",
       "      <td>234.0</td>\n",
       "      <td>glance</td>\n",
       "      <td>18.811881</td>\n",
       "      <td>10.077519</td>\n",
       "    </tr>\n",
       "    <tr>\n",
       "      <th>0</th>\n",
       "      <td>32.0</td>\n",
       "      <td>214.0</td>\n",
       "      <td>trove</td>\n",
       "      <td>19.277108</td>\n",
       "      <td>11.536388</td>\n",
       "    </tr>\n",
       "    <tr>\n",
       "      <th>0</th>\n",
       "      <td>20.0</td>\n",
       "      <td>64.0</td>\n",
       "      <td>Chef OpenStack</td>\n",
       "      <td>19.417476</td>\n",
       "      <td>2.550817</td>\n",
       "    </tr>\n",
       "    <tr>\n",
       "      <th>0</th>\n",
       "      <td>26.0</td>\n",
       "      <td>315.0</td>\n",
       "      <td>magnum</td>\n",
       "      <td>17.931034</td>\n",
       "      <td>22.292994</td>\n",
       "    </tr>\n",
       "    <tr>\n",
       "      <th>0</th>\n",
       "      <td>10.0</td>\n",
       "      <td>59.0</td>\n",
       "      <td>designate</td>\n",
       "      <td>7.751938</td>\n",
       "      <td>5.263158</td>\n",
       "    </tr>\n",
       "    <tr>\n",
       "      <th>0</th>\n",
       "      <td>37.0</td>\n",
       "      <td>385.0</td>\n",
       "      <td>OpenStackClient</td>\n",
       "      <td>18.407960</td>\n",
       "      <td>19.201995</td>\n",
       "    </tr>\n",
       "    <tr>\n",
       "      <th>0</th>\n",
       "      <td>26.0</td>\n",
       "      <td>117.0</td>\n",
       "      <td>Security</td>\n",
       "      <td>22.033898</td>\n",
       "      <td>7.758621</td>\n",
       "    </tr>\n",
       "    <tr>\n",
       "      <th>0</th>\n",
       "      <td>13.0</td>\n",
       "      <td>138.0</td>\n",
       "      <td>mistral</td>\n",
       "      <td>13.000000</td>\n",
       "      <td>8.151211</td>\n",
       "    </tr>\n",
       "    <tr>\n",
       "      <th>0</th>\n",
       "      <td>10.0</td>\n",
       "      <td>239.0</td>\n",
       "      <td>congress</td>\n",
       "      <td>12.987013</td>\n",
       "      <td>24.044266</td>\n",
       "    </tr>\n",
       "    <tr>\n",
       "      <th>0</th>\n",
       "      <td>19.0</td>\n",
       "      <td>49.0</td>\n",
       "      <td>Release Management</td>\n",
       "      <td>11.377246</td>\n",
       "      <td>1.724745</td>\n",
       "    </tr>\n",
       "    <tr>\n",
       "      <th>0</th>\n",
       "      <td>27.0</td>\n",
       "      <td>142.0</td>\n",
       "      <td>barbican</td>\n",
       "      <td>19.424460</td>\n",
       "      <td>8.722359</td>\n",
       "    </tr>\n",
       "    <tr>\n",
       "      <th>0</th>\n",
       "      <td>19.0</td>\n",
       "      <td>184.0</td>\n",
       "      <td>zaqar</td>\n",
       "      <td>17.757009</td>\n",
       "      <td>18.852459</td>\n",
       "    </tr>\n",
       "    <tr>\n",
       "      <th>0</th>\n",
       "      <td>33.0</td>\n",
       "      <td>180.0</td>\n",
       "      <td>tacker</td>\n",
       "      <td>22.758621</td>\n",
       "      <td>22.988506</td>\n",
       "    </tr>\n",
       "    <tr>\n",
       "      <th>0</th>\n",
       "      <td>6.0</td>\n",
       "      <td>15.0</td>\n",
       "      <td>freezer</td>\n",
       "      <td>12.000000</td>\n",
       "      <td>1.726122</td>\n",
       "    </tr>\n",
       "    <tr>\n",
       "      <th>0</th>\n",
       "      <td>6.0</td>\n",
       "      <td>45.0</td>\n",
       "      <td>solum</td>\n",
       "      <td>10.169492</td>\n",
       "      <td>5.415162</td>\n",
       "    </tr>\n",
       "    <tr>\n",
       "      <th>0</th>\n",
       "      <td>11.0</td>\n",
       "      <td>167.0</td>\n",
       "      <td>vitrage</td>\n",
       "      <td>45.833333</td>\n",
       "      <td>28.842832</td>\n",
       "    </tr>\n",
       "    <tr>\n",
       "      <th>0</th>\n",
       "      <td>13.0</td>\n",
       "      <td>46.0</td>\n",
       "      <td>watcher</td>\n",
       "      <td>23.636364</td>\n",
       "      <td>9.368635</td>\n",
       "    </tr>\n",
       "    <tr>\n",
       "      <th>0</th>\n",
       "      <td>41.0</td>\n",
       "      <td>109.0</td>\n",
       "      <td>requirements</td>\n",
       "      <td>11.581921</td>\n",
       "      <td>5.025357</td>\n",
       "    </tr>\n",
       "    <tr>\n",
       "      <th>0</th>\n",
       "      <td>13.0</td>\n",
       "      <td>226.0</td>\n",
       "      <td>dragonflow</td>\n",
       "      <td>30.952381</td>\n",
       "      <td>25.799087</td>\n",
       "    </tr>\n",
       "    <tr>\n",
       "      <th>0</th>\n",
       "      <td>8.0</td>\n",
       "      <td>41.0</td>\n",
       "      <td>tricircle</td>\n",
       "      <td>72.727273</td>\n",
       "      <td>128.125000</td>\n",
       "    </tr>\n",
       "    <tr>\n",
       "      <th>0</th>\n",
       "      <td>7.0</td>\n",
       "      <td>41.0</td>\n",
       "      <td>searchlight</td>\n",
       "      <td>14.285714</td>\n",
       "      <td>8.932462</td>\n",
       "    </tr>\n",
       "    <tr>\n",
       "      <th>0</th>\n",
       "      <td>2.0</td>\n",
       "      <td>5.0</td>\n",
       "      <td>ec2-api</td>\n",
       "      <td>13.333333</td>\n",
       "      <td>1.798561</td>\n",
       "    </tr>\n",
       "    <tr>\n",
       "      <th>0</th>\n",
       "      <td>8.0</td>\n",
       "      <td>12.0</td>\n",
       "      <td>karbor</td>\n",
       "      <td>38.095238</td>\n",
       "      <td>7.272727</td>\n",
       "    </tr>\n",
       "    <tr>\n",
       "      <th>0</th>\n",
       "      <td>9.0</td>\n",
       "      <td>111.0</td>\n",
       "      <td>kuryr</td>\n",
       "      <td>19.565217</td>\n",
       "      <td>33.035714</td>\n",
       "    </tr>\n",
       "    <tr>\n",
       "      <th>0</th>\n",
       "      <td>7.0</td>\n",
       "      <td>54.0</td>\n",
       "      <td>RefStack</td>\n",
       "      <td>18.421053</td>\n",
       "      <td>12.676056</td>\n",
       "    </tr>\n",
       "    <tr>\n",
       "      <th>0</th>\n",
       "      <td>3.0</td>\n",
       "      <td>47.0</td>\n",
       "      <td>storlets</td>\n",
       "      <td>16.666667</td>\n",
       "      <td>16.607774</td>\n",
       "    </tr>\n",
       "    <tr>\n",
       "      <th>0</th>\n",
       "      <td>10.0</td>\n",
       "      <td>97.0</td>\n",
       "      <td>zun</td>\n",
       "      <td>38.461538</td>\n",
       "      <td>47.783251</td>\n",
       "    </tr>\n",
       "    <tr>\n",
       "      <th>0</th>\n",
       "      <td>5.0</td>\n",
       "      <td>33.0</td>\n",
       "      <td>winstackers</td>\n",
       "      <td>15.151515</td>\n",
       "      <td>7.951807</td>\n",
       "    </tr>\n",
       "    <tr>\n",
       "      <th>0</th>\n",
       "      <td>4.0</td>\n",
       "      <td>6.0</td>\n",
       "      <td>cloudkitty</td>\n",
       "      <td>10.256410</td>\n",
       "      <td>1.973684</td>\n",
       "    </tr>\n",
       "    <tr>\n",
       "      <th>0</th>\n",
       "      <td>2.0</td>\n",
       "      <td>22.0</td>\n",
       "      <td>Packaging-rpm</td>\n",
       "      <td>6.896552</td>\n",
       "      <td>2.906209</td>\n",
       "    </tr>\n",
       "    <tr>\n",
       "      <th>0</th>\n",
       "      <td>6.0</td>\n",
       "      <td>17.0</td>\n",
       "      <td>Community App Catalog</td>\n",
       "      <td>10.714286</td>\n",
       "      <td>4.632153</td>\n",
       "    </tr>\n",
       "    <tr>\n",
       "      <th>0</th>\n",
       "      <td>1.0</td>\n",
       "      <td>18.0</td>\n",
       "      <td>I18n</td>\n",
       "      <td>7.142857</td>\n",
       "      <td>20.000000</td>\n",
       "    </tr>\n",
       "  </tbody>\n",
       "</table>\n",
       "</div>"
      ],
      "text/plain": [
       "   project  authors                commits  ratio_authors  ratio_commits\n",
       "0    623.0  13175.0          Packaging-deb      14.361457       8.536736\n",
       "0     31.0   1002.0                 murano      21.379310      27.073764\n",
       "0    145.0   2303.0         Infrastructure      11.214230       4.849442\n",
       "0     48.0   4518.0                   fuel      14.634146      17.884570\n",
       "0     99.0    858.0                neutron      15.840000       7.279824\n",
       "0      9.0    639.0       OpenStack Charms       8.181818       3.438072\n",
       "0    145.0   3080.0          Documentation      20.393812      37.211550\n",
       "0    121.0    891.0                   nova      16.285330       6.913944\n",
       "0     57.0    281.0              Telemetry      21.590909       5.624500\n",
       "0     23.0    377.0       OpenStackAnsible      13.372093       3.270866\n",
       "0     40.0    663.0                tripleo      11.204482       4.850746\n",
       "0     44.0    312.0                octavia      11.956522       8.208366\n",
       "0     96.0    949.0                horizon      22.748815      25.333689\n",
       "0     77.0    532.0                 cinder      13.898917       9.646419\n",
       "0     32.0    154.0                  kolla      16.410256       3.985507\n",
       "0     54.0    217.0                   heat      15.652174       3.174371\n",
       "0    101.0    650.0      Quality Assurance      13.760218       7.747318\n",
       "0     59.0    416.0                   oslo      11.706349       4.804250\n",
       "0     33.0    894.0       Puppet OpenStack       9.455587      11.149913\n",
       "0     56.0    621.0               keystone      15.217391      10.482782\n",
       "0     43.0   1172.0                 ironic      14.478114      24.209874\n",
       "0     24.0    282.0                 manila      16.216216      15.537190\n",
       "0      9.0     36.0           notavailable       8.108108       1.066983\n",
       "0     28.0    379.0                 sahara      15.819209       8.212351\n",
       "0     18.0    167.0                monasca      13.533835       4.693648\n",
       "0     35.0    209.0                  swift      14.583333       7.706490\n",
       "0     31.0    190.0                  rally      15.196078       9.099617\n",
       "0     16.0    171.0                 senlin      32.653061       5.765341\n",
       "0     57.0    234.0                 glance      18.811881      10.077519\n",
       "0     32.0    214.0                  trove      19.277108      11.536388\n",
       "0     20.0     64.0         Chef OpenStack      19.417476       2.550817\n",
       "0     26.0    315.0                 magnum      17.931034      22.292994\n",
       "0     10.0     59.0              designate       7.751938       5.263158\n",
       "0     37.0    385.0        OpenStackClient      18.407960      19.201995\n",
       "0     26.0    117.0               Security      22.033898       7.758621\n",
       "0     13.0    138.0                mistral      13.000000       8.151211\n",
       "0     10.0    239.0               congress      12.987013      24.044266\n",
       "0     19.0     49.0     Release Management      11.377246       1.724745\n",
       "0     27.0    142.0               barbican      19.424460       8.722359\n",
       "0     19.0    184.0                  zaqar      17.757009      18.852459\n",
       "0     33.0    180.0                 tacker      22.758621      22.988506\n",
       "0      6.0     15.0                freezer      12.000000       1.726122\n",
       "0      6.0     45.0                  solum      10.169492       5.415162\n",
       "0     11.0    167.0                vitrage      45.833333      28.842832\n",
       "0     13.0     46.0                watcher      23.636364       9.368635\n",
       "0     41.0    109.0           requirements      11.581921       5.025357\n",
       "0     13.0    226.0             dragonflow      30.952381      25.799087\n",
       "0      8.0     41.0              tricircle      72.727273     128.125000\n",
       "0      7.0     41.0            searchlight      14.285714       8.932462\n",
       "0      2.0      5.0                ec2-api      13.333333       1.798561\n",
       "0      8.0     12.0                 karbor      38.095238       7.272727\n",
       "0      9.0    111.0                  kuryr      19.565217      33.035714\n",
       "0      7.0     54.0               RefStack      18.421053      12.676056\n",
       "0      3.0     47.0               storlets      16.666667      16.607774\n",
       "0     10.0     97.0                    zun      38.461538      47.783251\n",
       "0      5.0     33.0            winstackers      15.151515       7.951807\n",
       "0      4.0      6.0             cloudkitty      10.256410       1.973684\n",
       "0      2.0     22.0          Packaging-rpm       6.896552       2.906209\n",
       "0      6.0     17.0  Community App Catalog      10.714286       4.632153\n",
       "0      1.0     18.0                   I18n       7.142857      20.000000"
      ]
     },
     "execution_count": 53,
     "metadata": {},
     "output_type": "execute_result"
    }
   ],
   "source": [
    "df_summary"
   ]
  },
  {
   "cell_type": "code",
   "execution_count": null,
   "metadata": {
    "collapsed": true
   },
   "outputs": [],
   "source": []
  }
 ],
 "metadata": {
  "kernelspec": {
   "display_name": "Python 3",
   "language": "python",
   "name": "python3"
  },
  "language_info": {
   "codemirror_mode": {
    "name": "ipython",
    "version": 3
   },
   "file_extension": ".py",
   "mimetype": "text/x-python",
   "name": "python",
   "nbconvert_exporter": "python",
   "pygments_lexer": "ipython3",
   "version": "3.5.2"
  }
 },
 "nbformat": 4,
 "nbformat_minor": 1
}
